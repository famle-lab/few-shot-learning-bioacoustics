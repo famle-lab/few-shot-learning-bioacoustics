{
 "cells": [
  {
   "cell_type": "markdown",
   "id": "rubber-cigarette",
   "metadata": {},
   "source": [
    "    -[x] check variance of annotated segments in training data and validation data\n",
    "    -[x] check class imbalance in training data\n",
    "    -[x] percentage of annotated data in each recording"
   ]
  },
  {
   "cell_type": "code",
   "execution_count": 101,
   "id": "isolated-terror",
   "metadata": {},
   "outputs": [
    {
     "name": "stdout",
     "output_type": "stream",
     "text": [
      "The autoreload extension is already loaded. To reload it, use:\n",
      "  %reload_ext autoreload\n"
     ]
    }
   ],
   "source": [
    "%load_ext autoreload\n",
    "%autoreload 2\n",
    "\n",
    "import os\n",
    "import sys\n",
    "module_path = os.path.abspath(os.path.join('..'))\n",
    "if module_path not in sys.path:\n",
    "    sys.path.append(module_path)\n",
    "\n",
    "import pandas as pd\n",
    "import numpy as np\n",
    "import glob\n",
    "\n",
    "import IPython.display as ipd\n",
    "\n",
    "import explore\n",
    "\n",
    "\n",
    "import librosa\n",
    "import librosa.display\n",
    "import matplotlib.pyplot as plt\n"
   ]
  },
  {
   "cell_type": "code",
   "execution_count": 102,
   "id": "retired-projection",
   "metadata": {},
   "outputs": [],
   "source": [
    "root_path = '/mnt/storage_1/datasets/bioacoustics_dcase2022/Development_Set/Training_Set/'\n",
    "csv_paths = glob.glob(os.path.join(root_path, '*/*.csv'))\n",
    "wav_paths = [x.replace('csv', 'wav') for x in csv_paths]"
   ]
  },
  {
   "cell_type": "code",
   "execution_count": 103,
   "id": "thrown-hurricane",
   "metadata": {},
   "outputs": [],
   "source": [
    "subdirs = []\n",
    "for csv_path in csv_paths:\n",
    "    subdir = os.path.dirname(csv_path).split('/')[-1]\n",
    "    subdirs.append(subdir)\n",
    "\n",
    "subdirs = list(set(subdirs))\n",
    "\n",
    "stats = {}\n",
    "for subdir in subdirs:\n",
    "    stats[subdir] = {\n",
    "        'all_unknown' : [],\n",
    "        'one_pos' : [],\n",
    "        'many_pos' : [],\n",
    "        'all_neg' : [],\n",
    "        'rest' : [],\n",
    "        'count' : 0,\n",
    "        'classes' : [],\n",
    "    }\n",
    "    \n",
    "def event_time(row):\n",
    "    start_time = float(row[1][1])\n",
    "    end_time = float(row[1][2])\n",
    "    dt = end_time - start_time\n",
    "    return dt\n",
    "    \n",
    "def count_classes(row):\n",
    "    return len(row[1][3:])\n",
    "    \n",
    "def count_occurences(row, category):\n",
    "    classes = row[1][3:]\n",
    "    occurances = [1 if x else 0 for x in classes == category]\n",
    "    \n",
    "    return sum(occurances)\n",
    "\n",
    "one_pos     = lambda row: count_occurences(row, 'POS') == 1\n",
    "many_pos    = lambda row: count_occurences(row, 'POS') > 1\n",
    "all_unknown = lambda row: count_occurences(row, 'UNK') == count_classes(row)\n",
    "all_neg     = lambda row: count_occurences(row, 'NEG') == count_classes(row)\n",
    "    \n",
    "for csv_path in csv_paths:\n",
    "    subdir = os.path.dirname(csv_path).split('/')[-1]\n",
    "    annotation_df = pd.read_csv(csv_path)\n",
    "    for row in annotation_df.iterrows():\n",
    "        \n",
    "        stats[subdir]['classes'] += list(row[1][3:].keys())\n",
    "        \n",
    "        if one_pos(row):\n",
    "            stats[subdir]['one_pos'].append(row)\n",
    "        elif many_pos(row):\n",
    "            stats[subdir]['many_pos'].append(row)\n",
    "        elif all_unknown(row):\n",
    "            stats[subdir]['all_unknown'].append(row)\n",
    "        elif all_neg(row):\n",
    "            stats[subdir]['all_neg'].append(row)\n",
    "        else:\n",
    "            stats[subdir]['rest'].append(row)\n",
    "        stats[subdir]['count'] += 1"
   ]
  },
  {
   "cell_type": "code",
   "execution_count": 104,
   "id": "rolled-gasoline",
   "metadata": {},
   "outputs": [
    {
     "name": "stdout",
     "output_type": "stream",
     "text": [
      "------------------------------------------\n",
      "-  JD\n",
      "------------------------------------------\n",
      "nb_rest:  0\n",
      "nb_all_unknown:  2\n",
      "nb_all_neg:  0\n",
      "nb_one_pos:  355\n",
      "nb_many_pos:  0\n",
      "n_classes:  1\n",
      "------------------------------------------\n",
      "-  MT\n",
      "------------------------------------------\n",
      "nb_rest:  36\n",
      "nb_all_unknown:  24\n",
      "nb_all_neg:  0\n",
      "nb_one_pos:  1234\n",
      "nb_many_pos:  0\n",
      "n_classes:  4\n",
      "------------------------------------------\n",
      "-  HT\n",
      "------------------------------------------\n",
      "nb_rest:  8\n",
      "nb_all_unknown:  118\n",
      "nb_all_neg:  0\n",
      "nb_one_pos:  485\n",
      "nb_many_pos:  0\n",
      "n_classes:  5\n",
      "------------------------------------------\n",
      "-  BV\n",
      "------------------------------------------\n",
      "nb_rest:  1881\n",
      "nb_all_unknown:  3269\n",
      "nb_all_neg:  1214\n",
      "nb_one_pos:  2662\n",
      "nb_many_pos:  0\n",
      "n_classes:  11\n",
      "------------------------------------------\n",
      "-  WMW\n",
      "------------------------------------------\n",
      "nb_rest:  0\n",
      "nb_all_unknown:  0\n",
      "nb_all_neg:  0\n",
      "nb_one_pos:  2941\n",
      "nb_many_pos:  0\n",
      "n_classes:  26\n",
      "-----------------------------\n",
      "Total count:  14229\n",
      "Total pos:  7677\n",
      "Total not pos 6552\n"
     ]
    }
   ],
   "source": [
    "total_count = 0\n",
    "total_pos = 0\n",
    "total_not_pos = 0\n",
    "for subdir in subdirs:\n",
    "    print('------------------------------------------')\n",
    "    print('- ', subdir)\n",
    "    print('------------------------------------------')\n",
    "    print('nb_rest: ', len(stats[subdir]['rest']))\n",
    "    print('nb_all_unknown: ', len(stats[subdir]['all_unknown']))\n",
    "    print('nb_all_neg: ', len(stats[subdir]['all_neg']))\n",
    "    print('nb_one_pos: ', len(stats[subdir]['one_pos']))\n",
    "    print('nb_many_pos: ', len(stats[subdir]['many_pos']))\n",
    "\n",
    "    \n",
    "    \n",
    "    print('n_classes: ', len(list(set(stats[subdir]['classes']))))\n",
    "    \n",
    "    total_pos += len(stats[subdir]['one_pos'])\n",
    "    total_not_pos += stats[subdir]['count'] - len(stats[subdir]['one_pos'])\n",
    "    \n",
    "    total_count += stats[subdir]['count']\n",
    "    \n",
    "print(\"-----------------------------\")\n",
    "print(\"Total count: \", total_count)\n",
    "print(\"Total pos: \", total_pos)\n",
    "print(\"Total not pos\", total_not_pos)"
   ]
  },
  {
   "cell_type": "code",
   "execution_count": 105,
   "id": "tender-respect",
   "metadata": {
    "scrolled": false
   },
   "outputs": [
    {
     "name": "stdout",
     "output_type": "stream",
     "text": [
      "------------------------------------------\n",
      "-  JD\n",
      "------------------------------------------\n",
      "One pos     :  0.10443559154929866  +=  0.028481583151211614\n",
      "total time:  37.074635000001024\n",
      "Not one pos :  0.36053400000001545  +=  0.2668210000000073\n",
      "total time:  0.7210680000000309\n",
      "------------------------------------------\n",
      "-  MT\n",
      "------------------------------------------\n",
      "One pos     :  0.14665721231765666  +=  0.08923506190361506\n",
      "total time:  180.9749999999883\n",
      "Not one pos :  0.19188333333330831  +=  0.17031765338790913\n",
      "total time:  11.512999999998499\n",
      "------------------------------------------\n",
      "-  HT\n",
      "------------------------------------------\n",
      "One pos     :  1.3414886597938196  +=  0.8097168643339936\n",
      "total time:  650.6220000000025\n",
      "Not one pos :  1.4342063492063726  +=  0.6481614451718881\n",
      "total time:  180.71000000000294\n",
      "------------------------------------------\n",
      "-  BV\n",
      "------------------------------------------\n",
      "One pos     :  0.1499999999999841  +=  3.5834136701918384e-13\n",
      "total time:  399.29999999995766\n",
      "Not one pos :  0.1500000000000035  +=  3.382180976387508e-13\n",
      "total time:  954.6000000000222\n",
      "------------------------------------------\n",
      "-  WMW\n",
      "------------------------------------------\n",
      "One pos     :  1.3914154131247878  +=  2.768594679041569\n",
      "total time:  4092.1527300000007\n"
     ]
    },
    {
     "data": {
      "image/png": "[encoded data removed]",
      "text/plain": [
       "<Figure size 432x288 with 2 Axes>"
      ]
     },
     "metadata": {
      "needs_background": "light"
     },
     "output_type": "display_data"
    },
    {
     "data": {
      "image/png": "[encoded data removed]",
      "text/plain": [
       "<Figure size 432x288 with 2 Axes>"
      ]
     },
     "metadata": {
      "needs_background": "light"
     },
     "output_type": "display_data"
    },
    {
     "data": {
      "image/png": "[encoded data removed]",
      "text/plain": [
       "<Figure size 432x288 with 2 Axes>"
      ]
     },
     "metadata": {
      "needs_background": "light"
     },
     "output_type": "display_data"
    },
    {
     "data": {
      "image/png": "[encoded data removed]",
      "text/plain": [
       "<Figure size 432x288 with 2 Axes>"
      ]
     },
     "metadata": {
      "needs_background": "light"
     },
     "output_type": "display_data"
    },
    {
     "data": {
      "image/png": "[encoded data removed]",
      "text/plain": [
       "<Figure size 432x288 with 2 Axes>"
      ]
     },
     "metadata": {
      "needs_background": "light"
     },
     "output_type": "display_data"
    }
   ],
   "source": [
    "total_count = 0\n",
    "total_pos = 0\n",
    "total_not_pos = 0\n",
    "for subdir in subdirs:\n",
    "    print('------------------------------------------')\n",
    "    print('- ', subdir)\n",
    "    print('------------------------------------------')\n",
    "    rest = stats[subdir]['rest']\n",
    "    all_unknown = stats[subdir]['all_unknown']\n",
    "    all_neg = stats[subdir]['all_neg']\n",
    "    one_pos = stats[subdir]['one_pos']\n",
    "    not_one_pos = rest + all_unknown + all_neg\n",
    "    \n",
    "    one_pos_times = []\n",
    "    for row in one_pos:\n",
    "        one_pos_times.append(event_time(row))\n",
    "    not_one_pos_times = []\n",
    "    for row in not_one_pos:\n",
    "        not_one_pos_times.append(event_time(row))\n",
    "    \n",
    "    \n",
    "    fig, ax = plt.subplots(1, 2)\n",
    "    if len(one_pos_times) > 0:\n",
    "        print(\"One pos     : \", np.mean(one_pos_times),\" += \", np.std(one_pos_times))\n",
    "        print(\"total time: \", np.sum(one_pos_times))\n",
    "        ax[0].hist(one_pos_times)\n",
    "        ax[0].set_title('POS')\n",
    "        ax[0].set_xlabel('t [s]')\n",
    "        ax[0].set_ylabel('occurances')\n",
    "        #ax[0].set_xlim([0, 1])\n",
    "    if len(not_one_pos_times) > 0:\n",
    "        print(\"Not one pos : \", np.mean(not_one_pos_times),\" += \", np.std(not_one_pos_times))\n",
    "        print(\"total time: \", np.sum(not_one_pos_times))\n",
    "        ax[1].hist(not_one_pos_times)\n",
    "        ax[1].set_title('NEG/UNK')\n",
    "        ax[1].set_xlabel('t [s]')\n",
    "        ax[1].set_ylabel('occurances')\n",
    "        #ax[1].set_xlim([0, 1])\n",
    "    fig.suptitle(subdir)"
   ]
  },
  {
   "cell_type": "code",
   "execution_count": 108,
   "id": "transsexual-alaska",
   "metadata": {},
   "outputs": [],
   "source": [
    "classes = []\n",
    "for subdir in subdirs:    \n",
    "    classes += list(set(stats[subdir]['classes']))\n",
    "classes = list(set(classes))"
   ]
  },
  {
   "cell_type": "code",
   "execution_count": 110,
   "id": "demographic-nature",
   "metadata": {},
   "outputs": [
    {
     "data": {
      "text/plain": [
       "['SNMK',\n",
       " 'c_4',\n",
       " 'c_26',\n",
       " 'c_13',\n",
       " 'c_22',\n",
       " 'c_9',\n",
       " 'c_11',\n",
       " 'c_8',\n",
       " 'c_24',\n",
       " 'GIG',\n",
       " 'c_21',\n",
       " 'GRN',\n",
       " 'COYE',\n",
       " 'RBGR',\n",
       " 'CHSP',\n",
       " 'c_16',\n",
       " 'c_17',\n",
       " 'BTBW',\n",
       " 'c_12',\n",
       " 'BBWA',\n",
       " 'c_20',\n",
       " 'c_19',\n",
       " 'WHP',\n",
       " 'c_7',\n",
       " 'AMRE',\n",
       " 'WTSP',\n",
       " 'GCTH',\n",
       " 'c_23',\n",
       " 'c_6',\n",
       " 'c_14',\n",
       " 'SAVS',\n",
       " 'RUM',\n",
       " 'AGGM',\n",
       " 'c_2',\n",
       " 'c_25',\n",
       " 'CALL',\n",
       " 'SQT',\n",
       " 'SWTH',\n",
       " 'SOCM',\n",
       " 'c_3',\n",
       " 'CCMK',\n",
       " 'c_5',\n",
       " 'c_10',\n",
       " 'OVEN',\n",
       " 'c_15',\n",
       " 'c_1',\n",
       " 'c_18']"
      ]
     },
     "execution_count": 110,
     "metadata": {},
     "output_type": "execute_result"
    }
   ],
   "source": [
    "classes"
   ]
  },
  {
   "cell_type": "code",
   "execution_count": null,
   "id": "equipped-balloon",
   "metadata": {},
   "outputs": [],
   "source": []
  }
 ],
 "metadata": {
  "kernelspec": {
   "display_name": "Python 3",
   "language": "python",
   "name": "python3"
  },
  "language_info": {
   "codemirror_mode": {
    "name": "ipython",
    "version": 3
   },
   "file_extension": ".py",
   "mimetype": "text/x-python",
   "name": "python",
   "nbconvert_exporter": "python",
   "pygments_lexer": "ipython3",
   "version": "3.7.9"
  }
 },
 "nbformat": 4,
 "nbformat_minor": 5
}

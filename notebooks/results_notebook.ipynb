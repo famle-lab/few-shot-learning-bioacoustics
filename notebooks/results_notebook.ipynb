{
 "cells": [
  {
   "cell_type": "code",
   "execution_count": 1,
   "id": "divided-recording",
   "metadata": {},
   "outputs": [],
   "source": [
    "%load_ext autoreload\n",
    "%autoreload 2\n",
    "\n",
    "import os\n",
    "import sys\n",
    "module_path = os.path.abspath(os.path.join('..'))\n",
    "if module_path not in sys.path:\n",
    "    sys.path.append(module_path)\n",
    "\n",
    "import time\n",
    "import tqdm\n",
    "import glob\n",
    "import torch\n",
    "import librosa\n",
    "import time\n",
    "\n",
    "import numpy as np\n",
    "import pandas as pd\n",
    "import matplotlib.pyplot as plt\n",
    "import pomegranate as pg\n",
    "import scipy.signal\n",
    "\n",
    "import dcase_dataset\n",
    "import sed_utils\n",
    "import models\n",
    "import explore\n",
    "import post_processing as pp\n",
    "import evaluate_model\n",
    "import dcase_evaluation\n",
    "import stats_utils\n",
    "import copy"
   ]
  },
  {
   "cell_type": "code",
   "execution_count": 2,
   "id": "american-continuity",
   "metadata": {},
   "outputs": [
    {
     "name": "stdout",
     "output_type": "stream",
     "text": [
      "Number of parameters:  1732992\n"
     ]
    }
   ],
   "source": [
    "def count_parameters(model):\n",
    "    return sum(p.numel() for p in model.parameters() if p.requires_grad)\n",
    "\n",
    "model = models.get_model('resnet', 48, 16, 1024, 64, 1)\n",
    "print(\"Number of parameters: \", count_parameters(model))\n"
   ]
  },
  {
   "cell_type": "markdown",
   "id": "geological-bicycle",
   "metadata": {},
   "source": [
    "# Ensamble + Adaptive network predictions"
   ]
  },
  {
   "cell_type": "code",
   "execution_count": 3,
   "id": "rural-wilson",
   "metadata": {},
   "outputs": [],
   "source": [
    "def ensemble_prediction(csv_path, experiment_dir, tfs=[], runs=[], thrs=[], adaptive_embedding=False, window_size=None, hop_size_fraction=2):\n",
    "    n_shot = 5\n",
    "    \n",
    "    window_sizes = np.array([2048, 4096, 8192, 16384])\n",
    "    #window_sizes = np.array([4096, 8192, 16384])\n",
    "\n",
    "    \n",
    "    # use correct model\n",
    "    if adaptive_embedding:\n",
    "        n_shot_event_lengths = stats_utils.get_nshot_event_lengths(n_shot, csv_path)\n",
    "        average_event_length = np.min(n_shot_event_lengths) / 2\n",
    "        average_event_size = int(sample_rate * average_event_length)\n",
    "        window_size = window_sizes[np.argmin(np.sqrt(np.power(window_sizes-average_event_size, 2)))]\n",
    "        hop_size = window_size // hop_size_fraction\n",
    "    else:\n",
    "        window_size = window_size #window_sizes[2]\n",
    "        hop_size    = window_size // hop_size_fraction\n",
    "        #window_size = valid_conf['window_size']\n",
    "        \n",
    "    #print(\"csv_path = {}, window_size = {}, hop_size = {}\".format(csv_path, window_size, hop_size))\n",
    "    \n",
    "    # TODO: rewrite this a bit to loop over tfs and runs and create paths\n",
    "    experiment_paths = []\n",
    "    for tf in tfs:\n",
    "        for run in runs:\n",
    "            experiment_path = os.path.join(experiment_dir, tf, 'window_size_{}'.format(window_size), 'run_{}'.format(run))\n",
    "            experiment_paths.append(experiment_path)\n",
    "    #print(experiment_paths)\n",
    "    \n",
    "    y_predss = []\n",
    "    for experiment_path in experiment_paths: # ensamble predictions\n",
    "        # load the predictions\n",
    "        basename        = os.path.basename(csv_path).split('.')[0]\n",
    "        prediction_path = os.path.join(experiment_path, 'predictions', '{}_predictions_hop_size_{}.npy'.format(basename, hop_size))\n",
    "        times_path      = os.path.join(experiment_path, 'predictions', '{}_times_hop_size_{}.npy'.format(basename, hop_size))\n",
    "\n",
    "        if os.path.exists(prediction_path):\n",
    "            y_preds = np.load(prediction_path)\n",
    "            q_times = np.load(times_path)\n",
    "        else:\n",
    "            raise ValueError(\"predictions are missing: \", prediction_path)\n",
    "        y_predss.append(np.expand_dims(np.array(y_preds), axis=0))\n",
    "    y_predss = np.concatenate(y_predss, axis=0)\n",
    "    y_preds  = np.mean(y_predss, axis=0)\n",
    "    \n",
    "    sorted_predicitions, sorted_intervals = zip(*sorted(list(zip(y_preds, q_times)), key=lambda x: x[1][0]))\n",
    "    \n",
    "    ann_df = pd.read_csv(csv_path)\n",
    "    ann_df = ann_df.sort_values(by='Starttime', axis=0, ascending=True)\n",
    "    nth_event = evaluate_model.select_nth_event_with_value(ann_df, 5, value='POS')\n",
    "    skiptime = nth_event['Endtime']\n",
    "    \n",
    "    # evaluate for different thresholds\n",
    "    set_pos_events = {}\n",
    "    for thr in thrs:\n",
    "        set_pos_events[thr] = []\n",
    "\n",
    "    for thr in thrs:\n",
    "        binary_predictions = np.zeros(len(sorted_predicitions))\n",
    "\n",
    "        for idx in range(len(sorted_intervals)):\n",
    "            y_proba = sorted_predicitions[idx]\n",
    "            if y_proba > thr:\n",
    "                binary_predictions[idx] = 1\n",
    "\n",
    "        # apply a median filter\n",
    "        binary_predictions = scipy.signal.medfilt(binary_predictions, 1)\n",
    "\n",
    "        for pred, interval in zip(binary_predictions, sorted_intervals):\n",
    "            if pred == 1 and not interval[0] < skiptime:\n",
    "                    filename = os.path.basename(csv_path).replace('.csv', '.wav')\n",
    "                    set_pos_events[thr].append({\n",
    "                        'Audiofilename' : filename,\n",
    "                        'Starttime'     : interval[0],\n",
    "                        'Endtime'       : interval[1],\n",
    "                    })\n",
    "    \n",
    "    return set_pos_events\n",
    "\n",
    "def ensemble_set_prediction(csv_paths, experiment_dir, tfs, runs, thrs, adaptive_embedding=False, window_size=None, hop_size_fraction=2):\n",
    "    set_pos_events = {}\n",
    "    for thr in thrs:\n",
    "        set_pos_events[thr] = []\n",
    "\n",
    "    for csv_path in csv_paths:\n",
    "        #print(csv_path)\n",
    "        csv_pos_events = ensemble_prediction(\n",
    "            csv_path       = csv_path, \n",
    "            experiment_dir = experiment_dir, \n",
    "            tfs            = tfs,\n",
    "            runs           = runs,\n",
    "            thrs           = thrs, \n",
    "            adaptive_embedding=adaptive_embedding,\n",
    "            window_size    = window_size,\n",
    "            hop_size_fraction=hop_size_fraction,\n",
    "        )\n",
    "        #print(csv_pos_events)\n",
    "\n",
    "        for thr in thrs:\n",
    "            for pos_event in csv_pos_events[thr]:\n",
    "                set_pos_events[thr].append(pos_event)\n",
    "    return set_pos_events"
   ]
  },
  {
   "cell_type": "code",
   "execution_count": 4,
   "id": "fitting-architect",
   "metadata": {},
   "outputs": [],
   "source": [
    "def compute_scores(set_pos_events, thrs, sets, measures, prediction_path='test_pred_post_csv', run_evaluation=True):\n",
    "    set_scores = {}\n",
    "    for s in sets:\n",
    "        set_scores[s] = {}\n",
    "        for measure in measures:\n",
    "            set_scores[s][measure] = []\n",
    "            \n",
    "    for thr in thrs:\n",
    "        pos_events = set_pos_events[thr]\n",
    "\n",
    "        y_pred_df = pd.DataFrame(pos_events)\n",
    "        y_pred_df = pp.merge_predictions(y_pred_df)\n",
    "        y_pred_df = pp.adaptive_remove_unmatchable_predictions(y_pred_df, csv_paths, 5)\n",
    "\n",
    "        #pred_file_path = 'test_pred_post.csv'\n",
    "        pred_file_path = prediction_path\n",
    "        y_pred_df.to_csv(pred_file_path, index=False)\n",
    "\n",
    "        if run_evaluation:\n",
    "            overall_scores, scores_per_subset = dcase_evaluation.evaluate(\n",
    "                    pred_file_path = pred_file_path,\n",
    "                    ref_file_path  = root_dir,\n",
    "                    team_name      = \"TeamGBG\",\n",
    "                    dataset        = 'VAL',\n",
    "                    savepath       = './evals',\n",
    "                    metadata       = [],\n",
    "                    verbose        = False #True\n",
    "            )\n",
    "\n",
    "            for k in sets:\n",
    "                for measure in measures:\n",
    "                    if k == 'all':\n",
    "                        score = overall_scores[measure]\n",
    "                    else:\n",
    "                        score = scores_per_subset[k][measure]\n",
    "                    set_scores[k][measure].append(score)\n",
    "    return set_scores\n",
    "\n",
    "def evaluate_and_plot(configs, csv_paths, fig_path, prediction_path='test_pred_post_csv', run_evaluation=True):\n",
    "    fig = plt.figure(figsize=(4, 3))\n",
    "    for config in configs:\n",
    "        thrs = config['thrs']\n",
    "        runs = config['runs']\n",
    "        tfs  = config['tfs']\n",
    "        adaptive_embedding = config['adaptive_embedding']\n",
    "        experiment_dir = config['experiment_dir']\n",
    "        hop_size_fraction=config['hop_size_fraction']\n",
    "        \n",
    "        if not adaptive_embedding:\n",
    "            window_size = config['window_size']\n",
    "        else:\n",
    "            window_size = None\n",
    "\n",
    "        set_pos_events = ensemble_set_prediction(\n",
    "            csv_paths          = csv_paths,\n",
    "            experiment_dir     = experiment_dir,\n",
    "            tfs                = tfs,\n",
    "            runs               = runs,\n",
    "            thrs               = thrs,\n",
    "            adaptive_embedding = adaptive_embedding,\n",
    "            window_size        = window_size,\n",
    "            hop_size_fraction  = hop_size_fraction,\n",
    "        )\n",
    "\n",
    "        #print(set_pos_events)\n",
    "\n",
    "        sets = ['HB', 'PB', 'ME', 'all']\n",
    "        measures = ['f-measure', 'precision', 'recall']\n",
    "        set_scores = compute_scores(set_pos_events, thrs, sets, measures, prediction_path=prediction_path, run_evaluation=run_evaluation)\n",
    "\n",
    "        #plt.rcParams['text.usetex'] = True\n",
    "        \n",
    "        plt.rc('font', family='serif')\n",
    "        plt.rc('xtick', labelsize='x-small')\n",
    "        plt.rc('ytick', labelsize='x-small')\n",
    "\n",
    "        if run_evaluation:\n",
    "            plt.plot(thrs, set_scores['all']['f-measure'], label=config['label'])\n",
    "            plt.xlabel('Threshold')\n",
    "            plt.ylabel('F-score')\n",
    "            print(\"{} max f-measure = {}\".format(config['label'], np.max(set_scores['all']['f-measure'])))\n",
    "    plt.legend()\n",
    "    plt.savefig(fig_path)\n",
    "    return fig"
   ]
  },
  {
   "cell_type": "markdown",
   "id": "organic-awareness",
   "metadata": {},
   "source": [
    "# Submissions"
   ]
  },
  {
   "cell_type": "code",
   "execution_count": 19,
   "id": "anticipated-phrase",
   "metadata": {
    "scrolled": false
   },
   "outputs": [
    {
     "name": "stderr",
     "output_type": "stream",
     "text": [
      "/home/john/gits/dcase-bioacoustics-2022/post_processing.py:58: SettingWithCopyWarning: \n",
      "A value is trying to be set on a copy of a slice from a DataFrame.\n",
      "Try using .loc[row_indexer,col_indexer] = value instead\n",
      "\n",
      "See the caveats in the documentation: https://pandas.pydata.org/pandas-docs/stable/user_guide/indexing.html#returning-a-view-versus-a-copy\n",
      "  prediction['Group'] = gs\n",
      "No handles with labels found to put in legend.\n",
      "/home/john/gits/dcase-bioacoustics-2022/post_processing.py:58: SettingWithCopyWarning: \n",
      "A value is trying to be set on a copy of a slice from a DataFrame.\n",
      "Try using .loc[row_indexer,col_indexer] = value instead\n",
      "\n",
      "See the caveats in the documentation: https://pandas.pydata.org/pandas-docs/stable/user_guide/indexing.html#returning-a-view-versus-a-copy\n",
      "  prediction['Group'] = gs\n",
      "No handles with labels found to put in legend.\n",
      "/home/john/gits/dcase-bioacoustics-2022/post_processing.py:58: SettingWithCopyWarning: \n",
      "A value is trying to be set on a copy of a slice from a DataFrame.\n",
      "Try using .loc[row_indexer,col_indexer] = value instead\n",
      "\n",
      "See the caveats in the documentation: https://pandas.pydata.org/pandas-docs/stable/user_guide/indexing.html#returning-a-view-versus-a-copy\n",
      "  prediction['Group'] = gs\n",
      "No handles with labels found to put in legend.\n",
      "/home/john/gits/dcase-bioacoustics-2022/post_processing.py:58: SettingWithCopyWarning: \n",
      "A value is trying to be set on a copy of a slice from a DataFrame.\n",
      "Try using .loc[row_indexer,col_indexer] = value instead\n",
      "\n",
      "See the caveats in the documentation: https://pandas.pydata.org/pandas-docs/stable/user_guide/indexing.html#returning-a-view-versus-a-copy\n",
      "  prediction['Group'] = gs\n",
      "No handles with labels found to put in legend.\n"
     ]
    },
    {
     "data": {
      "image/png": "[encoded data removed]",
      "text/plain": [
       "<Figure size 288x216 with 1 Axes>"
      ]
     },
     "execution_count": 19,
     "metadata": {},
     "output_type": "execute_result"
    },
    {
     "data": {
      "image/png": "[encoded data removed]",
      "text/plain": [
       "<Figure size 288x216 with 1 Axes>"
      ]
     },
     "metadata": {
      "needs_background": "light"
     },
     "output_type": "display_data"
    },
    {
     "data": {
      "image/png": "[encoded data removed]",
      "text/plain": [
       "<Figure size 288x216 with 1 Axes>"
      ]
     },
     "metadata": {
      "needs_background": "light"
     },
     "output_type": "display_data"
    },
    {
     "data": {
      "image/png": "[encoded data removed]",
      "text/plain": [
       "<Figure size 288x216 with 1 Axes>"
      ]
     },
     "metadata": {
      "needs_background": "light"
     },
     "output_type": "display_data"
    },
    {
     "data": {
      "image/png": "[encoded data removed]",
      "text/plain": [
       "<Figure size 288x216 with 1 Axes>"
      ]
     },
     "metadata": {
      "needs_background": "light"
     },
     "output_type": "display_data"
    }
   ],
   "source": [
    "root_dir = '/mnt/storage_1/datasets/bioacoustics_dcase2022/Evaluation_Set_22050Hz/'\n",
    "#root_dir = '/mnt/storage_1/datasets/bioacoustics_dcase2022/Development_Set_22050Hz/Validation_Set/'\n",
    "\n",
    "run_evaluation = False\n",
    "csv_paths = glob.glob(os.path.join(root_dir, '*/*.csv'))\n",
    "\n",
    "martinsson_1 = {\n",
    "    'thrs'               : [0.6],\n",
    "    'runs'               : [0,1,2,3,4],\n",
    "    'tfs'                : ['tf_decibel', 'tf_pcen_biodiversity', 'tf_pcen_speech'],\n",
    "    'adaptive_embedding' : True,\n",
    "    'stats_group'        : 0,\n",
    "    'label'              : 'Ensemble all TF',\n",
    "    'experiment_dir'     : '../experiments/final_ensemble/',\n",
    "    'hop_size_fraction'  : 2,\n",
    "}\n",
    "\n",
    "evaluate_and_plot([martinsson_1], csv_paths, \"dummy.pdf\", prediction_path='Martinsson_RISE_task5_1.output.csv', run_evaluation=run_evaluation)\n",
    "\n",
    "martinsson_2 = {\n",
    "    'thrs'               : [0.5],\n",
    "    'runs'               : [0,1,2,3,4],\n",
    "    'tfs'                : ['tf_decibel', 'tf_pcen_biodiversity', 'tf_pcen_speech'],\n",
    "    'adaptive_embedding' : True,\n",
    "    'stats_group'        : 0,\n",
    "    'label'              : 'Ensemble all TF',\n",
    "    'experiment_dir'     : '../experiments/final_ensemble/',\n",
    "    'hop_size_fraction'  : 2,\n",
    "}\n",
    "\n",
    "evaluate_and_plot([martinsson_2], csv_paths, \"dummy.pdf\", prediction_path='Martinsson_RISE_task5_2.output.csv', run_evaluation=run_evaluation)\n",
    "\n",
    "martinsson_3 = {\n",
    "    'thrs'               : [0.6],\n",
    "    'runs'               : [0],\n",
    "    'tfs'                : ['tf_pcen_speech'],\n",
    "    'adaptive_embedding' : True,\n",
    "    'stats_group'        : 0,\n",
    "    'label'              : 'Ensemble all TF',\n",
    "    'experiment_dir'     : '../experiments/final_ensemble/',\n",
    "    'hop_size_fraction'  : 2,\n",
    "}\n",
    "\n",
    "evaluate_and_plot([martinsson_3], csv_paths, \"dummy.pdf\", prediction_path='Martinsson_RISE_task5_3.output.csv', run_evaluation=run_evaluation)\n",
    "\n",
    "\n",
    "martinsson_4 = {\n",
    "    'thrs'               : [0.5],\n",
    "    'runs'               : [0],\n",
    "    'tfs'                : ['tf_pcen_speech'],\n",
    "    'adaptive_embedding' : True,\n",
    "    'stats_group'        : 0,\n",
    "    'label'              : 'Ensemble all TF',\n",
    "    'experiment_dir'     : '../experiments/final_ensemble/',\n",
    "    'hop_size_fraction'  : 2,\n",
    "}\n",
    "\n",
    "evaluate_and_plot([martinsson_4], csv_paths, \"dummy.pdf\", prediction_path='Martinsson_RISE_task5_4.output.csv', run_evaluation=run_evaluation)"
   ]
  },
  {
   "cell_type": "markdown",
   "id": "minute-pendant",
   "metadata": {},
   "source": [
    "# Figure 2"
   ]
  },
  {
   "cell_type": "code",
   "execution_count": 6,
   "id": "persistent-heaven",
   "metadata": {
    "scrolled": true
   },
   "outputs": [
    {
     "name": "stderr",
     "output_type": "stream",
     "text": [
      "/home/john/gits/dcase-bioacoustics-2022/post_processing.py:58: SettingWithCopyWarning: \n",
      "A value is trying to be set on a copy of a slice from a DataFrame.\n",
      "Try using .loc[row_indexer,col_indexer] = value instead\n",
      "\n",
      "See the caveats in the documentation: https://pandas.pydata.org/pandas-docs/stable/user_guide/indexing.html#returning-a-view-versus-a-copy\n",
      "  prediction['Group'] = gs\n"
     ]
    },
    {
     "name": "stdout",
     "output_type": "stream",
     "text": [
      "ME scores:  {'precision': 0.13076923076923078, 'recall': 0.9807692307692307, 'fmeasure (percentage)': 23.077}\n",
      "PB scores:  {'precision': 0.004029936672423719, 'recall': 0.056, 'fmeasure (percentage)': 0.752}\n",
      "HB scores:  {'precision': 0.9871323529411765, 'recall': 0.8111782477341389, 'fmeasure (percentage)': 89.055}\n"
     ]
    },
    {
     "name": "stderr",
     "output_type": "stream",
     "text": [
      "/home/john/gits/dcase-bioacoustics-2022/post_processing.py:58: SettingWithCopyWarning: \n",
      "A value is trying to be set on a copy of a slice from a DataFrame.\n",
      "Try using .loc[row_indexer,col_indexer] = value instead\n",
      "\n",
      "See the caveats in the documentation: https://pandas.pydata.org/pandas-docs/stable/user_guide/indexing.html#returning-a-view-versus-a-copy\n",
      "  prediction['Group'] = gs\n"
     ]
    },
    {
     "name": "stdout",
     "output_type": "stream",
     "text": [
      "ME scores:  {'precision': 0.31875, 'recall': 0.9807692307692307, 'fmeasure (percentage)': 48.113}\n",
      "PB scores:  {'precision': 0.004687133817670494, 'recall': 0.08163265306122448, 'fmeasure (percentage)': 0.887}\n",
      "HB scores:  {'precision': 0.9779005524861878, 'recall': 0.8021148036253777, 'fmeasure (percentage)': 88.133}\n"
     ]
    },
    {
     "name": "stderr",
     "output_type": "stream",
     "text": [
      "/home/john/gits/dcase-bioacoustics-2022/post_processing.py:58: SettingWithCopyWarning: \n",
      "A value is trying to be set on a copy of a slice from a DataFrame.\n",
      "Try using .loc[row_indexer,col_indexer] = value instead\n",
      "\n",
      "See the caveats in the documentation: https://pandas.pydata.org/pandas-docs/stable/user_guide/indexing.html#returning-a-view-versus-a-copy\n",
      "  prediction['Group'] = gs\n"
     ]
    },
    {
     "name": "stdout",
     "output_type": "stream",
     "text": [
      "ME scores:  {'precision': 0.4336283185840708, 'recall': 0.9423076923076923, 'fmeasure (percentage)': 59.394}\n",
      "PB scores:  {'precision': 0.007347972972972973, 'recall': 0.3702127659574468, 'fmeasure (percentage)': 1.441}\n",
      "HB scores:  {'precision': 0.9721189591078067, 'recall': 0.7900302114803626, 'fmeasure (percentage)': 87.167}\n"
     ]
    },
    {
     "name": "stderr",
     "output_type": "stream",
     "text": [
      "/home/john/gits/dcase-bioacoustics-2022/post_processing.py:58: SettingWithCopyWarning: \n",
      "A value is trying to be set on a copy of a slice from a DataFrame.\n",
      "Try using .loc[row_indexer,col_indexer] = value instead\n",
      "\n",
      "See the caveats in the documentation: https://pandas.pydata.org/pandas-docs/stable/user_guide/indexing.html#returning-a-view-versus-a-copy\n",
      "  prediction['Group'] = gs\n"
     ]
    },
    {
     "name": "stdout",
     "output_type": "stream",
     "text": [
      "ME scores:  {'precision': 0.4897959183673469, 'recall': 0.9230769230769231, 'fmeasure (percentage)': 64.0}\n",
      "PB scores:  {'precision': 0.0161311825089988, 'recall': 0.5148936170212766, 'fmeasure (percentage)': 3.128}\n",
      "HB scores:  {'precision': 0.959409594095941, 'recall': 0.7854984894259819, 'fmeasure (percentage)': 86.379}\n"
     ]
    },
    {
     "name": "stderr",
     "output_type": "stream",
     "text": [
      "/home/john/gits/dcase-bioacoustics-2022/post_processing.py:58: SettingWithCopyWarning: \n",
      "A value is trying to be set on a copy of a slice from a DataFrame.\n",
      "Try using .loc[row_indexer,col_indexer] = value instead\n",
      "\n",
      "See the caveats in the documentation: https://pandas.pydata.org/pandas-docs/stable/user_guide/indexing.html#returning-a-view-versus-a-copy\n",
      "  prediction['Group'] = gs\n"
     ]
    },
    {
     "name": "stdout",
     "output_type": "stream",
     "text": [
      "ME scores:  {'precision': 0.5222222222222223, 'recall': 0.9038461538461539, 'fmeasure (percentage)': 66.197}\n",
      "PB scores:  {'precision': 0.1029143897996357, 'recall': 0.4808510638297872, 'fmeasure (percentage)': 16.954}\n",
      "HB scores:  {'precision': 0.9536178107606679, 'recall': 0.7764350453172205, 'fmeasure (percentage)': 85.595}\n"
     ]
    },
    {
     "name": "stderr",
     "output_type": "stream",
     "text": [
      "/home/john/gits/dcase-bioacoustics-2022/post_processing.py:58: SettingWithCopyWarning: \n",
      "A value is trying to be set on a copy of a slice from a DataFrame.\n",
      "Try using .loc[row_indexer,col_indexer] = value instead\n",
      "\n",
      "See the caveats in the documentation: https://pandas.pydata.org/pandas-docs/stable/user_guide/indexing.html#returning-a-view-versus-a-copy\n",
      "  prediction['Group'] = gs\n"
     ]
    },
    {
     "name": "stdout",
     "output_type": "stream",
     "text": [
      "ME scores:  {'precision': 0.5625, 'recall': 0.8653846153846154, 'fmeasure (percentage)': 68.182}\n",
      "PB scores:  {'precision': 0.5389221556886228, 'recall': 0.3829787234042553, 'fmeasure (percentage)': 44.776}\n",
      "HB scores:  {'precision': 0.9386617100371747, 'recall': 0.7628398791540786, 'fmeasure (percentage)': 84.167}\n"
     ]
    },
    {
     "name": "stderr",
     "output_type": "stream",
     "text": [
      "/home/john/gits/dcase-bioacoustics-2022/post_processing.py:58: SettingWithCopyWarning: \n",
      "A value is trying to be set on a copy of a slice from a DataFrame.\n",
      "Try using .loc[row_indexer,col_indexer] = value instead\n",
      "\n",
      "See the caveats in the documentation: https://pandas.pydata.org/pandas-docs/stable/user_guide/indexing.html#returning-a-view-versus-a-copy\n",
      "  prediction['Group'] = gs\n"
     ]
    },
    {
     "name": "stdout",
     "output_type": "stream",
     "text": [
      "ME scores:  {'precision': 0.625, 'recall': 0.8653846153846154, 'fmeasure (percentage)': 72.581}\n",
      "PB scores:  {'precision': 0.7701149425287356, 'recall': 0.2851063829787234, 'fmeasure (percentage)': 41.615}\n",
      "HB scores:  {'precision': 0.931098696461825, 'recall': 0.7552870090634441, 'fmeasure (percentage)': 83.403}\n"
     ]
    },
    {
     "name": "stderr",
     "output_type": "stream",
     "text": [
      "/home/john/gits/dcase-bioacoustics-2022/post_processing.py:58: SettingWithCopyWarning: \n",
      "A value is trying to be set on a copy of a slice from a DataFrame.\n",
      "Try using .loc[row_indexer,col_indexer] = value instead\n",
      "\n",
      "See the caveats in the documentation: https://pandas.pydata.org/pandas-docs/stable/user_guide/indexing.html#returning-a-view-versus-a-copy\n",
      "  prediction['Group'] = gs\n"
     ]
    },
    {
     "name": "stdout",
     "output_type": "stream",
     "text": [
      "ME scores:  {'precision': 0.6935483870967742, 'recall': 0.8269230769230769, 'fmeasure (percentage)': 75.439}\n",
      "PB scores:  {'precision': 0.7083333333333334, 'recall': 0.13877551020408163, 'fmeasure (percentage)': 23.208}\n",
      "HB scores:  {'precision': 0.9059040590405905, 'recall': 0.7416918429003021, 'fmeasure (percentage)': 81.561}\n"
     ]
    },
    {
     "name": "stderr",
     "output_type": "stream",
     "text": [
      "/home/john/gits/dcase-bioacoustics-2022/post_processing.py:58: SettingWithCopyWarning: \n",
      "A value is trying to be set on a copy of a slice from a DataFrame.\n",
      "Try using .loc[row_indexer,col_indexer] = value instead\n",
      "\n",
      "See the caveats in the documentation: https://pandas.pydata.org/pandas-docs/stable/user_guide/indexing.html#returning-a-view-versus-a-copy\n",
      "  prediction['Group'] = gs\n"
     ]
    },
    {
     "name": "stdout",
     "output_type": "stream",
     "text": [
      "ME scores:  {'precision': 0.7674418604651163, 'recall': 0.6346153846153846, 'fmeasure (percentage)': 69.474}\n",
      "PB scores:  {'precision': 0.46153846153846156, 'recall': 0.023529411764705882, 'fmeasure (percentage)': 4.478}\n",
      "HB scores:  {'precision': 0.8571428571428571, 'recall': 0.6978851963746223, 'fmeasure (percentage)': 76.936}\n",
      "Ensemble max f-measure = 0.6137330362568361\n"
     ]
    },
    {
     "name": "stderr",
     "output_type": "stream",
     "text": [
      "/home/john/gits/dcase-bioacoustics-2022/post_processing.py:58: SettingWithCopyWarning: \n",
      "A value is trying to be set on a copy of a slice from a DataFrame.\n",
      "Try using .loc[row_indexer,col_indexer] = value instead\n",
      "\n",
      "See the caveats in the documentation: https://pandas.pydata.org/pandas-docs/stable/user_guide/indexing.html#returning-a-view-versus-a-copy\n",
      "  prediction['Group'] = gs\n"
     ]
    },
    {
     "name": "stdout",
     "output_type": "stream",
     "text": [
      "ME scores:  {'precision': 0.13896457765667575, 'recall': 0.9807692307692307, 'fmeasure (percentage)': 24.344}\n",
      "PB scores:  {'precision': 0.00226904376012966, 'recall': 0.028, 'fmeasure (percentage)': 0.42}\n",
      "HB scores:  {'precision': 0.9815837937384899, 'recall': 0.8051359516616314, 'fmeasure (percentage)': 88.465}\n"
     ]
    },
    {
     "name": "stderr",
     "output_type": "stream",
     "text": [
      "/home/john/gits/dcase-bioacoustics-2022/post_processing.py:58: SettingWithCopyWarning: \n",
      "A value is trying to be set on a copy of a slice from a DataFrame.\n",
      "Try using .loc[row_indexer,col_indexer] = value instead\n",
      "\n",
      "See the caveats in the documentation: https://pandas.pydata.org/pandas-docs/stable/user_guide/indexing.html#returning-a-view-versus-a-copy\n",
      "  prediction['Group'] = gs\n"
     ]
    },
    {
     "name": "stdout",
     "output_type": "stream",
     "text": [
      "ME scores:  {'precision': 0.25668449197860965, 'recall': 0.9230769230769231, 'fmeasure (percentage)': 40.167}\n",
      "PB scores:  {'precision': 0.0022670025188916876, 'recall': 0.07346938775510205, 'fmeasure (percentage)': 0.44}\n",
      "HB scores:  {'precision': 0.9705340699815838, 'recall': 0.7960725075528701, 'fmeasure (percentage)': 87.469}\n"
     ]
    },
    {
     "name": "stderr",
     "output_type": "stream",
     "text": [
      "/home/john/gits/dcase-bioacoustics-2022/post_processing.py:58: SettingWithCopyWarning: \n",
      "A value is trying to be set on a copy of a slice from a DataFrame.\n",
      "Try using .loc[row_indexer,col_indexer] = value instead\n",
      "\n",
      "See the caveats in the documentation: https://pandas.pydata.org/pandas-docs/stable/user_guide/indexing.html#returning-a-view-versus-a-copy\n",
      "  prediction['Group'] = gs\n"
     ]
    },
    {
     "name": "stdout",
     "output_type": "stream",
     "text": [
      "ME scores:  {'precision': 0.39669421487603307, 'recall': 0.9230769230769231, 'fmeasure (percentage)': 55.491}\n",
      "PB scores:  {'precision': 0.004747211013529551, 'recall': 0.2553191489361702, 'fmeasure (percentage)': 0.932}\n",
      "HB scores:  {'precision': 0.9595588235294118, 'recall': 0.7885196374622356, 'fmeasure (percentage)': 86.567}\n"
     ]
    },
    {
     "name": "stderr",
     "output_type": "stream",
     "text": [
      "/home/john/gits/dcase-bioacoustics-2022/post_processing.py:58: SettingWithCopyWarning: \n",
      "A value is trying to be set on a copy of a slice from a DataFrame.\n",
      "Try using .loc[row_indexer,col_indexer] = value instead\n",
      "\n",
      "See the caveats in the documentation: https://pandas.pydata.org/pandas-docs/stable/user_guide/indexing.html#returning-a-view-versus-a-copy\n",
      "  prediction['Group'] = gs\n"
     ]
    },
    {
     "name": "stdout",
     "output_type": "stream",
     "text": [
      "ME scores:  {'precision': 0.4948453608247423, 'recall': 0.9230769230769231, 'fmeasure (percentage)': 64.43}\n",
      "PB scores:  {'precision': 0.009119778519664522, 'recall': 0.4765957446808511, 'fmeasure (percentage)': 1.79}\n",
      "HB scores:  {'precision': 0.955719557195572, 'recall': 0.7824773413897281, 'fmeasure (percentage)': 86.047}\n"
     ]
    },
    {
     "name": "stderr",
     "output_type": "stream",
     "text": [
      "/home/john/gits/dcase-bioacoustics-2022/post_processing.py:58: SettingWithCopyWarning: \n",
      "A value is trying to be set on a copy of a slice from a DataFrame.\n",
      "Try using .loc[row_indexer,col_indexer] = value instead\n",
      "\n",
      "See the caveats in the documentation: https://pandas.pydata.org/pandas-docs/stable/user_guide/indexing.html#returning-a-view-versus-a-copy\n",
      "  prediction['Group'] = gs\n"
     ]
    },
    {
     "name": "stdout",
     "output_type": "stream",
     "text": [
      "ME scores:  {'precision': 0.5581395348837209, 'recall': 0.9230769230769231, 'fmeasure (percentage)': 69.565}\n",
      "PB scores:  {'precision': 0.022852479085900837, 'recall': 0.4765957446808511, 'fmeasure (percentage)': 4.361}\n",
      "HB scores:  {'precision': 0.9380692167577414, 'recall': 0.7779456193353474, 'fmeasure (percentage)': 85.054}\n"
     ]
    },
    {
     "name": "stderr",
     "output_type": "stream",
     "text": [
      "/home/john/gits/dcase-bioacoustics-2022/post_processing.py:58: SettingWithCopyWarning: \n",
      "A value is trying to be set on a copy of a slice from a DataFrame.\n",
      "Try using .loc[row_indexer,col_indexer] = value instead\n",
      "\n",
      "See the caveats in the documentation: https://pandas.pydata.org/pandas-docs/stable/user_guide/indexing.html#returning-a-view-versus-a-copy\n",
      "  prediction['Group'] = gs\n"
     ]
    },
    {
     "name": "stdout",
     "output_type": "stream",
     "text": [
      "ME scores:  {'precision': 0.5974025974025974, 'recall': 0.8846153846153846, 'fmeasure (percentage)': 71.318}\n",
      "PB scores:  {'precision': 0.09227467811158799, 'recall': 0.3659574468085106, 'fmeasure (percentage)': 14.739}\n",
      "HB scores:  {'precision': 0.9274047186932849, 'recall': 0.7719033232628398, 'fmeasure (percentage)': 84.254}\n"
     ]
    },
    {
     "name": "stderr",
     "output_type": "stream",
     "text": [
      "/home/john/gits/dcase-bioacoustics-2022/post_processing.py:58: SettingWithCopyWarning: \n",
      "A value is trying to be set on a copy of a slice from a DataFrame.\n",
      "Try using .loc[row_indexer,col_indexer] = value instead\n",
      "\n",
      "See the caveats in the documentation: https://pandas.pydata.org/pandas-docs/stable/user_guide/indexing.html#returning-a-view-versus-a-copy\n",
      "  prediction['Group'] = gs\n"
     ]
    },
    {
     "name": "stdout",
     "output_type": "stream",
     "text": [
      "ME scores:  {'precision': 0.6338028169014085, 'recall': 0.8653846153846154, 'fmeasure (percentage)': 73.171}\n",
      "PB scores:  {'precision': 0.31724137931034485, 'recall': 0.19574468085106383, 'fmeasure (percentage)': 24.211}\n",
      "HB scores:  {'precision': 0.92, 'recall': 0.7643504531722054, 'fmeasure (percentage)': 83.498}\n"
     ]
    },
    {
     "name": "stderr",
     "output_type": "stream",
     "text": [
      "/home/john/gits/dcase-bioacoustics-2022/post_processing.py:58: SettingWithCopyWarning: \n",
      "A value is trying to be set on a copy of a slice from a DataFrame.\n",
      "Try using .loc[row_indexer,col_indexer] = value instead\n",
      "\n",
      "See the caveats in the documentation: https://pandas.pydata.org/pandas-docs/stable/user_guide/indexing.html#returning-a-view-versus-a-copy\n",
      "  prediction['Group'] = gs\n"
     ]
    },
    {
     "name": "stdout",
     "output_type": "stream",
     "text": [
      "ME scores:  {'precision': 0.6716417910447762, 'recall': 0.8653846153846154, 'fmeasure (percentage)': 75.63}\n",
      "PB scores:  {'precision': 0.5, 'recall': 0.04897959183673469, 'fmeasure (percentage)': 8.922}\n",
      "HB scores:  {'precision': 0.9084249084249084, 'recall': 0.7492447129909365, 'fmeasure (percentage)': 82.119}\n"
     ]
    },
    {
     "name": "stderr",
     "output_type": "stream",
     "text": [
      "/home/john/gits/dcase-bioacoustics-2022/post_processing.py:58: SettingWithCopyWarning: \n",
      "A value is trying to be set on a copy of a slice from a DataFrame.\n",
      "Try using .loc[row_indexer,col_indexer] = value instead\n",
      "\n",
      "See the caveats in the documentation: https://pandas.pydata.org/pandas-docs/stable/user_guide/indexing.html#returning-a-view-versus-a-copy\n",
      "  prediction['Group'] = gs\n"
     ]
    },
    {
     "name": "stdout",
     "output_type": "stream",
     "text": [
      "ME scores:  {'precision': 0.6615384615384615, 'recall': 0.8269230769230769, 'fmeasure (percentage)': 73.504}\n",
      "PB scores:  {'precision': 0.5714285714285714, 'recall': 0.01568627450980392, 'fmeasure (percentage)': 3.053}\n",
      "HB scores:  {'precision': 0.8697247706422019, 'recall': 0.716012084592145, 'fmeasure (percentage)': 78.542}\n",
      "Prediction 0 max f-measure = 0.4481136716981875\n"
     ]
    },
    {
     "name": "stderr",
     "output_type": "stream",
     "text": [
      "/home/john/gits/dcase-bioacoustics-2022/post_processing.py:58: SettingWithCopyWarning: \n",
      "A value is trying to be set on a copy of a slice from a DataFrame.\n",
      "Try using .loc[row_indexer,col_indexer] = value instead\n",
      "\n",
      "See the caveats in the documentation: https://pandas.pydata.org/pandas-docs/stable/user_guide/indexing.html#returning-a-view-versus-a-copy\n",
      "  prediction['Group'] = gs\n"
     ]
    },
    {
     "name": "stdout",
     "output_type": "stream",
     "text": [
      "ME scores:  {'precision': 0.04488330341113106, 'recall': 0.9615384615384616, 'fmeasure (percentage)': 8.576}\n",
      "PB scores:  {'precision': 0.013532763532763533, 'recall': 0.07755102040816327, 'fmeasure (percentage)': 2.304}\n",
      "HB scores:  {'precision': 0.981549815498155, 'recall': 0.8036253776435045, 'fmeasure (percentage)': 88.372}\n"
     ]
    },
    {
     "name": "stderr",
     "output_type": "stream",
     "text": [
      "/home/john/gits/dcase-bioacoustics-2022/post_processing.py:58: SettingWithCopyWarning: \n",
      "A value is trying to be set on a copy of a slice from a DataFrame.\n",
      "Try using .loc[row_indexer,col_indexer] = value instead\n",
      "\n",
      "See the caveats in the documentation: https://pandas.pydata.org/pandas-docs/stable/user_guide/indexing.html#returning-a-view-versus-a-copy\n",
      "  prediction['Group'] = gs\n"
     ]
    },
    {
     "name": "stdout",
     "output_type": "stream",
     "text": [
      "ME scores:  {'precision': 0.17073170731707318, 'recall': 0.9423076923076923, 'fmeasure (percentage)': 28.909}\n",
      "PB scores:  {'precision': 0.008242664029014177, 'recall': 0.3191489361702128, 'fmeasure (percentage)': 1.607}\n",
      "HB scores:  {'precision': 0.9725776965265083, 'recall': 0.8036253776435045, 'fmeasure (percentage)': 88.007}\n"
     ]
    },
    {
     "name": "stderr",
     "output_type": "stream",
     "text": [
      "/home/john/gits/dcase-bioacoustics-2022/post_processing.py:58: SettingWithCopyWarning: \n",
      "A value is trying to be set on a copy of a slice from a DataFrame.\n",
      "Try using .loc[row_indexer,col_indexer] = value instead\n",
      "\n",
      "See the caveats in the documentation: https://pandas.pydata.org/pandas-docs/stable/user_guide/indexing.html#returning-a-view-versus-a-copy\n",
      "  prediction['Group'] = gs\n"
     ]
    },
    {
     "name": "stdout",
     "output_type": "stream",
     "text": [
      "ME scores:  {'precision': 0.35766423357664234, 'recall': 0.9423076923076923, 'fmeasure (percentage)': 51.852}\n",
      "PB scores:  {'precision': 0.008463286576287124, 'recall': 0.4595744680851064, 'fmeasure (percentage)': 1.662}\n",
      "HB scores:  {'precision': 0.9631675874769797, 'recall': 0.7900302114803626, 'fmeasure (percentage)': 86.805}\n"
     ]
    },
    {
     "name": "stderr",
     "output_type": "stream",
     "text": [
      "/home/john/gits/dcase-bioacoustics-2022/post_processing.py:58: SettingWithCopyWarning: \n",
      "A value is trying to be set on a copy of a slice from a DataFrame.\n",
      "Try using .loc[row_indexer,col_indexer] = value instead\n",
      "\n",
      "See the caveats in the documentation: https://pandas.pydata.org/pandas-docs/stable/user_guide/indexing.html#returning-a-view-versus-a-copy\n",
      "  prediction['Group'] = gs\n"
     ]
    },
    {
     "name": "stdout",
     "output_type": "stream",
     "text": [
      "ME scores:  {'precision': 0.44954128440366975, 'recall': 0.9423076923076923, 'fmeasure (percentage)': 60.87}\n",
      "PB scores:  {'precision': 0.010945908966523761, 'recall': 0.5106382978723404, 'fmeasure (percentage)': 2.143}\n",
      "HB scores:  {'precision': 0.9486238532110092, 'recall': 0.7809667673716012, 'fmeasure (percentage)': 85.667}\n"
     ]
    },
    {
     "name": "stderr",
     "output_type": "stream",
     "text": [
      "/home/john/gits/dcase-bioacoustics-2022/post_processing.py:58: SettingWithCopyWarning: \n",
      "A value is trying to be set on a copy of a slice from a DataFrame.\n",
      "Try using .loc[row_indexer,col_indexer] = value instead\n",
      "\n",
      "See the caveats in the documentation: https://pandas.pydata.org/pandas-docs/stable/user_guide/indexing.html#returning-a-view-versus-a-copy\n",
      "  prediction['Group'] = gs\n"
     ]
    },
    {
     "name": "stdout",
     "output_type": "stream",
     "text": [
      "ME scores:  {'precision': 0.5104166666666666, 'recall': 0.9423076923076923, 'fmeasure (percentage)': 66.216}\n",
      "PB scores:  {'precision': 0.03680791834209712, 'recall': 0.5063829787234042, 'fmeasure (percentage)': 6.863}\n",
      "HB scores:  {'precision': 0.9375, 'recall': 0.770392749244713, 'fmeasure (percentage)': 84.577}\n"
     ]
    },
    {
     "name": "stderr",
     "output_type": "stream",
     "text": [
      "/home/john/gits/dcase-bioacoustics-2022/post_processing.py:58: SettingWithCopyWarning: \n",
      "A value is trying to be set on a copy of a slice from a DataFrame.\n",
      "Try using .loc[row_indexer,col_indexer] = value instead\n",
      "\n",
      "See the caveats in the documentation: https://pandas.pydata.org/pandas-docs/stable/user_guide/indexing.html#returning-a-view-versus-a-copy\n",
      "  prediction['Group'] = gs\n"
     ]
    },
    {
     "name": "stdout",
     "output_type": "stream",
     "text": [
      "ME scores:  {'precision': 0.5517241379310345, 'recall': 0.9230769230769231, 'fmeasure (percentage)': 69.065}\n",
      "PB scores:  {'precision': 0.1824561403508772, 'recall': 0.4425531914893617, 'fmeasure (percentage)': 25.839}\n",
      "HB scores:  {'precision': 0.9177330895795247, 'recall': 0.7583081570996979, 'fmeasure (percentage)': 83.044}\n"
     ]
    },
    {
     "name": "stderr",
     "output_type": "stream",
     "text": [
      "/home/john/gits/dcase-bioacoustics-2022/post_processing.py:58: SettingWithCopyWarning: \n",
      "A value is trying to be set on a copy of a slice from a DataFrame.\n",
      "Try using .loc[row_indexer,col_indexer] = value instead\n",
      "\n",
      "See the caveats in the documentation: https://pandas.pydata.org/pandas-docs/stable/user_guide/indexing.html#returning-a-view-versus-a-copy\n",
      "  prediction['Group'] = gs\n"
     ]
    },
    {
     "name": "stdout",
     "output_type": "stream",
     "text": [
      "ME scores:  {'precision': 0.5949367088607594, 'recall': 0.9038461538461539, 'fmeasure (percentage)': 71.756}\n",
      "PB scores:  {'precision': 0.5961538461538461, 'recall': 0.39574468085106385, 'fmeasure (percentage)': 47.57}\n",
      "HB scores:  {'precision': 0.8870673952641166, 'recall': 0.7356495468277946, 'fmeasure (percentage)': 80.429}\n"
     ]
    },
    {
     "name": "stderr",
     "output_type": "stream",
     "text": [
      "/home/john/gits/dcase-bioacoustics-2022/post_processing.py:58: SettingWithCopyWarning: \n",
      "A value is trying to be set on a copy of a slice from a DataFrame.\n",
      "Try using .loc[row_indexer,col_indexer] = value instead\n",
      "\n",
      "See the caveats in the documentation: https://pandas.pydata.org/pandas-docs/stable/user_guide/indexing.html#returning-a-view-versus-a-copy\n",
      "  prediction['Group'] = gs\n"
     ]
    },
    {
     "name": "stdout",
     "output_type": "stream",
     "text": [
      "ME scores:  {'precision': 0.6266666666666667, 'recall': 0.9038461538461539, 'fmeasure (percentage)': 74.016}\n",
      "PB scores:  {'precision': 0.7303370786516854, 'recall': 0.2708333333333333, 'fmeasure (percentage)': 39.514}\n",
      "HB scores:  {'precision': 0.8736059479553904, 'recall': 0.7099697885196374, 'fmeasure (percentage)': 78.333}\n"
     ]
    },
    {
     "name": "stderr",
     "output_type": "stream",
     "text": [
      "/home/john/gits/dcase-bioacoustics-2022/post_processing.py:58: SettingWithCopyWarning: \n",
      "A value is trying to be set on a copy of a slice from a DataFrame.\n",
      "Try using .loc[row_indexer,col_indexer] = value instead\n",
      "\n",
      "See the caveats in the documentation: https://pandas.pydata.org/pandas-docs/stable/user_guide/indexing.html#returning-a-view-versus-a-copy\n",
      "  prediction['Group'] = gs\n"
     ]
    },
    {
     "name": "stdout",
     "output_type": "stream",
     "text": [
      "ME scores:  {'precision': 0.6515151515151515, 'recall': 0.8269230769230769, 'fmeasure (percentage)': 72.881}\n",
      "PB scores:  {'precision': 0.6785714285714286, 'recall': 0.152, 'fmeasure (percentage)': 24.837}\n",
      "HB scores:  {'precision': 0.8596491228070176, 'recall': 0.6661631419939577, 'fmeasure (percentage)': 75.064}\n",
      "Prediction 1 max f-measure = 0.6330323833746836\n"
     ]
    },
    {
     "name": "stderr",
     "output_type": "stream",
     "text": [
      "/home/john/gits/dcase-bioacoustics-2022/post_processing.py:58: SettingWithCopyWarning: \n",
      "A value is trying to be set on a copy of a slice from a DataFrame.\n",
      "Try using .loc[row_indexer,col_indexer] = value instead\n",
      "\n",
      "See the caveats in the documentation: https://pandas.pydata.org/pandas-docs/stable/user_guide/indexing.html#returning-a-view-versus-a-copy\n",
      "  prediction['Group'] = gs\n"
     ]
    },
    {
     "name": "stdout",
     "output_type": "stream",
     "text": [
      "ME scores:  {'precision': 0.21030042918454936, 'recall': 0.9423076923076923, 'fmeasure (percentage)': 34.386}\n",
      "PB scores:  {'precision': 0.0026520802254268194, 'recall': 0.064, 'fmeasure (percentage)': 0.509}\n",
      "HB scores:  {'precision': 0.9558823529411765, 'recall': 0.7854984894259819, 'fmeasure (percentage)': 86.235}\n"
     ]
    },
    {
     "name": "stderr",
     "output_type": "stream",
     "text": [
      "/home/john/gits/dcase-bioacoustics-2022/post_processing.py:58: SettingWithCopyWarning: \n",
      "A value is trying to be set on a copy of a slice from a DataFrame.\n",
      "Try using .loc[row_indexer,col_indexer] = value instead\n",
      "\n",
      "See the caveats in the documentation: https://pandas.pydata.org/pandas-docs/stable/user_guide/indexing.html#returning-a-view-versus-a-copy\n",
      "  prediction['Group'] = gs\n"
     ]
    },
    {
     "name": "stdout",
     "output_type": "stream",
     "text": [
      "ME scores:  {'precision': 0.34532374100719426, 'recall': 0.9230769230769231, 'fmeasure (percentage)': 50.262}\n",
      "PB scores:  {'precision': 0.004879953152449736, 'recall': 0.10638297872340426, 'fmeasure (percentage)': 0.933}\n",
      "HB scores:  {'precision': 0.9537037037037037, 'recall': 0.7779456193353474, 'fmeasure (percentage)': 85.691}\n"
     ]
    },
    {
     "name": "stderr",
     "output_type": "stream",
     "text": [
      "/home/john/gits/dcase-bioacoustics-2022/post_processing.py:58: SettingWithCopyWarning: \n",
      "A value is trying to be set on a copy of a slice from a DataFrame.\n",
      "Try using .loc[row_indexer,col_indexer] = value instead\n",
      "\n",
      "See the caveats in the documentation: https://pandas.pydata.org/pandas-docs/stable/user_guide/indexing.html#returning-a-view-versus-a-copy\n",
      "  prediction['Group'] = gs\n"
     ]
    },
    {
     "name": "stdout",
     "output_type": "stream",
     "text": [
      "ME scores:  {'precision': 0.4423076923076923, 'recall': 0.8846153846153846, 'fmeasure (percentage)': 58.974}\n",
      "PB scores:  {'precision': 0.005111382361916387, 'recall': 0.2851063829787234, 'fmeasure (percentage)': 1.004}\n",
      "HB scores:  {'precision': 0.9376146788990826, 'recall': 0.7719033232628398, 'fmeasure (percentage)': 84.673}\n"
     ]
    },
    {
     "name": "stderr",
     "output_type": "stream",
     "text": [
      "/home/john/gits/dcase-bioacoustics-2022/post_processing.py:58: SettingWithCopyWarning: \n",
      "A value is trying to be set on a copy of a slice from a DataFrame.\n",
      "Try using .loc[row_indexer,col_indexer] = value instead\n",
      "\n",
      "See the caveats in the documentation: https://pandas.pydata.org/pandas-docs/stable/user_guide/indexing.html#returning-a-view-versus-a-copy\n",
      "  prediction['Group'] = gs\n"
     ]
    },
    {
     "name": "stdout",
     "output_type": "stream",
     "text": [
      "ME scores:  {'precision': 0.5056179775280899, 'recall': 0.8653846153846154, 'fmeasure (percentage)': 63.83}\n",
      "PB scores:  {'precision': 0.009998333611064822, 'recall': 0.5106382978723404, 'fmeasure (percentage)': 1.961}\n",
      "HB scores:  {'precision': 0.9267399267399268, 'recall': 0.7643504531722054, 'fmeasure (percentage)': 83.775}\n"
     ]
    },
    {
     "name": "stderr",
     "output_type": "stream",
     "text": [
      "/home/john/gits/dcase-bioacoustics-2022/post_processing.py:58: SettingWithCopyWarning: \n",
      "A value is trying to be set on a copy of a slice from a DataFrame.\n",
      "Try using .loc[row_indexer,col_indexer] = value instead\n",
      "\n",
      "See the caveats in the documentation: https://pandas.pydata.org/pandas-docs/stable/user_guide/indexing.html#returning-a-view-versus-a-copy\n",
      "  prediction['Group'] = gs\n"
     ]
    },
    {
     "name": "stdout",
     "output_type": "stream",
     "text": [
      "ME scores:  {'precision': 0.5294117647058824, 'recall': 0.8653846153846154, 'fmeasure (percentage)': 65.693}\n",
      "PB scores:  {'precision': 0.03496914487217161, 'recall': 0.5063829787234042, 'fmeasure (percentage)': 6.542}\n",
      "HB scores:  {'precision': 0.9177330895795247, 'recall': 0.7583081570996979, 'fmeasure (percentage)': 83.044}\n"
     ]
    },
    {
     "name": "stderr",
     "output_type": "stream",
     "text": [
      "/home/john/gits/dcase-bioacoustics-2022/post_processing.py:58: SettingWithCopyWarning: \n",
      "A value is trying to be set on a copy of a slice from a DataFrame.\n",
      "Try using .loc[row_indexer,col_indexer] = value instead\n",
      "\n",
      "See the caveats in the documentation: https://pandas.pydata.org/pandas-docs/stable/user_guide/indexing.html#returning-a-view-versus-a-copy\n",
      "  prediction['Group'] = gs\n"
     ]
    },
    {
     "name": "stdout",
     "output_type": "stream",
     "text": [
      "ME scores:  {'precision': 0.5625, 'recall': 0.8653846153846154, 'fmeasure (percentage)': 68.182}\n",
      "PB scores:  {'precision': 0.16722408026755853, 'recall': 0.425531914893617, 'fmeasure (percentage)': 24.01}\n",
      "HB scores:  {'precision': 0.9, 'recall': 0.7477341389728097, 'fmeasure (percentage)': 81.683}\n"
     ]
    },
    {
     "name": "stderr",
     "output_type": "stream",
     "text": [
      "/home/john/gits/dcase-bioacoustics-2022/post_processing.py:58: SettingWithCopyWarning: \n",
      "A value is trying to be set on a copy of a slice from a DataFrame.\n",
      "Try using .loc[row_indexer,col_indexer] = value instead\n",
      "\n",
      "See the caveats in the documentation: https://pandas.pydata.org/pandas-docs/stable/user_guide/indexing.html#returning-a-view-versus-a-copy\n",
      "  prediction['Group'] = gs\n"
     ]
    },
    {
     "name": "stdout",
     "output_type": "stream",
     "text": [
      "ME scores:  {'precision': 0.6111111111111112, 'recall': 0.8461538461538461, 'fmeasure (percentage)': 70.968}\n",
      "PB scores:  {'precision': 0.48760330578512395, 'recall': 0.251063829787234, 'fmeasure (percentage)': 33.146}\n",
      "HB scores:  {'precision': 0.8876811594202898, 'recall': 0.7401812688821753, 'fmeasure (percentage)': 80.725}\n"
     ]
    },
    {
     "name": "stderr",
     "output_type": "stream",
     "text": [
      "/home/john/gits/dcase-bioacoustics-2022/post_processing.py:58: SettingWithCopyWarning: \n",
      "A value is trying to be set on a copy of a slice from a DataFrame.\n",
      "Try using .loc[row_indexer,col_indexer] = value instead\n",
      "\n",
      "See the caveats in the documentation: https://pandas.pydata.org/pandas-docs/stable/user_guide/indexing.html#returning-a-view-versus-a-copy\n",
      "  prediction['Group'] = gs\n"
     ]
    },
    {
     "name": "stdout",
     "output_type": "stream",
     "text": [
      "ME scores:  {'precision': 0.7017543859649122, 'recall': 0.7692307692307693, 'fmeasure (percentage)': 73.394}\n",
      "PB scores:  {'precision': 0.5208333333333334, 'recall': 0.10416666666666667, 'fmeasure (percentage)': 17.361}\n",
      "HB scores:  {'precision': 0.855098389982111, 'recall': 0.7220543806646526, 'fmeasure (percentage)': 78.296}\n"
     ]
    },
    {
     "name": "stderr",
     "output_type": "stream",
     "text": [
      "/home/john/gits/dcase-bioacoustics-2022/post_processing.py:58: SettingWithCopyWarning: \n",
      "A value is trying to be set on a copy of a slice from a DataFrame.\n",
      "Try using .loc[row_indexer,col_indexer] = value instead\n",
      "\n",
      "See the caveats in the documentation: https://pandas.pydata.org/pandas-docs/stable/user_guide/indexing.html#returning-a-view-versus-a-copy\n",
      "  prediction['Group'] = gs\n"
     ]
    },
    {
     "name": "stdout",
     "output_type": "stream",
     "text": [
      "ME scores:  {'precision': 0.8372093023255814, 'recall': 0.6923076923076923, 'fmeasure (percentage)': 75.789}\n",
      "PB scores:  {'precision': 0.5238095238095238, 'recall': 0.044, 'fmeasure (percentage)': 8.118}\n",
      "HB scores:  {'precision': 0.8542056074766355, 'recall': 0.6903323262839879, 'fmeasure (percentage)': 76.358}\n",
      "Prediction 2 max f-measure = 0.5295847608727993\n"
     ]
    },
    {
     "name": "stderr",
     "output_type": "stream",
     "text": [
      "/home/john/gits/dcase-bioacoustics-2022/post_processing.py:58: SettingWithCopyWarning: \n",
      "A value is trying to be set on a copy of a slice from a DataFrame.\n",
      "Try using .loc[row_indexer,col_indexer] = value instead\n",
      "\n",
      "See the caveats in the documentation: https://pandas.pydata.org/pandas-docs/stable/user_guide/indexing.html#returning-a-view-versus-a-copy\n",
      "  prediction['Group'] = gs\n"
     ]
    },
    {
     "name": "stdout",
     "output_type": "stream",
     "text": [
      "ME scores:  {'precision': 0.04912663755458515, 'recall': 0.8653846153846154, 'fmeasure (percentage)': 9.298}\n",
      "PB scores:  {'precision': 0.0019809825673534074, 'recall': 0.04, 'fmeasure (percentage)': 0.378}\n",
      "HB scores:  {'precision': 0.9815837937384899, 'recall': 0.8051359516616314, 'fmeasure (percentage)': 88.465}\n"
     ]
    },
    {
     "name": "stderr",
     "output_type": "stream",
     "text": [
      "/home/john/gits/dcase-bioacoustics-2022/post_processing.py:58: SettingWithCopyWarning: \n",
      "A value is trying to be set on a copy of a slice from a DataFrame.\n",
      "Try using .loc[row_indexer,col_indexer] = value instead\n",
      "\n",
      "See the caveats in the documentation: https://pandas.pydata.org/pandas-docs/stable/user_guide/indexing.html#returning-a-view-versus-a-copy\n",
      "  prediction['Group'] = gs\n"
     ]
    },
    {
     "name": "stdout",
     "output_type": "stream",
     "text": [
      "ME scores:  {'precision': 0.16727272727272727, 'recall': 0.8846153846153846, 'fmeasure (percentage)': 28.135}\n",
      "PB scores:  {'precision': 0.003353828954723309, 'recall': 0.1276595744680851, 'fmeasure (percentage)': 0.654}\n",
      "HB scores:  {'precision': 0.9756554307116105, 'recall': 0.7870090634441088, 'fmeasure (percentage)': 87.124}\n"
     ]
    },
    {
     "name": "stderr",
     "output_type": "stream",
     "text": [
      "/home/john/gits/dcase-bioacoustics-2022/post_processing.py:58: SettingWithCopyWarning: \n",
      "A value is trying to be set on a copy of a slice from a DataFrame.\n",
      "Try using .loc[row_indexer,col_indexer] = value instead\n",
      "\n",
      "See the caveats in the documentation: https://pandas.pydata.org/pandas-docs/stable/user_guide/indexing.html#returning-a-view-versus-a-copy\n",
      "  prediction['Group'] = gs\n"
     ]
    },
    {
     "name": "stdout",
     "output_type": "stream",
     "text": [
      "ME scores:  {'precision': 0.26785714285714285, 'recall': 0.8653846153846154, 'fmeasure (percentage)': 40.909}\n",
      "PB scores:  {'precision': 0.005509467418149579, 'recall': 0.3702127659574468, 'fmeasure (percentage)': 1.086}\n",
      "HB scores:  {'precision': 0.9682242990654205, 'recall': 0.7824773413897281, 'fmeasure (percentage)': 86.55}\n"
     ]
    },
    {
     "name": "stderr",
     "output_type": "stream",
     "text": [
      "/home/john/gits/dcase-bioacoustics-2022/post_processing.py:58: SettingWithCopyWarning: \n",
      "A value is trying to be set on a copy of a slice from a DataFrame.\n",
      "Try using .loc[row_indexer,col_indexer] = value instead\n",
      "\n",
      "See the caveats in the documentation: https://pandas.pydata.org/pandas-docs/stable/user_guide/indexing.html#returning-a-view-versus-a-copy\n",
      "  prediction['Group'] = gs\n"
     ]
    },
    {
     "name": "stdout",
     "output_type": "stream",
     "text": [
      "ME scores:  {'precision': 0.3515625, 'recall': 0.8653846153846154, 'fmeasure (percentage)': 50.0}\n",
      "PB scores:  {'precision': 0.014361641976704738, 'recall': 0.5404255319148936, 'fmeasure (percentage)': 2.798}\n",
      "HB scores:  {'precision': 0.9607476635514018, 'recall': 0.7764350453172205, 'fmeasure (percentage)': 85.881}\n"
     ]
    },
    {
     "name": "stderr",
     "output_type": "stream",
     "text": [
      "/home/john/gits/dcase-bioacoustics-2022/post_processing.py:58: SettingWithCopyWarning: \n",
      "A value is trying to be set on a copy of a slice from a DataFrame.\n",
      "Try using .loc[row_indexer,col_indexer] = value instead\n",
      "\n",
      "See the caveats in the documentation: https://pandas.pydata.org/pandas-docs/stable/user_guide/indexing.html#returning-a-view-versus-a-copy\n",
      "  prediction['Group'] = gs\n"
     ]
    },
    {
     "name": "stdout",
     "output_type": "stream",
     "text": [
      "ME scores:  {'precision': 0.39473684210526316, 'recall': 0.8653846153846154, 'fmeasure (percentage)': 54.217}\n",
      "PB scores:  {'precision': 0.037516170763260026, 'recall': 0.49361702127659574, 'fmeasure (percentage)': 6.973}\n",
      "HB scores:  {'precision': 0.951310861423221, 'recall': 0.7673716012084593, 'fmeasure (percentage)': 84.95}\n"
     ]
    },
    {
     "name": "stderr",
     "output_type": "stream",
     "text": [
      "/home/john/gits/dcase-bioacoustics-2022/post_processing.py:58: SettingWithCopyWarning: \n",
      "A value is trying to be set on a copy of a slice from a DataFrame.\n",
      "Try using .loc[row_indexer,col_indexer] = value instead\n",
      "\n",
      "See the caveats in the documentation: https://pandas.pydata.org/pandas-docs/stable/user_guide/indexing.html#returning-a-view-versus-a-copy\n",
      "  prediction['Group'] = gs\n"
     ]
    },
    {
     "name": "stdout",
     "output_type": "stream",
     "text": [
      "ME scores:  {'precision': 0.42452830188679247, 'recall': 0.8653846153846154, 'fmeasure (percentage)': 56.962}\n",
      "PB scores:  {'precision': 0.11921458625525946, 'recall': 0.3617021276595745, 'fmeasure (percentage)': 17.932}\n",
      "HB scores:  {'precision': 0.9401869158878504, 'recall': 0.7598187311178247, 'fmeasure (percentage)': 84.043}\n"
     ]
    },
    {
     "name": "stderr",
     "output_type": "stream",
     "text": [
      "/home/john/gits/dcase-bioacoustics-2022/post_processing.py:58: SettingWithCopyWarning: \n",
      "A value is trying to be set on a copy of a slice from a DataFrame.\n",
      "Try using .loc[row_indexer,col_indexer] = value instead\n",
      "\n",
      "See the caveats in the documentation: https://pandas.pydata.org/pandas-docs/stable/user_guide/indexing.html#returning-a-view-versus-a-copy\n",
      "  prediction['Group'] = gs\n"
     ]
    },
    {
     "name": "stdout",
     "output_type": "stream",
     "text": [
      "ME scores:  {'precision': 0.4777777777777778, 'recall': 0.8269230769230769, 'fmeasure (percentage)': 60.563}\n",
      "PB scores:  {'precision': 0.4413793103448276, 'recall': 0.2723404255319149, 'fmeasure (percentage)': 33.684}\n",
      "HB scores:  {'precision': 0.9185185185185185, 'recall': 0.7492447129909365, 'fmeasure (percentage)': 82.529}\n"
     ]
    },
    {
     "name": "stderr",
     "output_type": "stream",
     "text": [
      "/home/john/gits/dcase-bioacoustics-2022/post_processing.py:58: SettingWithCopyWarning: \n",
      "A value is trying to be set on a copy of a slice from a DataFrame.\n",
      "Try using .loc[row_indexer,col_indexer] = value instead\n",
      "\n",
      "See the caveats in the documentation: https://pandas.pydata.org/pandas-docs/stable/user_guide/indexing.html#returning-a-view-versus-a-copy\n",
      "  prediction['Group'] = gs\n"
     ]
    },
    {
     "name": "stdout",
     "output_type": "stream",
     "text": [
      "ME scores:  {'precision': 0.4935064935064935, 'recall': 0.7307692307692307, 'fmeasure (percentage)': 58.915}\n",
      "PB scores:  {'precision': 0.6349206349206349, 'recall': 0.16326530612244897, 'fmeasure (percentage)': 25.974}\n",
      "HB scores:  {'precision': 0.8988970588235294, 'recall': 0.7386706948640483, 'fmeasure (percentage)': 81.095}\n"
     ]
    },
    {
     "name": "stderr",
     "output_type": "stream",
     "text": [
      "/home/john/gits/dcase-bioacoustics-2022/post_processing.py:58: SettingWithCopyWarning: \n",
      "A value is trying to be set on a copy of a slice from a DataFrame.\n",
      "Try using .loc[row_indexer,col_indexer] = value instead\n",
      "\n",
      "See the caveats in the documentation: https://pandas.pydata.org/pandas-docs/stable/user_guide/indexing.html#returning-a-view-versus-a-copy\n",
      "  prediction['Group'] = gs\n"
     ]
    },
    {
     "name": "stdout",
     "output_type": "stream",
     "text": [
      "ME scores:  {'precision': 0.5573770491803278, 'recall': 0.6538461538461539, 'fmeasure (percentage)': 60.177}\n",
      "PB scores:  {'precision': 0.45454545454545453, 'recall': 0.0196078431372549, 'fmeasure (percentage)': 3.759}\n",
      "HB scores:  {'precision': 0.8863636363636364, 'recall': 0.7069486404833837, 'fmeasure (percentage)': 78.655}\n",
      "Prediction 3 max f-measure = 0.5144380168279377\n"
     ]
    },
    {
     "name": "stderr",
     "output_type": "stream",
     "text": [
      "/home/john/gits/dcase-bioacoustics-2022/post_processing.py:58: SettingWithCopyWarning: \n",
      "A value is trying to be set on a copy of a slice from a DataFrame.\n",
      "Try using .loc[row_indexer,col_indexer] = value instead\n",
      "\n",
      "See the caveats in the documentation: https://pandas.pydata.org/pandas-docs/stable/user_guide/indexing.html#returning-a-view-versus-a-copy\n",
      "  prediction['Group'] = gs\n"
     ]
    },
    {
     "name": "stdout",
     "output_type": "stream",
     "text": [
      "ME scores:  {'precision': 0.24757281553398058, 'recall': 0.9807692307692307, 'fmeasure (percentage)': 39.535}\n",
      "PB scores:  {'precision': 0.004596996628869139, 'recall': 0.058823529411764705, 'fmeasure (percentage)': 0.853}\n",
      "HB scores:  {'precision': 0.9870609981515711, 'recall': 0.8066465256797583, 'fmeasure (percentage)': 88.778}\n"
     ]
    },
    {
     "name": "stderr",
     "output_type": "stream",
     "text": [
      "/home/john/gits/dcase-bioacoustics-2022/post_processing.py:58: SettingWithCopyWarning: \n",
      "A value is trying to be set on a copy of a slice from a DataFrame.\n",
      "Try using .loc[row_indexer,col_indexer] = value instead\n",
      "\n",
      "See the caveats in the documentation: https://pandas.pydata.org/pandas-docs/stable/user_guide/indexing.html#returning-a-view-versus-a-copy\n",
      "  prediction['Group'] = gs\n"
     ]
    },
    {
     "name": "stdout",
     "output_type": "stream",
     "text": [
      "ME scores:  {'precision': 0.4015748031496063, 'recall': 0.9807692307692307, 'fmeasure (percentage)': 56.983}\n",
      "PB scores:  {'precision': 0.004975124378109453, 'recall': 0.15416666666666667, 'fmeasure (percentage)': 0.964}\n",
      "HB scores:  {'precision': 0.9723756906077348, 'recall': 0.797583081570997, 'fmeasure (percentage)': 87.635}\n"
     ]
    },
    {
     "name": "stderr",
     "output_type": "stream",
     "text": [
      "/home/john/gits/dcase-bioacoustics-2022/post_processing.py:58: SettingWithCopyWarning: \n",
      "A value is trying to be set on a copy of a slice from a DataFrame.\n",
      "Try using .loc[row_indexer,col_indexer] = value instead\n",
      "\n",
      "See the caveats in the documentation: https://pandas.pydata.org/pandas-docs/stable/user_guide/indexing.html#returning-a-view-versus-a-copy\n",
      "  prediction['Group'] = gs\n"
     ]
    },
    {
     "name": "stdout",
     "output_type": "stream",
     "text": [
      "ME scores:  {'precision': 0.4857142857142857, 'recall': 0.9807692307692307, 'fmeasure (percentage)': 64.968}\n",
      "PB scores:  {'precision': 0.006571128975882559, 'recall': 0.4, 'fmeasure (percentage)': 1.293}\n",
      "HB scores:  {'precision': 0.9704797047970479, 'recall': 0.7945619335347432, 'fmeasure (percentage)': 87.375}\n"
     ]
    },
    {
     "name": "stderr",
     "output_type": "stream",
     "text": [
      "/home/john/gits/dcase-bioacoustics-2022/post_processing.py:58: SettingWithCopyWarning: \n",
      "A value is trying to be set on a copy of a slice from a DataFrame.\n",
      "Try using .loc[row_indexer,col_indexer] = value instead\n",
      "\n",
      "See the caveats in the documentation: https://pandas.pydata.org/pandas-docs/stable/user_guide/indexing.html#returning-a-view-versus-a-copy\n",
      "  prediction['Group'] = gs\n"
     ]
    },
    {
     "name": "stdout",
     "output_type": "stream",
     "text": [
      "ME scores:  {'precision': 0.53125, 'recall': 0.9807692307692307, 'fmeasure (percentage)': 68.919}\n",
      "PB scores:  {'precision': 0.00936087798579729, 'recall': 0.49361702127659574, 'fmeasure (percentage)': 1.837}\n",
      "HB scores:  {'precision': 0.9684601113172542, 'recall': 0.7885196374622356, 'fmeasure (percentage)': 86.928}\n"
     ]
    },
    {
     "name": "stderr",
     "output_type": "stream",
     "text": [
      "/home/john/gits/dcase-bioacoustics-2022/post_processing.py:58: SettingWithCopyWarning: \n",
      "A value is trying to be set on a copy of a slice from a DataFrame.\n",
      "Try using .loc[row_indexer,col_indexer] = value instead\n",
      "\n",
      "See the caveats in the documentation: https://pandas.pydata.org/pandas-docs/stable/user_guide/indexing.html#returning-a-view-versus-a-copy\n",
      "  prediction['Group'] = gs\n"
     ]
    },
    {
     "name": "stdout",
     "output_type": "stream",
     "text": [
      "ME scores:  {'precision': 0.5333333333333333, 'recall': 0.9230769230769231, 'fmeasure (percentage)': 67.606}\n",
      "PB scores:  {'precision': 0.027531721331098876, 'recall': 0.48936170212765956, 'fmeasure (percentage)': 5.213}\n",
      "HB scores:  {'precision': 0.9608938547486033, 'recall': 0.7794561933534743, 'fmeasure (percentage)': 86.072}\n"
     ]
    },
    {
     "name": "stderr",
     "output_type": "stream",
     "text": [
      "/home/john/gits/dcase-bioacoustics-2022/post_processing.py:58: SettingWithCopyWarning: \n",
      "A value is trying to be set on a copy of a slice from a DataFrame.\n",
      "Try using .loc[row_indexer,col_indexer] = value instead\n",
      "\n",
      "See the caveats in the documentation: https://pandas.pydata.org/pandas-docs/stable/user_guide/indexing.html#returning-a-view-versus-a-copy\n",
      "  prediction['Group'] = gs\n"
     ]
    },
    {
     "name": "stdout",
     "output_type": "stream",
     "text": [
      "ME scores:  {'precision': 0.5925925925925926, 'recall': 0.9230769230769231, 'fmeasure (percentage)': 72.18}\n",
      "PB scores:  {'precision': 0.0836092715231788, 'recall': 0.4297872340425532, 'fmeasure (percentage)': 13.999}\n",
      "HB scores:  {'precision': 0.9533582089552238, 'recall': 0.7719033232628398, 'fmeasure (percentage)': 85.309}\n"
     ]
    },
    {
     "name": "stderr",
     "output_type": "stream",
     "text": [
      "/home/john/gits/dcase-bioacoustics-2022/post_processing.py:58: SettingWithCopyWarning: \n",
      "A value is trying to be set on a copy of a slice from a DataFrame.\n",
      "Try using .loc[row_indexer,col_indexer] = value instead\n",
      "\n",
      "See the caveats in the documentation: https://pandas.pydata.org/pandas-docs/stable/user_guide/indexing.html#returning-a-view-versus-a-copy\n",
      "  prediction['Group'] = gs\n"
     ]
    },
    {
     "name": "stdout",
     "output_type": "stream",
     "text": [
      "ME scores:  {'precision': 0.6351351351351351, 'recall': 0.9038461538461539, 'fmeasure (percentage)': 74.603}\n",
      "PB scores:  {'precision': 0.3293172690763052, 'recall': 0.34893617021276596, 'fmeasure (percentage)': 33.884}\n",
      "HB scores:  {'precision': 0.9457943925233645, 'recall': 0.7643504531722054, 'fmeasure (percentage)': 84.545}\n"
     ]
    },
    {
     "name": "stderr",
     "output_type": "stream",
     "text": [
      "/home/john/gits/dcase-bioacoustics-2022/post_processing.py:58: SettingWithCopyWarning: \n",
      "A value is trying to be set on a copy of a slice from a DataFrame.\n",
      "Try using .loc[row_indexer,col_indexer] = value instead\n",
      "\n",
      "See the caveats in the documentation: https://pandas.pydata.org/pandas-docs/stable/user_guide/indexing.html#returning-a-view-versus-a-copy\n",
      "  prediction['Group'] = gs\n"
     ]
    },
    {
     "name": "stdout",
     "output_type": "stream",
     "text": [
      "ME scores:  {'precision': 0.6571428571428571, 'recall': 0.8846153846153846, 'fmeasure (percentage)': 75.41}\n",
      "PB scores:  {'precision': 0.6944444444444444, 'recall': 0.20408163265306123, 'fmeasure (percentage)': 31.546}\n",
      "HB scores:  {'precision': 0.9194139194139194, 'recall': 0.7583081570996979, 'fmeasure (percentage)': 83.113}\n"
     ]
    },
    {
     "name": "stderr",
     "output_type": "stream",
     "text": [
      "/home/john/gits/dcase-bioacoustics-2022/post_processing.py:58: SettingWithCopyWarning: \n",
      "A value is trying to be set on a copy of a slice from a DataFrame.\n",
      "Try using .loc[row_indexer,col_indexer] = value instead\n",
      "\n",
      "See the caveats in the documentation: https://pandas.pydata.org/pandas-docs/stable/user_guide/indexing.html#returning-a-view-versus-a-copy\n",
      "  prediction['Group'] = gs\n"
     ]
    },
    {
     "name": "stdout",
     "output_type": "stream",
     "text": [
      "ME scores:  {'precision': 0.7894736842105263, 'recall': 0.8653846153846154, 'fmeasure (percentage)': 82.569}\n",
      "PB scores:  {'precision': 0.5, 'recall': 0.048, 'fmeasure (percentage)': 8.759}\n",
      "HB scores:  {'precision': 0.891941391941392, 'recall': 0.7356495468277946, 'fmeasure (percentage)': 80.629}\n",
      "Prediction 4 max f-measure = 0.5480001187726439\n"
     ]
    },
    {
     "data": {
      "image/png": "[encoded data removed]",
      "text/plain": [
       "<Figure size 288x216 with 1 Axes>"
      ]
     },
     "execution_count": 6,
     "metadata": {},
     "output_type": "execute_result"
    },
    {
     "data": {
      "image/png": "[encoded data removed]",
      "text/plain": [
       "<Figure size 288x216 with 1 Axes>"
      ]
     },
     "metadata": {
      "needs_background": "light"
     },
     "output_type": "display_data"
    }
   ],
   "source": [
    "sample_rate = 22050\n",
    "root_dir = '/mnt/storage_1/datasets/bioacoustics_dcase2022/Development_Set_{}Hz/Validation_Set/'.format(sample_rate)\n",
    "csv_paths_me = glob.glob(os.path.join(root_dir, 'ME/*.csv'))\n",
    "csv_paths_pb = glob.glob(os.path.join(root_dir, 'PB/*.csv'))\n",
    "csv_paths_hb = glob.glob(os.path.join(root_dir, 'HB/*.csv'))\n",
    "csv_paths = csv_paths_me + csv_paths_hb + csv_paths_pb\n",
    "\n",
    "configs = [\n",
    "    {\n",
    "        'thrs'               : [0.1, 0.2, 0.3, 0.4, 0.5, 0.6, 0.7, 0.8, 0.9],\n",
    "        'runs'               : [0,1,2,3,4],\n",
    "        'tfs'                : ['tf_pcen_biodiversity'],\n",
    "        'adaptive_embedding' : True,\n",
    "        'stats_group'        : 0,\n",
    "        'label'              : 'Ensemble',\n",
    "        'experiment_dir'     : '../experiments/final_ensemble/',\n",
    "        'hop_size_fraction'  : 2,\n",
    "    },\n",
    "    {\n",
    "        'thrs'               : [0.1, 0.2, 0.3, 0.4, 0.5, 0.6, 0.7, 0.8, 0.9],\n",
    "        'runs'               : [0],\n",
    "        'tfs'                : ['tf_pcen_biodiversity'],\n",
    "        'adaptive_embedding' : True,\n",
    "        'stats_group'        : 0,\n",
    "        'label'              : 'Prediction 0',\n",
    "        'experiment_dir'     : '../experiments/final_ensemble/',\n",
    "        'hop_size_fraction'  : 2,\n",
    "    },\n",
    "    {\n",
    "        'thrs'               : [0.1, 0.2, 0.3, 0.4, 0.5, 0.6, 0.7, 0.8, 0.9],\n",
    "        'runs'               : [1],\n",
    "        'tfs'                : ['tf_pcen_biodiversity'],\n",
    "        'adaptive_embedding' : True,\n",
    "        'stats_group'        : 0,\n",
    "        'label'              : 'Prediction 1',\n",
    "        'experiment_dir'     : '../experiments/final_ensemble/',\n",
    "        'hop_size_fraction'  : 2,\n",
    "    },\n",
    "    {\n",
    "        'thrs'               : [0.1, 0.2, 0.3, 0.4, 0.5, 0.6, 0.7, 0.8, 0.9],\n",
    "        'runs'               : [2],\n",
    "        'tfs'                : ['tf_pcen_biodiversity'],\n",
    "        'adaptive_embedding' : True,\n",
    "        'stats_group'        : 0,\n",
    "        'label'              : 'Prediction 2',\n",
    "        'experiment_dir'     : '../experiments/final_ensemble/',\n",
    "        'hop_size_fraction'  : 2,\n",
    "    },\n",
    "    {\n",
    "        'thrs'               : [0.1, 0.2, 0.3, 0.4, 0.5, 0.6, 0.7, 0.8, 0.9],\n",
    "        'runs'               : [3],\n",
    "        'tfs'                : ['tf_pcen_biodiversity'],\n",
    "        'adaptive_embedding' : True,\n",
    "        'stats_group'        : 0,\n",
    "        'label'              : 'Prediction 3',\n",
    "        'experiment_dir'     : '../experiments/final_ensemble/',\n",
    "        'hop_size_fraction'  : 2,\n",
    "    },\n",
    "    {\n",
    "        'thrs'               : [0.1, 0.2, 0.3, 0.4, 0.5, 0.6, 0.7, 0.8, 0.9],\n",
    "        'runs'               : [4],\n",
    "        'tfs'                : ['tf_pcen_biodiversity'],\n",
    "        'adaptive_embedding' : True,\n",
    "        'stats_group'        : 0,\n",
    "        'label'              : 'Prediction 4',\n",
    "        'experiment_dir'     : '../experiments/final_ensemble/',\n",
    "        'hop_size_fraction'  : 2,\n",
    "    },\n",
    "\n",
    "]\n",
    "\n",
    "evaluate_and_plot(configs, csv_paths, \"figure_2.pdf\")"
   ]
  },
  {
   "cell_type": "markdown",
   "id": "foster-tyler",
   "metadata": {},
   "source": [
    "# Figure 3"
   ]
  },
  {
   "cell_type": "code",
   "execution_count": 12,
   "id": "twelve-catholic",
   "metadata": {
    "scrolled": true
   },
   "outputs": [
    {
     "name": "stderr",
     "output_type": "stream",
     "text": [
      "/home/john/gits/dcase-bioacoustics-2022/post_processing.py:58: SettingWithCopyWarning: \n",
      "A value is trying to be set on a copy of a slice from a DataFrame.\n",
      "Try using .loc[row_indexer,col_indexer] = value instead\n",
      "\n",
      "See the caveats in the documentation: https://pandas.pydata.org/pandas-docs/stable/user_guide/indexing.html#returning-a-view-versus-a-copy\n",
      "  prediction['Group'] = gs\n"
     ]
    },
    {
     "name": "stdout",
     "output_type": "stream",
     "text": [
      "ME scores:  {'precision': 0.13123359580052493, 'recall': 0.9615384615384616, 'fmeasure (percentage)': 23.095}\n",
      "PB scores:  {'precision': 0.002084574151280524, 'recall': 0.027450980392156862, 'fmeasure (percentage)': 0.387}\n",
      "HB scores:  {'precision': 0.9817518248175182, 'recall': 0.8126888217522659, 'fmeasure (percentage)': 88.926}\n"
     ]
    },
    {
     "name": "stderr",
     "output_type": "stream",
     "text": [
      "/home/john/gits/dcase-bioacoustics-2022/post_processing.py:58: SettingWithCopyWarning: \n",
      "A value is trying to be set on a copy of a slice from a DataFrame.\n",
      "Try using .loc[row_indexer,col_indexer] = value instead\n",
      "\n",
      "See the caveats in the documentation: https://pandas.pydata.org/pandas-docs/stable/user_guide/indexing.html#returning-a-view-versus-a-copy\n",
      "  prediction['Group'] = gs\n"
     ]
    },
    {
     "name": "stdout",
     "output_type": "stream",
     "text": [
      "ME scores:  {'precision': 0.3170731707317073, 'recall': 1.0, 'fmeasure (percentage)': 48.148}\n",
      "PB scores:  {'precision': 0.006300963676797628, 'recall': 0.06938775510204082, 'fmeasure (percentage)': 1.155}\n",
      "HB scores:  {'precision': 0.9831460674157303, 'recall': 0.7930513595166163, 'fmeasure (percentage)': 87.793}\n"
     ]
    },
    {
     "name": "stderr",
     "output_type": "stream",
     "text": [
      "/home/john/gits/dcase-bioacoustics-2022/post_processing.py:58: SettingWithCopyWarning: \n",
      "A value is trying to be set on a copy of a slice from a DataFrame.\n",
      "Try using .loc[row_indexer,col_indexer] = value instead\n",
      "\n",
      "See the caveats in the documentation: https://pandas.pydata.org/pandas-docs/stable/user_guide/indexing.html#returning-a-view-versus-a-copy\n",
      "  prediction['Group'] = gs\n"
     ]
    },
    {
     "name": "stdout",
     "output_type": "stream",
     "text": [
      "ME scores:  {'precision': 0.4473684210526316, 'recall': 0.9807692307692307, 'fmeasure (percentage)': 61.446}\n",
      "PB scores:  {'precision': 0.007852862161603637, 'recall': 0.32340425531914896, 'fmeasure (percentage)': 1.533}\n",
      "HB scores:  {'precision': 0.9718045112781954, 'recall': 0.7809667673716012, 'fmeasure (percentage)': 86.6}\n"
     ]
    },
    {
     "name": "stderr",
     "output_type": "stream",
     "text": [
      "/home/john/gits/dcase-bioacoustics-2022/post_processing.py:58: SettingWithCopyWarning: \n",
      "A value is trying to be set on a copy of a slice from a DataFrame.\n",
      "Try using .loc[row_indexer,col_indexer] = value instead\n",
      "\n",
      "See the caveats in the documentation: https://pandas.pydata.org/pandas-docs/stable/user_guide/indexing.html#returning-a-view-versus-a-copy\n",
      "  prediction['Group'] = gs\n"
     ]
    },
    {
     "name": "stdout",
     "output_type": "stream",
     "text": [
      "ME scores:  {'precision': 0.5208333333333334, 'recall': 0.9615384615384616, 'fmeasure (percentage)': 67.568}\n",
      "PB scores:  {'precision': 0.013324222753672703, 'recall': 0.4978723404255319, 'fmeasure (percentage)': 2.595}\n",
      "HB scores:  {'precision': 0.9622641509433962, 'recall': 0.770392749244713, 'fmeasure (percentage)': 85.57}\n"
     ]
    },
    {
     "name": "stderr",
     "output_type": "stream",
     "text": [
      "/home/john/gits/dcase-bioacoustics-2022/post_processing.py:58: SettingWithCopyWarning: \n",
      "A value is trying to be set on a copy of a slice from a DataFrame.\n",
      "Try using .loc[row_indexer,col_indexer] = value instead\n",
      "\n",
      "See the caveats in the documentation: https://pandas.pydata.org/pandas-docs/stable/user_guide/indexing.html#returning-a-view-versus-a-copy\n",
      "  prediction['Group'] = gs\n"
     ]
    },
    {
     "name": "stdout",
     "output_type": "stream",
     "text": [
      "ME scores:  {'precision': 0.5595238095238095, 'recall': 0.9038461538461539, 'fmeasure (percentage)': 69.118}\n",
      "PB scores:  {'precision': 0.08255451713395638, 'recall': 0.451063829787234, 'fmeasure (percentage)': 13.957}\n",
      "HB scores:  {'precision': 0.9386617100371747, 'recall': 0.7628398791540786, 'fmeasure (percentage)': 84.167}\n"
     ]
    },
    {
     "name": "stderr",
     "output_type": "stream",
     "text": [
      "/home/john/gits/dcase-bioacoustics-2022/post_processing.py:58: SettingWithCopyWarning: \n",
      "A value is trying to be set on a copy of a slice from a DataFrame.\n",
      "Try using .loc[row_indexer,col_indexer] = value instead\n",
      "\n",
      "See the caveats in the documentation: https://pandas.pydata.org/pandas-docs/stable/user_guide/indexing.html#returning-a-view-versus-a-copy\n",
      "  prediction['Group'] = gs\n"
     ]
    },
    {
     "name": "stdout",
     "output_type": "stream",
     "text": [
      "ME scores:  {'precision': 0.6027397260273972, 'recall': 0.8461538461538461, 'fmeasure (percentage)': 70.4}\n",
      "PB scores:  {'precision': 0.5472972972972973, 'recall': 0.3446808510638298, 'fmeasure (percentage)': 42.298}\n",
      "HB scores:  {'precision': 0.9185185185185185, 'recall': 0.7492447129909365, 'fmeasure (percentage)': 82.529}\n"
     ]
    },
    {
     "name": "stderr",
     "output_type": "stream",
     "text": [
      "/home/john/gits/dcase-bioacoustics-2022/post_processing.py:58: SettingWithCopyWarning: \n",
      "A value is trying to be set on a copy of a slice from a DataFrame.\n",
      "Try using .loc[row_indexer,col_indexer] = value instead\n",
      "\n",
      "See the caveats in the documentation: https://pandas.pydata.org/pandas-docs/stable/user_guide/indexing.html#returning-a-view-versus-a-copy\n",
      "  prediction['Group'] = gs\n"
     ]
    },
    {
     "name": "stdout",
     "output_type": "stream",
     "text": [
      "ME scores:  {'precision': 0.7368421052631579, 'recall': 0.8076923076923077, 'fmeasure (percentage)': 77.064}\n",
      "PB scores:  {'precision': 0.765625, 'recall': 0.2, 'fmeasure (percentage)': 31.715}\n",
      "HB scores:  {'precision': 0.8966789667896679, 'recall': 0.7341389728096677, 'fmeasure (percentage)': 80.731}\n"
     ]
    },
    {
     "name": "stderr",
     "output_type": "stream",
     "text": [
      "/home/john/gits/dcase-bioacoustics-2022/post_processing.py:58: SettingWithCopyWarning: \n",
      "A value is trying to be set on a copy of a slice from a DataFrame.\n",
      "Try using .loc[row_indexer,col_indexer] = value instead\n",
      "\n",
      "See the caveats in the documentation: https://pandas.pydata.org/pandas-docs/stable/user_guide/indexing.html#returning-a-view-versus-a-copy\n",
      "  prediction['Group'] = gs\n"
     ]
    },
    {
     "name": "stdout",
     "output_type": "stream",
     "text": [
      "ME scores:  {'precision': 0.7916666666666666, 'recall': 0.7307692307692307, 'fmeasure (percentage)': 76.0}\n",
      "PB scores:  {'precision': 0.6666666666666666, 'recall': 0.088, 'fmeasure (percentage)': 15.548}\n",
      "HB scores:  {'precision': 0.8498168498168498, 'recall': 0.7009063444108762, 'fmeasure (percentage)': 76.821}\n"
     ]
    },
    {
     "name": "stderr",
     "output_type": "stream",
     "text": [
      "/home/john/gits/dcase-bioacoustics-2022/post_processing.py:58: SettingWithCopyWarning: \n",
      "A value is trying to be set on a copy of a slice from a DataFrame.\n",
      "Try using .loc[row_indexer,col_indexer] = value instead\n",
      "\n",
      "See the caveats in the documentation: https://pandas.pydata.org/pandas-docs/stable/user_guide/indexing.html#returning-a-view-versus-a-copy\n",
      "  prediction['Group'] = gs\n"
     ]
    },
    {
     "name": "stdout",
     "output_type": "stream",
     "text": [
      "ME scores:  {'precision': 0.9333333333333333, 'recall': 0.5384615384615384, 'fmeasure (percentage)': 68.293}\n",
      "PB scores:  {'precision': 0.6, 'recall': 0.011764705882352941, 'fmeasure (percentage)': 2.308}\n",
      "HB scores:  {'precision': 0.7981308411214953, 'recall': 0.6450151057401813, 'fmeasure (percentage)': 71.345}\n",
      "Ensemble max f-measure = 0.6004388457767321\n"
     ]
    },
    {
     "name": "stderr",
     "output_type": "stream",
     "text": [
      "/home/john/gits/dcase-bioacoustics-2022/post_processing.py:58: SettingWithCopyWarning: \n",
      "A value is trying to be set on a copy of a slice from a DataFrame.\n",
      "Try using .loc[row_indexer,col_indexer] = value instead\n",
      "\n",
      "See the caveats in the documentation: https://pandas.pydata.org/pandas-docs/stable/user_guide/indexing.html#returning-a-view-versus-a-copy\n",
      "  prediction['Group'] = gs\n"
     ]
    },
    {
     "name": "stdout",
     "output_type": "stream",
     "text": [
      "ME scores:  {'precision': 0.117096018735363, 'recall': 0.9615384615384616, 'fmeasure (percentage)': 20.877}\n",
      "PB scores:  {'precision': 0.0010302197802197802, 'recall': 0.012, 'fmeasure (percentage)': 0.19}\n",
      "HB scores:  {'precision': 0.9795918367346939, 'recall': 0.797583081570997, 'fmeasure (percentage)': 87.927}\n"
     ]
    },
    {
     "name": "stderr",
     "output_type": "stream",
     "text": [
      "/home/john/gits/dcase-bioacoustics-2022/post_processing.py:58: SettingWithCopyWarning: \n",
      "A value is trying to be set on a copy of a slice from a DataFrame.\n",
      "Try using .loc[row_indexer,col_indexer] = value instead\n",
      "\n",
      "See the caveats in the documentation: https://pandas.pydata.org/pandas-docs/stable/user_guide/indexing.html#returning-a-view-versus-a-copy\n",
      "  prediction['Group'] = gs\n"
     ]
    },
    {
     "name": "stdout",
     "output_type": "stream",
     "text": [
      "ME scores:  {'precision': 0.2708333333333333, 'recall': 1.0, 'fmeasure (percentage)': 42.623}\n",
      "PB scores:  {'precision': 0.0035102499297950014, 'recall': 0.10204081632653061, 'fmeasure (percentage)': 0.679}\n",
      "HB scores:  {'precision': 0.96, 'recall': 0.797583081570997, 'fmeasure (percentage)': 87.129}\n"
     ]
    },
    {
     "name": "stderr",
     "output_type": "stream",
     "text": [
      "/home/john/gits/dcase-bioacoustics-2022/post_processing.py:58: SettingWithCopyWarning: \n",
      "A value is trying to be set on a copy of a slice from a DataFrame.\n",
      "Try using .loc[row_indexer,col_indexer] = value instead\n",
      "\n",
      "See the caveats in the documentation: https://pandas.pydata.org/pandas-docs/stable/user_guide/indexing.html#returning-a-view-versus-a-copy\n",
      "  prediction['Group'] = gs\n"
     ]
    },
    {
     "name": "stdout",
     "output_type": "stream",
     "text": [
      "ME scores:  {'precision': 0.45217391304347826, 'recall': 1.0, 'fmeasure (percentage)': 62.275}\n",
      "PB scores:  {'precision': 0.007873376623376623, 'recall': 0.4127659574468085, 'fmeasure (percentage)': 1.545}\n",
      "HB scores:  {'precision': 0.9350180505415162, 'recall': 0.7824773413897281, 'fmeasure (percentage)': 85.197}\n"
     ]
    },
    {
     "name": "stderr",
     "output_type": "stream",
     "text": [
      "/home/john/gits/dcase-bioacoustics-2022/post_processing.py:58: SettingWithCopyWarning: \n",
      "A value is trying to be set on a copy of a slice from a DataFrame.\n",
      "Try using .loc[row_indexer,col_indexer] = value instead\n",
      "\n",
      "See the caveats in the documentation: https://pandas.pydata.org/pandas-docs/stable/user_guide/indexing.html#returning-a-view-versus-a-copy\n",
      "  prediction['Group'] = gs\n"
     ]
    },
    {
     "name": "stdout",
     "output_type": "stream",
     "text": [
      "ME scores:  {'precision': 0.5730337078651685, 'recall': 0.9807692307692307, 'fmeasure (percentage)': 72.34}\n",
      "PB scores:  {'precision': 0.010383100608664519, 'recall': 0.49361702127659574, 'fmeasure (percentage)': 2.034}\n",
      "HB scores:  {'precision': 0.9243243243243243, 'recall': 0.7749244712990937, 'fmeasure (percentage)': 84.306}\n"
     ]
    },
    {
     "name": "stderr",
     "output_type": "stream",
     "text": [
      "/home/john/gits/dcase-bioacoustics-2022/post_processing.py:58: SettingWithCopyWarning: \n",
      "A value is trying to be set on a copy of a slice from a DataFrame.\n",
      "Try using .loc[row_indexer,col_indexer] = value instead\n",
      "\n",
      "See the caveats in the documentation: https://pandas.pydata.org/pandas-docs/stable/user_guide/indexing.html#returning-a-view-versus-a-copy\n",
      "  prediction['Group'] = gs\n"
     ]
    },
    {
     "name": "stdout",
     "output_type": "stream",
     "text": [
      "ME scores:  {'precision': 0.684931506849315, 'recall': 0.9615384615384616, 'fmeasure (percentage)': 80.0}\n",
      "PB scores:  {'precision': 0.024426719840478565, 'recall': 0.41702127659574467, 'fmeasure (percentage)': 4.615}\n",
      "HB scores:  {'precision': 0.9122486288848263, 'recall': 0.7537764350453172, 'fmeasure (percentage)': 82.548}\n"
     ]
    },
    {
     "name": "stderr",
     "output_type": "stream",
     "text": [
      "/home/john/gits/dcase-bioacoustics-2022/post_processing.py:58: SettingWithCopyWarning: \n",
      "A value is trying to be set on a copy of a slice from a DataFrame.\n",
      "Try using .loc[row_indexer,col_indexer] = value instead\n",
      "\n",
      "See the caveats in the documentation: https://pandas.pydata.org/pandas-docs/stable/user_guide/indexing.html#returning-a-view-versus-a-copy\n",
      "  prediction['Group'] = gs\n"
     ]
    },
    {
     "name": "stdout",
     "output_type": "stream",
     "text": [
      "ME scores:  {'precision': 0.8064516129032258, 'recall': 0.9615384615384616, 'fmeasure (percentage)': 87.719}\n",
      "PB scores:  {'precision': 0.1099476439790576, 'recall': 0.3574468085106383, 'fmeasure (percentage)': 16.817}\n",
      "HB scores:  {'precision': 0.8837209302325582, 'recall': 0.7462235649546828, 'fmeasure (percentage)': 80.917}\n"
     ]
    },
    {
     "name": "stderr",
     "output_type": "stream",
     "text": [
      "/home/john/gits/dcase-bioacoustics-2022/post_processing.py:58: SettingWithCopyWarning: \n",
      "A value is trying to be set on a copy of a slice from a DataFrame.\n",
      "Try using .loc[row_indexer,col_indexer] = value instead\n",
      "\n",
      "See the caveats in the documentation: https://pandas.pydata.org/pandas-docs/stable/user_guide/indexing.html#returning-a-view-versus-a-copy\n",
      "  prediction['Group'] = gs\n"
     ]
    },
    {
     "name": "stdout",
     "output_type": "stream",
     "text": [
      "ME scores:  {'precision': 0.8596491228070176, 'recall': 0.9423076923076923, 'fmeasure (percentage)': 89.908}\n",
      "PB scores:  {'precision': 0.4854368932038835, 'recall': 0.20833333333333334, 'fmeasure (percentage)': 29.155}\n",
      "HB scores:  {'precision': 0.8439716312056738, 'recall': 0.7190332326283988, 'fmeasure (percentage)': 77.651}\n"
     ]
    },
    {
     "name": "stderr",
     "output_type": "stream",
     "text": [
      "/home/john/gits/dcase-bioacoustics-2022/post_processing.py:58: SettingWithCopyWarning: \n",
      "A value is trying to be set on a copy of a slice from a DataFrame.\n",
      "Try using .loc[row_indexer,col_indexer] = value instead\n",
      "\n",
      "See the caveats in the documentation: https://pandas.pydata.org/pandas-docs/stable/user_guide/indexing.html#returning-a-view-versus-a-copy\n",
      "  prediction['Group'] = gs\n"
     ]
    },
    {
     "name": "stdout",
     "output_type": "stream",
     "text": [
      "ME scores:  {'precision': 0.8703703703703703, 'recall': 0.9038461538461539, 'fmeasure (percentage)': 88.679}\n",
      "PB scores:  {'precision': 0.625, 'recall': 0.08163265306122448, 'fmeasure (percentage)': 14.44}\n",
      "HB scores:  {'precision': 0.8168761220825853, 'recall': 0.6873111782477341, 'fmeasure (percentage)': 74.651}\n"
     ]
    },
    {
     "name": "stderr",
     "output_type": "stream",
     "text": [
      "/home/john/gits/dcase-bioacoustics-2022/post_processing.py:58: SettingWithCopyWarning: \n",
      "A value is trying to be set on a copy of a slice from a DataFrame.\n",
      "Try using .loc[row_indexer,col_indexer] = value instead\n",
      "\n",
      "See the caveats in the documentation: https://pandas.pydata.org/pandas-docs/stable/user_guide/indexing.html#returning-a-view-versus-a-copy\n",
      "  prediction['Group'] = gs\n"
     ]
    },
    {
     "name": "stdout",
     "output_type": "stream",
     "text": [
      "ME scores:  {'precision': 0.9302325581395349, 'recall': 0.7692307692307693, 'fmeasure (percentage)': 84.211}\n",
      "PB scores:  {'precision': 1e-05, 'recall': 1e-05, 'fmeasure (percentage)': 0.001}\n",
      "HB scores:  {'precision': 0.7703435804701627, 'recall': 0.6435045317220544, 'fmeasure (percentage)': 70.123}\n",
      "log Mel max f-measure = 0.514574461951553\n"
     ]
    },
    {
     "name": "stderr",
     "output_type": "stream",
     "text": [
      "/home/john/gits/dcase-bioacoustics-2022/post_processing.py:58: SettingWithCopyWarning: \n",
      "A value is trying to be set on a copy of a slice from a DataFrame.\n",
      "Try using .loc[row_indexer,col_indexer] = value instead\n",
      "\n",
      "See the caveats in the documentation: https://pandas.pydata.org/pandas-docs/stable/user_guide/indexing.html#returning-a-view-versus-a-copy\n",
      "  prediction['Group'] = gs\n"
     ]
    },
    {
     "name": "stdout",
     "output_type": "stream",
     "text": [
      "ME scores:  {'precision': 0.13076923076923078, 'recall': 0.9807692307692307, 'fmeasure (percentage)': 23.077}\n",
      "PB scores:  {'precision': 0.004029936672423719, 'recall': 0.056, 'fmeasure (percentage)': 0.752}\n",
      "HB scores:  {'precision': 0.9871323529411765, 'recall': 0.8111782477341389, 'fmeasure (percentage)': 89.055}\n"
     ]
    },
    {
     "name": "stderr",
     "output_type": "stream",
     "text": [
      "/home/john/gits/dcase-bioacoustics-2022/post_processing.py:58: SettingWithCopyWarning: \n",
      "A value is trying to be set on a copy of a slice from a DataFrame.\n",
      "Try using .loc[row_indexer,col_indexer] = value instead\n",
      "\n",
      "See the caveats in the documentation: https://pandas.pydata.org/pandas-docs/stable/user_guide/indexing.html#returning-a-view-versus-a-copy\n",
      "  prediction['Group'] = gs\n"
     ]
    },
    {
     "name": "stdout",
     "output_type": "stream",
     "text": [
      "ME scores:  {'precision': 0.31875, 'recall': 0.9807692307692307, 'fmeasure (percentage)': 48.113}\n",
      "PB scores:  {'precision': 0.004687133817670494, 'recall': 0.08163265306122448, 'fmeasure (percentage)': 0.887}\n",
      "HB scores:  {'precision': 0.9779005524861878, 'recall': 0.8021148036253777, 'fmeasure (percentage)': 88.133}\n"
     ]
    },
    {
     "name": "stderr",
     "output_type": "stream",
     "text": [
      "/home/john/gits/dcase-bioacoustics-2022/post_processing.py:58: SettingWithCopyWarning: \n",
      "A value is trying to be set on a copy of a slice from a DataFrame.\n",
      "Try using .loc[row_indexer,col_indexer] = value instead\n",
      "\n",
      "See the caveats in the documentation: https://pandas.pydata.org/pandas-docs/stable/user_guide/indexing.html#returning-a-view-versus-a-copy\n",
      "  prediction['Group'] = gs\n"
     ]
    },
    {
     "name": "stdout",
     "output_type": "stream",
     "text": [
      "ME scores:  {'precision': 0.4336283185840708, 'recall': 0.9423076923076923, 'fmeasure (percentage)': 59.394}\n",
      "PB scores:  {'precision': 0.007347972972972973, 'recall': 0.3702127659574468, 'fmeasure (percentage)': 1.441}\n",
      "HB scores:  {'precision': 0.9721189591078067, 'recall': 0.7900302114803626, 'fmeasure (percentage)': 87.167}\n"
     ]
    },
    {
     "name": "stderr",
     "output_type": "stream",
     "text": [
      "/home/john/gits/dcase-bioacoustics-2022/post_processing.py:58: SettingWithCopyWarning: \n",
      "A value is trying to be set on a copy of a slice from a DataFrame.\n",
      "Try using .loc[row_indexer,col_indexer] = value instead\n",
      "\n",
      "See the caveats in the documentation: https://pandas.pydata.org/pandas-docs/stable/user_guide/indexing.html#returning-a-view-versus-a-copy\n",
      "  prediction['Group'] = gs\n"
     ]
    },
    {
     "name": "stdout",
     "output_type": "stream",
     "text": [
      "ME scores:  {'precision': 0.4897959183673469, 'recall': 0.9230769230769231, 'fmeasure (percentage)': 64.0}\n",
      "PB scores:  {'precision': 0.0161311825089988, 'recall': 0.5148936170212766, 'fmeasure (percentage)': 3.128}\n",
      "HB scores:  {'precision': 0.959409594095941, 'recall': 0.7854984894259819, 'fmeasure (percentage)': 86.379}\n"
     ]
    },
    {
     "name": "stderr",
     "output_type": "stream",
     "text": [
      "/home/john/gits/dcase-bioacoustics-2022/post_processing.py:58: SettingWithCopyWarning: \n",
      "A value is trying to be set on a copy of a slice from a DataFrame.\n",
      "Try using .loc[row_indexer,col_indexer] = value instead\n",
      "\n",
      "See the caveats in the documentation: https://pandas.pydata.org/pandas-docs/stable/user_guide/indexing.html#returning-a-view-versus-a-copy\n",
      "  prediction['Group'] = gs\n"
     ]
    },
    {
     "name": "stdout",
     "output_type": "stream",
     "text": [
      "ME scores:  {'precision': 0.5222222222222223, 'recall': 0.9038461538461539, 'fmeasure (percentage)': 66.197}\n",
      "PB scores:  {'precision': 0.1029143897996357, 'recall': 0.4808510638297872, 'fmeasure (percentage)': 16.954}\n",
      "HB scores:  {'precision': 0.9536178107606679, 'recall': 0.7764350453172205, 'fmeasure (percentage)': 85.595}\n"
     ]
    },
    {
     "name": "stderr",
     "output_type": "stream",
     "text": [
      "/home/john/gits/dcase-bioacoustics-2022/post_processing.py:58: SettingWithCopyWarning: \n",
      "A value is trying to be set on a copy of a slice from a DataFrame.\n",
      "Try using .loc[row_indexer,col_indexer] = value instead\n",
      "\n",
      "See the caveats in the documentation: https://pandas.pydata.org/pandas-docs/stable/user_guide/indexing.html#returning-a-view-versus-a-copy\n",
      "  prediction['Group'] = gs\n"
     ]
    },
    {
     "name": "stdout",
     "output_type": "stream",
     "text": [
      "ME scores:  {'precision': 0.5625, 'recall': 0.8653846153846154, 'fmeasure (percentage)': 68.182}\n",
      "PB scores:  {'precision': 0.5389221556886228, 'recall': 0.3829787234042553, 'fmeasure (percentage)': 44.776}\n",
      "HB scores:  {'precision': 0.9386617100371747, 'recall': 0.7628398791540786, 'fmeasure (percentage)': 84.167}\n"
     ]
    },
    {
     "name": "stderr",
     "output_type": "stream",
     "text": [
      "/home/john/gits/dcase-bioacoustics-2022/post_processing.py:58: SettingWithCopyWarning: \n",
      "A value is trying to be set on a copy of a slice from a DataFrame.\n",
      "Try using .loc[row_indexer,col_indexer] = value instead\n",
      "\n",
      "See the caveats in the documentation: https://pandas.pydata.org/pandas-docs/stable/user_guide/indexing.html#returning-a-view-versus-a-copy\n",
      "  prediction['Group'] = gs\n"
     ]
    },
    {
     "name": "stdout",
     "output_type": "stream",
     "text": [
      "ME scores:  {'precision': 0.625, 'recall': 0.8653846153846154, 'fmeasure (percentage)': 72.581}\n",
      "PB scores:  {'precision': 0.7701149425287356, 'recall': 0.2851063829787234, 'fmeasure (percentage)': 41.615}\n",
      "HB scores:  {'precision': 0.931098696461825, 'recall': 0.7552870090634441, 'fmeasure (percentage)': 83.403}\n"
     ]
    },
    {
     "name": "stderr",
     "output_type": "stream",
     "text": [
      "/home/john/gits/dcase-bioacoustics-2022/post_processing.py:58: SettingWithCopyWarning: \n",
      "A value is trying to be set on a copy of a slice from a DataFrame.\n",
      "Try using .loc[row_indexer,col_indexer] = value instead\n",
      "\n",
      "See the caveats in the documentation: https://pandas.pydata.org/pandas-docs/stable/user_guide/indexing.html#returning-a-view-versus-a-copy\n",
      "  prediction['Group'] = gs\n"
     ]
    },
    {
     "name": "stdout",
     "output_type": "stream",
     "text": [
      "ME scores:  {'precision': 0.6935483870967742, 'recall': 0.8269230769230769, 'fmeasure (percentage)': 75.439}\n",
      "PB scores:  {'precision': 0.7083333333333334, 'recall': 0.13877551020408163, 'fmeasure (percentage)': 23.208}\n",
      "HB scores:  {'precision': 0.9059040590405905, 'recall': 0.7416918429003021, 'fmeasure (percentage)': 81.561}\n"
     ]
    },
    {
     "name": "stderr",
     "output_type": "stream",
     "text": [
      "/home/john/gits/dcase-bioacoustics-2022/post_processing.py:58: SettingWithCopyWarning: \n",
      "A value is trying to be set on a copy of a slice from a DataFrame.\n",
      "Try using .loc[row_indexer,col_indexer] = value instead\n",
      "\n",
      "See the caveats in the documentation: https://pandas.pydata.org/pandas-docs/stable/user_guide/indexing.html#returning-a-view-versus-a-copy\n",
      "  prediction['Group'] = gs\n"
     ]
    },
    {
     "name": "stdout",
     "output_type": "stream",
     "text": [
      "ME scores:  {'precision': 0.7674418604651163, 'recall': 0.6346153846153846, 'fmeasure (percentage)': 69.474}\n",
      "PB scores:  {'precision': 0.46153846153846156, 'recall': 0.023529411764705882, 'fmeasure (percentage)': 4.478}\n",
      "HB scores:  {'precision': 0.8571428571428571, 'recall': 0.6978851963746223, 'fmeasure (percentage)': 76.936}\n",
      "PCEN (bio) max f-measure = 0.6137330362568361\n"
     ]
    },
    {
     "name": "stderr",
     "output_type": "stream",
     "text": [
      "/home/john/gits/dcase-bioacoustics-2022/post_processing.py:58: SettingWithCopyWarning: \n",
      "A value is trying to be set on a copy of a slice from a DataFrame.\n",
      "Try using .loc[row_indexer,col_indexer] = value instead\n",
      "\n",
      "See the caveats in the documentation: https://pandas.pydata.org/pandas-docs/stable/user_guide/indexing.html#returning-a-view-versus-a-copy\n",
      "  prediction['Group'] = gs\n"
     ]
    },
    {
     "name": "stdout",
     "output_type": "stream",
     "text": [
      "ME scores:  {'precision': 0.09242144177449169, 'recall': 0.9615384615384616, 'fmeasure (percentage)': 16.863}\n",
      "PB scores:  {'precision': 0.0030267753201396975, 'recall': 0.050980392156862744, 'fmeasure (percentage)': 0.571}\n",
      "HB scores:  {'precision': 0.9553072625698324, 'recall': 0.7749244712990937, 'fmeasure (percentage)': 85.571}\n"
     ]
    },
    {
     "name": "stderr",
     "output_type": "stream",
     "text": [
      "/home/john/gits/dcase-bioacoustics-2022/post_processing.py:58: SettingWithCopyWarning: \n",
      "A value is trying to be set on a copy of a slice from a DataFrame.\n",
      "Try using .loc[row_indexer,col_indexer] = value instead\n",
      "\n",
      "See the caveats in the documentation: https://pandas.pydata.org/pandas-docs/stable/user_guide/indexing.html#returning-a-view-versus-a-copy\n",
      "  prediction['Group'] = gs\n"
     ]
    },
    {
     "name": "stdout",
     "output_type": "stream",
     "text": [
      "ME scores:  {'precision': 0.2897727272727273, 'recall': 0.9807692307692307, 'fmeasure (percentage)': 44.737}\n",
      "PB scores:  {'precision': 0.017671517671517672, 'recall': 0.068, 'fmeasure (percentage)': 2.805}\n",
      "HB scores:  {'precision': 0.9544592030360531, 'recall': 0.7598187311178247, 'fmeasure (percentage)': 84.609}\n"
     ]
    },
    {
     "name": "stderr",
     "output_type": "stream",
     "text": [
      "/home/john/gits/dcase-bioacoustics-2022/post_processing.py:58: SettingWithCopyWarning: \n",
      "A value is trying to be set on a copy of a slice from a DataFrame.\n",
      "Try using .loc[row_indexer,col_indexer] = value instead\n",
      "\n",
      "See the caveats in the documentation: https://pandas.pydata.org/pandas-docs/stable/user_guide/indexing.html#returning-a-view-versus-a-copy\n",
      "  prediction['Group'] = gs\n"
     ]
    },
    {
     "name": "stdout",
     "output_type": "stream",
     "text": [
      "ME scores:  {'precision': 0.39166666666666666, 'recall': 0.9038461538461539, 'fmeasure (percentage)': 54.651}\n",
      "PB scores:  {'precision': 0.008757703535517353, 'recall': 0.2297872340425532, 'fmeasure (percentage)': 1.687}\n",
      "HB scores:  {'precision': 0.9379699248120301, 'recall': 0.7537764350453172, 'fmeasure (percentage)': 83.585}\n"
     ]
    },
    {
     "name": "stderr",
     "output_type": "stream",
     "text": [
      "/home/john/gits/dcase-bioacoustics-2022/post_processing.py:58: SettingWithCopyWarning: \n",
      "A value is trying to be set on a copy of a slice from a DataFrame.\n",
      "Try using .loc[row_indexer,col_indexer] = value instead\n",
      "\n",
      "See the caveats in the documentation: https://pandas.pydata.org/pandas-docs/stable/user_guide/indexing.html#returning-a-view-versus-a-copy\n",
      "  prediction['Group'] = gs\n"
     ]
    },
    {
     "name": "stdout",
     "output_type": "stream",
     "text": [
      "ME scores:  {'precision': 0.44, 'recall': 0.8461538461538461, 'fmeasure (percentage)': 57.895}\n",
      "PB scores:  {'precision': 0.009470512268618166, 'recall': 0.46808510638297873, 'fmeasure (percentage)': 1.857}\n",
      "HB scores:  {'precision': 0.9233644859813084, 'recall': 0.7462235649546828, 'fmeasure (percentage)': 82.54}\n"
     ]
    },
    {
     "name": "stderr",
     "output_type": "stream",
     "text": [
      "/home/john/gits/dcase-bioacoustics-2022/post_processing.py:58: SettingWithCopyWarning: \n",
      "A value is trying to be set on a copy of a slice from a DataFrame.\n",
      "Try using .loc[row_indexer,col_indexer] = value instead\n",
      "\n",
      "See the caveats in the documentation: https://pandas.pydata.org/pandas-docs/stable/user_guide/indexing.html#returning-a-view-versus-a-copy\n",
      "  prediction['Group'] = gs\n"
     ]
    },
    {
     "name": "stdout",
     "output_type": "stream",
     "text": [
      "ME scores:  {'precision': 0.4888888888888889, 'recall': 0.8461538461538461, 'fmeasure (percentage)': 61.972}\n",
      "PB scores:  {'precision': 0.04085603112840467, 'recall': 0.44680851063829785, 'fmeasure (percentage)': 7.487}\n",
      "HB scores:  {'precision': 0.8988970588235294, 'recall': 0.7386706948640483, 'fmeasure (percentage)': 81.095}\n"
     ]
    },
    {
     "name": "stderr",
     "output_type": "stream",
     "text": [
      "/home/john/gits/dcase-bioacoustics-2022/post_processing.py:58: SettingWithCopyWarning: \n",
      "A value is trying to be set on a copy of a slice from a DataFrame.\n",
      "Try using .loc[row_indexer,col_indexer] = value instead\n",
      "\n",
      "See the caveats in the documentation: https://pandas.pydata.org/pandas-docs/stable/user_guide/indexing.html#returning-a-view-versus-a-copy\n",
      "  prediction['Group'] = gs\n"
     ]
    },
    {
     "name": "stdout",
     "output_type": "stream",
     "text": [
      "ME scores:  {'precision': 0.5733333333333334, 'recall': 0.8269230769230769, 'fmeasure (percentage)': 67.717}\n",
      "PB scores:  {'precision': 0.42021276595744683, 'recall': 0.33617021276595743, 'fmeasure (percentage)': 37.352}\n",
      "HB scores:  {'precision': 0.8695652173913043, 'recall': 0.7250755287009063, 'fmeasure (percentage)': 79.077}\n"
     ]
    },
    {
     "name": "stderr",
     "output_type": "stream",
     "text": [
      "/home/john/gits/dcase-bioacoustics-2022/post_processing.py:58: SettingWithCopyWarning: \n",
      "A value is trying to be set on a copy of a slice from a DataFrame.\n",
      "Try using .loc[row_indexer,col_indexer] = value instead\n",
      "\n",
      "See the caveats in the documentation: https://pandas.pydata.org/pandas-docs/stable/user_guide/indexing.html#returning-a-view-versus-a-copy\n",
      "  prediction['Group'] = gs\n"
     ]
    },
    {
     "name": "stdout",
     "output_type": "stream",
     "text": [
      "ME scores:  {'precision': 0.5694444444444444, 'recall': 0.7884615384615384, 'fmeasure (percentage)': 66.129}\n",
      "PB scores:  {'precision': 0.7391304347826086, 'recall': 0.204, 'fmeasure (percentage)': 31.975}\n",
      "HB scores:  {'precision': 0.8581818181818182, 'recall': 0.7129909365558912, 'fmeasure (percentage)': 77.888}\n"
     ]
    },
    {
     "name": "stderr",
     "output_type": "stream",
     "text": [
      "/home/john/gits/dcase-bioacoustics-2022/post_processing.py:58: SettingWithCopyWarning: \n",
      "A value is trying to be set on a copy of a slice from a DataFrame.\n",
      "Try using .loc[row_indexer,col_indexer] = value instead\n",
      "\n",
      "See the caveats in the documentation: https://pandas.pydata.org/pandas-docs/stable/user_guide/indexing.html#returning-a-view-versus-a-copy\n",
      "  prediction['Group'] = gs\n"
     ]
    },
    {
     "name": "stdout",
     "output_type": "stream",
     "text": [
      "ME scores:  {'precision': 0.631578947368421, 'recall': 0.6923076923076923, 'fmeasure (percentage)': 66.055}\n",
      "PB scores:  {'precision': 0.65625, 'recall': 0.084, 'fmeasure (percentage)': 14.894}\n",
      "HB scores:  {'precision': 0.8375451263537906, 'recall': 0.7009063444108762, 'fmeasure (percentage)': 76.316}\n"
     ]
    },
    {
     "name": "stderr",
     "output_type": "stream",
     "text": [
      "/home/john/gits/dcase-bioacoustics-2022/post_processing.py:58: SettingWithCopyWarning: \n",
      "A value is trying to be set on a copy of a slice from a DataFrame.\n",
      "Try using .loc[row_indexer,col_indexer] = value instead\n",
      "\n",
      "See the caveats in the documentation: https://pandas.pydata.org/pandas-docs/stable/user_guide/indexing.html#returning-a-view-versus-a-copy\n",
      "  prediction['Group'] = gs\n"
     ]
    },
    {
     "name": "stdout",
     "output_type": "stream",
     "text": [
      "ME scores:  {'precision': 0.6744186046511628, 'recall': 0.5576923076923077, 'fmeasure (percentage)': 61.053}\n",
      "PB scores:  {'precision': 0.5714285714285714, 'recall': 0.01568627450980392, 'fmeasure (percentage)': 3.053}\n",
      "HB scores:  {'precision': 0.782608695652174, 'recall': 0.6525679758308157, 'fmeasure (percentage)': 71.17}\n",
      "PCEN (spch) max f-measure = 0.5536543976809282\n"
     ]
    },
    {
     "data": {
      "image/png": "[encoded data removed]",
      "text/plain": [
       "<Figure size 288x216 with 1 Axes>"
      ]
     },
     "execution_count": 12,
     "metadata": {},
     "output_type": "execute_result"
    },
    {
     "data": {
      "image/png": "[encoded data removed]",
      "text/plain": [
       "<Figure size 288x216 with 1 Axes>"
      ]
     },
     "metadata": {
      "needs_background": "light"
     },
     "output_type": "display_data"
    }
   ],
   "source": [
    "sample_rate = 22050\n",
    "root_dir = '/mnt/storage_1/datasets/bioacoustics_dcase2022/Development_Set_{}Hz/Validation_Set/'.format(sample_rate)\n",
    "csv_paths_me = glob.glob(os.path.join(root_dir, 'ME/*.csv'))\n",
    "csv_paths_pb = glob.glob(os.path.join(root_dir, 'PB/*.csv'))\n",
    "csv_paths_hb = glob.glob(os.path.join(root_dir, 'HB/*.csv'))\n",
    "csv_paths = csv_paths_me + csv_paths_hb + csv_paths_pb\n",
    "\n",
    "configs = [\n",
    "    {\n",
    "        'thrs'               : [0.1, 0.2, 0.3, 0.4, 0.5, 0.6, 0.7, 0.8, 0.9],\n",
    "        'runs'               : [0,1,2,3,4],\n",
    "        'tfs'                : ['tf_decibel', 'tf_pcen_biodiversity', 'tf_pcen_speech'],\n",
    "        'adaptive_embedding' : True,\n",
    "        'stats_group'        : 0,\n",
    "        'label'              : 'Ensemble',\n",
    "        'experiment_dir'     : '../experiments/final_ensemble/',\n",
    "        'hop_size_fraction'  : 2,\n",
    "    },\n",
    "    {\n",
    "        'thrs'               : [0.1, 0.2, 0.3, 0.4, 0.5, 0.6, 0.7, 0.8, 0.9],\n",
    "        'runs'               : [0,1,2,3,4],\n",
    "        'tfs'                : ['tf_decibel'],\n",
    "        'adaptive_embedding' : True,\n",
    "        'stats_group'        : 1,\n",
    "        'label'              : 'log Mel',\n",
    "        'experiment_dir'     : '../experiments/final_ensemble/',\n",
    "        'hop_size_fraction'  : 2,\n",
    "    },\n",
    "    {\n",
    "        'thrs'               : [0.1, 0.2, 0.3, 0.4, 0.5, 0.6, 0.7, 0.8, 0.9],\n",
    "        'runs'               : [0,1,2,3,4],\n",
    "        'tfs'                : ['tf_pcen_biodiversity'],\n",
    "        'adaptive_embedding' : True,\n",
    "        'stats_group'        : 1,\n",
    "        'label'              : 'PCEN (bio)',\n",
    "        'experiment_dir'     : '../experiments/final_ensemble/',\n",
    "        'hop_size_fraction'  : 2,\n",
    "    },\n",
    "    {\n",
    "        'thrs'               : [0.1, 0.2, 0.3, 0.4, 0.5, 0.6, 0.7, 0.8, 0.9],\n",
    "        'runs'               : [0,1,2,3,4],\n",
    "        'tfs'                : ['tf_pcen_speech'],\n",
    "        'adaptive_embedding' : True,\n",
    "        'stats_group'        : 1,\n",
    "        'label'              : 'PCEN (spch)',\n",
    "        'experiment_dir'     : '../experiments/final_ensemble/',\n",
    "        'hop_size_fraction'  : 2,\n",
    "\n",
    "    }\n",
    "]\n",
    "\n",
    "evaluate_and_plot(configs, csv_paths, \"figure_3.pdf\")"
   ]
  },
  {
   "cell_type": "markdown",
   "id": "secret-cannon",
   "metadata": {},
   "source": [
    "# Figure 4"
   ]
  },
  {
   "cell_type": "code",
   "execution_count": 13,
   "id": "headed-ceramic",
   "metadata": {
    "scrolled": false
   },
   "outputs": [
    {
     "name": "stderr",
     "output_type": "stream",
     "text": [
      "/home/john/gits/dcase-bioacoustics-2022/post_processing.py:58: SettingWithCopyWarning: \n",
      "A value is trying to be set on a copy of a slice from a DataFrame.\n",
      "Try using .loc[row_indexer,col_indexer] = value instead\n",
      "\n",
      "See the caveats in the documentation: https://pandas.pydata.org/pandas-docs/stable/user_guide/indexing.html#returning-a-view-versus-a-copy\n",
      "  prediction['Group'] = gs\n"
     ]
    },
    {
     "name": "stdout",
     "output_type": "stream",
     "text": [
      "ME scores:  {'precision': 0.13123359580052493, 'recall': 0.9615384615384616, 'fmeasure (percentage)': 23.095}\n",
      "PB scores:  {'precision': 0.002084574151280524, 'recall': 0.027450980392156862, 'fmeasure (percentage)': 0.387}\n",
      "HB scores:  {'precision': 0.9817518248175182, 'recall': 0.8126888217522659, 'fmeasure (percentage)': 88.926}\n"
     ]
    },
    {
     "name": "stderr",
     "output_type": "stream",
     "text": [
      "/home/john/gits/dcase-bioacoustics-2022/post_processing.py:58: SettingWithCopyWarning: \n",
      "A value is trying to be set on a copy of a slice from a DataFrame.\n",
      "Try using .loc[row_indexer,col_indexer] = value instead\n",
      "\n",
      "See the caveats in the documentation: https://pandas.pydata.org/pandas-docs/stable/user_guide/indexing.html#returning-a-view-versus-a-copy\n",
      "  prediction['Group'] = gs\n"
     ]
    },
    {
     "name": "stdout",
     "output_type": "stream",
     "text": [
      "ME scores:  {'precision': 0.3170731707317073, 'recall': 1.0, 'fmeasure (percentage)': 48.148}\n",
      "PB scores:  {'precision': 0.006300963676797628, 'recall': 0.06938775510204082, 'fmeasure (percentage)': 1.155}\n",
      "HB scores:  {'precision': 0.9831460674157303, 'recall': 0.7930513595166163, 'fmeasure (percentage)': 87.793}\n"
     ]
    },
    {
     "name": "stderr",
     "output_type": "stream",
     "text": [
      "/home/john/gits/dcase-bioacoustics-2022/post_processing.py:58: SettingWithCopyWarning: \n",
      "A value is trying to be set on a copy of a slice from a DataFrame.\n",
      "Try using .loc[row_indexer,col_indexer] = value instead\n",
      "\n",
      "See the caveats in the documentation: https://pandas.pydata.org/pandas-docs/stable/user_guide/indexing.html#returning-a-view-versus-a-copy\n",
      "  prediction['Group'] = gs\n"
     ]
    },
    {
     "name": "stdout",
     "output_type": "stream",
     "text": [
      "ME scores:  {'precision': 0.4473684210526316, 'recall': 0.9807692307692307, 'fmeasure (percentage)': 61.446}\n",
      "PB scores:  {'precision': 0.007852862161603637, 'recall': 0.32340425531914896, 'fmeasure (percentage)': 1.533}\n",
      "HB scores:  {'precision': 0.9718045112781954, 'recall': 0.7809667673716012, 'fmeasure (percentage)': 86.6}\n"
     ]
    },
    {
     "name": "stderr",
     "output_type": "stream",
     "text": [
      "/home/john/gits/dcase-bioacoustics-2022/post_processing.py:58: SettingWithCopyWarning: \n",
      "A value is trying to be set on a copy of a slice from a DataFrame.\n",
      "Try using .loc[row_indexer,col_indexer] = value instead\n",
      "\n",
      "See the caveats in the documentation: https://pandas.pydata.org/pandas-docs/stable/user_guide/indexing.html#returning-a-view-versus-a-copy\n",
      "  prediction['Group'] = gs\n"
     ]
    },
    {
     "name": "stdout",
     "output_type": "stream",
     "text": [
      "ME scores:  {'precision': 0.5208333333333334, 'recall': 0.9615384615384616, 'fmeasure (percentage)': 67.568}\n",
      "PB scores:  {'precision': 0.013324222753672703, 'recall': 0.4978723404255319, 'fmeasure (percentage)': 2.595}\n",
      "HB scores:  {'precision': 0.9622641509433962, 'recall': 0.770392749244713, 'fmeasure (percentage)': 85.57}\n"
     ]
    },
    {
     "name": "stderr",
     "output_type": "stream",
     "text": [
      "/home/john/gits/dcase-bioacoustics-2022/post_processing.py:58: SettingWithCopyWarning: \n",
      "A value is trying to be set on a copy of a slice from a DataFrame.\n",
      "Try using .loc[row_indexer,col_indexer] = value instead\n",
      "\n",
      "See the caveats in the documentation: https://pandas.pydata.org/pandas-docs/stable/user_guide/indexing.html#returning-a-view-versus-a-copy\n",
      "  prediction['Group'] = gs\n"
     ]
    },
    {
     "name": "stdout",
     "output_type": "stream",
     "text": [
      "ME scores:  {'precision': 0.5595238095238095, 'recall': 0.9038461538461539, 'fmeasure (percentage)': 69.118}\n",
      "PB scores:  {'precision': 0.08255451713395638, 'recall': 0.451063829787234, 'fmeasure (percentage)': 13.957}\n",
      "HB scores:  {'precision': 0.9386617100371747, 'recall': 0.7628398791540786, 'fmeasure (percentage)': 84.167}\n"
     ]
    },
    {
     "name": "stderr",
     "output_type": "stream",
     "text": [
      "/home/john/gits/dcase-bioacoustics-2022/post_processing.py:58: SettingWithCopyWarning: \n",
      "A value is trying to be set on a copy of a slice from a DataFrame.\n",
      "Try using .loc[row_indexer,col_indexer] = value instead\n",
      "\n",
      "See the caveats in the documentation: https://pandas.pydata.org/pandas-docs/stable/user_guide/indexing.html#returning-a-view-versus-a-copy\n",
      "  prediction['Group'] = gs\n"
     ]
    },
    {
     "name": "stdout",
     "output_type": "stream",
     "text": [
      "ME scores:  {'precision': 0.6027397260273972, 'recall': 0.8461538461538461, 'fmeasure (percentage)': 70.4}\n",
      "PB scores:  {'precision': 0.5472972972972973, 'recall': 0.3446808510638298, 'fmeasure (percentage)': 42.298}\n",
      "HB scores:  {'precision': 0.9185185185185185, 'recall': 0.7492447129909365, 'fmeasure (percentage)': 82.529}\n"
     ]
    },
    {
     "name": "stderr",
     "output_type": "stream",
     "text": [
      "/home/john/gits/dcase-bioacoustics-2022/post_processing.py:58: SettingWithCopyWarning: \n",
      "A value is trying to be set on a copy of a slice from a DataFrame.\n",
      "Try using .loc[row_indexer,col_indexer] = value instead\n",
      "\n",
      "See the caveats in the documentation: https://pandas.pydata.org/pandas-docs/stable/user_guide/indexing.html#returning-a-view-versus-a-copy\n",
      "  prediction['Group'] = gs\n"
     ]
    },
    {
     "name": "stdout",
     "output_type": "stream",
     "text": [
      "ME scores:  {'precision': 0.7368421052631579, 'recall': 0.8076923076923077, 'fmeasure (percentage)': 77.064}\n",
      "PB scores:  {'precision': 0.765625, 'recall': 0.2, 'fmeasure (percentage)': 31.715}\n",
      "HB scores:  {'precision': 0.8966789667896679, 'recall': 0.7341389728096677, 'fmeasure (percentage)': 80.731}\n"
     ]
    },
    {
     "name": "stderr",
     "output_type": "stream",
     "text": [
      "/home/john/gits/dcase-bioacoustics-2022/post_processing.py:58: SettingWithCopyWarning: \n",
      "A value is trying to be set on a copy of a slice from a DataFrame.\n",
      "Try using .loc[row_indexer,col_indexer] = value instead\n",
      "\n",
      "See the caveats in the documentation: https://pandas.pydata.org/pandas-docs/stable/user_guide/indexing.html#returning-a-view-versus-a-copy\n",
      "  prediction['Group'] = gs\n"
     ]
    },
    {
     "name": "stdout",
     "output_type": "stream",
     "text": [
      "ME scores:  {'precision': 0.7916666666666666, 'recall': 0.7307692307692307, 'fmeasure (percentage)': 76.0}\n",
      "PB scores:  {'precision': 0.6666666666666666, 'recall': 0.088, 'fmeasure (percentage)': 15.548}\n",
      "HB scores:  {'precision': 0.8498168498168498, 'recall': 0.7009063444108762, 'fmeasure (percentage)': 76.821}\n"
     ]
    },
    {
     "name": "stderr",
     "output_type": "stream",
     "text": [
      "/home/john/gits/dcase-bioacoustics-2022/post_processing.py:58: SettingWithCopyWarning: \n",
      "A value is trying to be set on a copy of a slice from a DataFrame.\n",
      "Try using .loc[row_indexer,col_indexer] = value instead\n",
      "\n",
      "See the caveats in the documentation: https://pandas.pydata.org/pandas-docs/stable/user_guide/indexing.html#returning-a-view-versus-a-copy\n",
      "  prediction['Group'] = gs\n"
     ]
    },
    {
     "name": "stdout",
     "output_type": "stream",
     "text": [
      "ME scores:  {'precision': 0.9333333333333333, 'recall': 0.5384615384615384, 'fmeasure (percentage)': 68.293}\n",
      "PB scores:  {'precision': 0.6, 'recall': 0.011764705882352941, 'fmeasure (percentage)': 2.308}\n",
      "HB scores:  {'precision': 0.7981308411214953, 'recall': 0.6450151057401813, 'fmeasure (percentage)': 71.345}\n",
      "Adaptive max f-measure = 0.6004388457767321\n"
     ]
    },
    {
     "name": "stderr",
     "output_type": "stream",
     "text": [
      "/home/john/gits/dcase-bioacoustics-2022/post_processing.py:58: SettingWithCopyWarning: \n",
      "A value is trying to be set on a copy of a slice from a DataFrame.\n",
      "Try using .loc[row_indexer,col_indexer] = value instead\n",
      "\n",
      "See the caveats in the documentation: https://pandas.pydata.org/pandas-docs/stable/user_guide/indexing.html#returning-a-view-versus-a-copy\n",
      "  prediction['Group'] = gs\n"
     ]
    },
    {
     "name": "stdout",
     "output_type": "stream",
     "text": [
      "ME scores:  {'precision': 0.13123359580052493, 'recall': 0.9615384615384616, 'fmeasure (percentage)': 23.095}\n",
      "PB scores:  {'precision': 0.002084574151280524, 'recall': 0.027450980392156862, 'fmeasure (percentage)': 0.387}\n",
      "HB scores:  {'precision': 0.9761904761904762, 'recall': 0.4917541229385307, 'fmeasure (percentage)': 65.404}\n"
     ]
    },
    {
     "name": "stderr",
     "output_type": "stream",
     "text": [
      "/home/john/gits/dcase-bioacoustics-2022/post_processing.py:58: SettingWithCopyWarning: \n",
      "A value is trying to be set on a copy of a slice from a DataFrame.\n",
      "Try using .loc[row_indexer,col_indexer] = value instead\n",
      "\n",
      "See the caveats in the documentation: https://pandas.pydata.org/pandas-docs/stable/user_guide/indexing.html#returning-a-view-versus-a-copy\n",
      "  prediction['Group'] = gs\n"
     ]
    },
    {
     "name": "stdout",
     "output_type": "stream",
     "text": [
      "ME scores:  {'precision': 0.3170731707317073, 'recall': 1.0, 'fmeasure (percentage)': 48.148}\n",
      "PB scores:  {'precision': 0.006300963676797628, 'recall': 0.06938775510204082, 'fmeasure (percentage)': 1.155}\n",
      "HB scores:  {'precision': 0.9089108910891089, 'recall': 0.6933534743202417, 'fmeasure (percentage)': 78.663}\n"
     ]
    },
    {
     "name": "stderr",
     "output_type": "stream",
     "text": [
      "/home/john/gits/dcase-bioacoustics-2022/post_processing.py:58: SettingWithCopyWarning: \n",
      "A value is trying to be set on a copy of a slice from a DataFrame.\n",
      "Try using .loc[row_indexer,col_indexer] = value instead\n",
      "\n",
      "See the caveats in the documentation: https://pandas.pydata.org/pandas-docs/stable/user_guide/indexing.html#returning-a-view-versus-a-copy\n",
      "  prediction['Group'] = gs\n"
     ]
    },
    {
     "name": "stdout",
     "output_type": "stream",
     "text": [
      "ME scores:  {'precision': 0.4473684210526316, 'recall': 0.9807692307692307, 'fmeasure (percentage)': 61.446}\n",
      "PB scores:  {'precision': 0.007852862161603637, 'recall': 0.32340425531914896, 'fmeasure (percentage)': 1.533}\n",
      "HB scores:  {'precision': 0.8670411985018727, 'recall': 0.6993957703927492, 'fmeasure (percentage)': 77.425}\n"
     ]
    },
    {
     "name": "stderr",
     "output_type": "stream",
     "text": [
      "/home/john/gits/dcase-bioacoustics-2022/post_processing.py:58: SettingWithCopyWarning: \n",
      "A value is trying to be set on a copy of a slice from a DataFrame.\n",
      "Try using .loc[row_indexer,col_indexer] = value instead\n",
      "\n",
      "See the caveats in the documentation: https://pandas.pydata.org/pandas-docs/stable/user_guide/indexing.html#returning-a-view-versus-a-copy\n",
      "  prediction['Group'] = gs\n"
     ]
    },
    {
     "name": "stdout",
     "output_type": "stream",
     "text": [
      "ME scores:  {'precision': 0.5208333333333334, 'recall': 0.9615384615384616, 'fmeasure (percentage)': 67.568}\n",
      "PB scores:  {'precision': 0.013324222753672703, 'recall': 0.4978723404255319, 'fmeasure (percentage)': 2.595}\n",
      "HB scores:  {'precision': 0.810077519379845, 'recall': 0.6314199395770392, 'fmeasure (percentage)': 70.968}\n"
     ]
    },
    {
     "name": "stderr",
     "output_type": "stream",
     "text": [
      "/home/john/gits/dcase-bioacoustics-2022/post_processing.py:58: SettingWithCopyWarning: \n",
      "A value is trying to be set on a copy of a slice from a DataFrame.\n",
      "Try using .loc[row_indexer,col_indexer] = value instead\n",
      "\n",
      "See the caveats in the documentation: https://pandas.pydata.org/pandas-docs/stable/user_guide/indexing.html#returning-a-view-versus-a-copy\n",
      "  prediction['Group'] = gs\n"
     ]
    },
    {
     "name": "stdout",
     "output_type": "stream",
     "text": [
      "ME scores:  {'precision': 0.5595238095238095, 'recall': 0.9038461538461539, 'fmeasure (percentage)': 69.118}\n",
      "PB scores:  {'precision': 0.08255451713395638, 'recall': 0.451063829787234, 'fmeasure (percentage)': 13.957}\n",
      "HB scores:  {'precision': 0.7285714285714285, 'recall': 0.5392749244712991, 'fmeasure (percentage)': 61.979}\n"
     ]
    },
    {
     "name": "stderr",
     "output_type": "stream",
     "text": [
      "/home/john/gits/dcase-bioacoustics-2022/post_processing.py:58: SettingWithCopyWarning: \n",
      "A value is trying to be set on a copy of a slice from a DataFrame.\n",
      "Try using .loc[row_indexer,col_indexer] = value instead\n",
      "\n",
      "See the caveats in the documentation: https://pandas.pydata.org/pandas-docs/stable/user_guide/indexing.html#returning-a-view-versus-a-copy\n",
      "  prediction['Group'] = gs\n"
     ]
    },
    {
     "name": "stdout",
     "output_type": "stream",
     "text": [
      "ME scores:  {'precision': 0.6027397260273972, 'recall': 0.8461538461538461, 'fmeasure (percentage)': 70.4}\n",
      "PB scores:  {'precision': 0.5472972972972973, 'recall': 0.3446808510638298, 'fmeasure (percentage)': 42.298}\n",
      "HB scores:  {'precision': 0.6522727272727272, 'recall': 0.4335347432024169, 'fmeasure (percentage)': 52.087}\n"
     ]
    },
    {
     "name": "stderr",
     "output_type": "stream",
     "text": [
      "/home/john/gits/dcase-bioacoustics-2022/post_processing.py:58: SettingWithCopyWarning: \n",
      "A value is trying to be set on a copy of a slice from a DataFrame.\n",
      "Try using .loc[row_indexer,col_indexer] = value instead\n",
      "\n",
      "See the caveats in the documentation: https://pandas.pydata.org/pandas-docs/stable/user_guide/indexing.html#returning-a-view-versus-a-copy\n",
      "  prediction['Group'] = gs\n"
     ]
    },
    {
     "name": "stdout",
     "output_type": "stream",
     "text": [
      "ME scores:  {'precision': 0.7368421052631579, 'recall': 0.8076923076923077, 'fmeasure (percentage)': 77.064}\n",
      "PB scores:  {'precision': 0.765625, 'recall': 0.2, 'fmeasure (percentage)': 31.715}\n",
      "HB scores:  {'precision': 0.6107784431137725, 'recall': 0.3058470764617691, 'fmeasure (percentage)': 40.759}\n"
     ]
    },
    {
     "name": "stderr",
     "output_type": "stream",
     "text": [
      "/home/john/gits/dcase-bioacoustics-2022/post_processing.py:58: SettingWithCopyWarning: \n",
      "A value is trying to be set on a copy of a slice from a DataFrame.\n",
      "Try using .loc[row_indexer,col_indexer] = value instead\n",
      "\n",
      "See the caveats in the documentation: https://pandas.pydata.org/pandas-docs/stable/user_guide/indexing.html#returning-a-view-versus-a-copy\n",
      "  prediction['Group'] = gs\n"
     ]
    },
    {
     "name": "stdout",
     "output_type": "stream",
     "text": [
      "ME scores:  {'precision': 0.7916666666666666, 'recall': 0.7307692307692307, 'fmeasure (percentage)': 76.0}\n",
      "PB scores:  {'precision': 0.6666666666666666, 'recall': 0.088, 'fmeasure (percentage)': 15.548}\n",
      "HB scores:  {'precision': 0.4351145038167939, 'recall': 0.17091454272863568, 'fmeasure (percentage)': 24.543}\n"
     ]
    },
    {
     "name": "stderr",
     "output_type": "stream",
     "text": [
      "/home/john/gits/dcase-bioacoustics-2022/post_processing.py:58: SettingWithCopyWarning: \n",
      "A value is trying to be set on a copy of a slice from a DataFrame.\n",
      "Try using .loc[row_indexer,col_indexer] = value instead\n",
      "\n",
      "See the caveats in the documentation: https://pandas.pydata.org/pandas-docs/stable/user_guide/indexing.html#returning-a-view-versus-a-copy\n",
      "  prediction['Group'] = gs\n"
     ]
    },
    {
     "name": "stdout",
     "output_type": "stream",
     "text": [
      "ME scores:  {'precision': 0.9333333333333333, 'recall': 0.5384615384615384, 'fmeasure (percentage)': 68.293}\n",
      "PB scores:  {'precision': 0.6, 'recall': 0.011764705882352941, 'fmeasure (percentage)': 2.308}\n",
      "HB scores:  {'precision': 0.45, 'recall': 0.05202312138728324, 'fmeasure (percentage)': 9.326}\n",
      "T/sr = 0.09 [s] max f-measure = 0.5258994336468429\n"
     ]
    },
    {
     "name": "stderr",
     "output_type": "stream",
     "text": [
      "/home/john/gits/dcase-bioacoustics-2022/post_processing.py:58: SettingWithCopyWarning: \n",
      "A value is trying to be set on a copy of a slice from a DataFrame.\n",
      "Try using .loc[row_indexer,col_indexer] = value instead\n",
      "\n",
      "See the caveats in the documentation: https://pandas.pydata.org/pandas-docs/stable/user_guide/indexing.html#returning-a-view-versus-a-copy\n",
      "  prediction['Group'] = gs\n"
     ]
    },
    {
     "name": "stdout",
     "output_type": "stream",
     "text": [
      "ME scores:  {'precision': 0.408, 'recall': 0.9807692307692307, 'fmeasure (percentage)': 57.627}\n",
      "PB scores:  {'precision': 0.0782608695652174, 'recall': 0.036734693877551024, 'fmeasure (percentage)': 5.0}\n",
      "HB scores:  {'precision': 0.975609756097561, 'recall': 0.6646525679758308, 'fmeasure (percentage)': 79.066}\n"
     ]
    },
    {
     "name": "stderr",
     "output_type": "stream",
     "text": [
      "/home/john/gits/dcase-bioacoustics-2022/post_processing.py:58: SettingWithCopyWarning: \n",
      "A value is trying to be set on a copy of a slice from a DataFrame.\n",
      "Try using .loc[row_indexer,col_indexer] = value instead\n",
      "\n",
      "See the caveats in the documentation: https://pandas.pydata.org/pandas-docs/stable/user_guide/indexing.html#returning-a-view-versus-a-copy\n",
      "  prediction['Group'] = gs\n"
     ]
    },
    {
     "name": "stdout",
     "output_type": "stream",
     "text": [
      "ME scores:  {'precision': 0.5294117647058824, 'recall': 0.8653846153846154, 'fmeasure (percentage)': 65.693}\n",
      "PB scores:  {'precision': 0.006405518600640552, 'recall': 0.10833333333333334, 'fmeasure (percentage)': 1.21}\n",
      "HB scores:  {'precision': 0.9418181818181818, 'recall': 0.7824773413897281, 'fmeasure (percentage)': 85.479}\n"
     ]
    },
    {
     "name": "stderr",
     "output_type": "stream",
     "text": [
      "/home/john/gits/dcase-bioacoustics-2022/post_processing.py:58: SettingWithCopyWarning: \n",
      "A value is trying to be set on a copy of a slice from a DataFrame.\n",
      "Try using .loc[row_indexer,col_indexer] = value instead\n",
      "\n",
      "See the caveats in the documentation: https://pandas.pydata.org/pandas-docs/stable/user_guide/indexing.html#returning-a-view-versus-a-copy\n",
      "  prediction['Group'] = gs\n"
     ]
    },
    {
     "name": "stdout",
     "output_type": "stream",
     "text": [
      "ME scores:  {'precision': 0.639344262295082, 'recall': 0.75, 'fmeasure (percentage)': 69.027}\n",
      "PB scores:  {'precision': 0.020524515393386546, 'recall': 0.225, 'fmeasure (percentage)': 3.762}\n",
      "HB scores:  {'precision': 0.9139194139194139, 'recall': 0.7537764350453172, 'fmeasure (percentage)': 82.616}\n"
     ]
    },
    {
     "name": "stderr",
     "output_type": "stream",
     "text": [
      "/home/john/gits/dcase-bioacoustics-2022/post_processing.py:58: SettingWithCopyWarning: \n",
      "A value is trying to be set on a copy of a slice from a DataFrame.\n",
      "Try using .loc[row_indexer,col_indexer] = value instead\n",
      "\n",
      "See the caveats in the documentation: https://pandas.pydata.org/pandas-docs/stable/user_guide/indexing.html#returning-a-view-versus-a-copy\n",
      "  prediction['Group'] = gs\n"
     ]
    },
    {
     "name": "stdout",
     "output_type": "stream",
     "text": [
      "ME scores:  {'precision': 0.68, 'recall': 0.6538461538461539, 'fmeasure (percentage)': 66.667}\n",
      "PB scores:  {'precision': 0.035422343324250684, 'recall': 0.21666666666666667, 'fmeasure (percentage)': 6.089}\n",
      "HB scores:  {'precision': 0.8811700182815356, 'recall': 0.7280966767371602, 'fmeasure (percentage)': 79.735}\n"
     ]
    },
    {
     "name": "stderr",
     "output_type": "stream",
     "text": [
      "/home/john/gits/dcase-bioacoustics-2022/post_processing.py:58: SettingWithCopyWarning: \n",
      "A value is trying to be set on a copy of a slice from a DataFrame.\n",
      "Try using .loc[row_indexer,col_indexer] = value instead\n",
      "\n",
      "See the caveats in the documentation: https://pandas.pydata.org/pandas-docs/stable/user_guide/indexing.html#returning-a-view-versus-a-copy\n",
      "  prediction['Group'] = gs\n"
     ]
    },
    {
     "name": "stdout",
     "output_type": "stream",
     "text": [
      "ME scores:  {'precision': 0.7804878048780488, 'recall': 0.6153846153846154, 'fmeasure (percentage)': 68.817}\n",
      "PB scores:  {'precision': 0.18604651162790697, 'recall': 0.23333333333333334, 'fmeasure (percentage)': 20.702}\n",
      "HB scores:  {'precision': 0.8266423357664233, 'recall': 0.6842900302114804, 'fmeasure (percentage)': 74.876}\n"
     ]
    },
    {
     "name": "stderr",
     "output_type": "stream",
     "text": [
      "/home/john/gits/dcase-bioacoustics-2022/post_processing.py:58: SettingWithCopyWarning: \n",
      "A value is trying to be set on a copy of a slice from a DataFrame.\n",
      "Try using .loc[row_indexer,col_indexer] = value instead\n",
      "\n",
      "See the caveats in the documentation: https://pandas.pydata.org/pandas-docs/stable/user_guide/indexing.html#returning-a-view-versus-a-copy\n",
      "  prediction['Group'] = gs\n"
     ]
    },
    {
     "name": "stdout",
     "output_type": "stream",
     "text": [
      "ME scores:  {'precision': 0.8285714285714286, 'recall': 0.5576923076923077, 'fmeasure (percentage)': 66.667}\n",
      "PB scores:  {'precision': 0.6421052631578947, 'recall': 0.25416666666666665, 'fmeasure (percentage)': 36.418}\n",
      "HB scores:  {'precision': 0.8093385214007782, 'recall': 0.6283987915407855, 'fmeasure (percentage)': 70.748}\n"
     ]
    },
    {
     "name": "stderr",
     "output_type": "stream",
     "text": [
      "/home/john/gits/dcase-bioacoustics-2022/post_processing.py:58: SettingWithCopyWarning: \n",
      "A value is trying to be set on a copy of a slice from a DataFrame.\n",
      "Try using .loc[row_indexer,col_indexer] = value instead\n",
      "\n",
      "See the caveats in the documentation: https://pandas.pydata.org/pandas-docs/stable/user_guide/indexing.html#returning-a-view-versus-a-copy\n",
      "  prediction['Group'] = gs\n"
     ]
    },
    {
     "name": "stdout",
     "output_type": "stream",
     "text": [
      "ME scores:  {'precision': 0.9285714285714286, 'recall': 0.5, 'fmeasure (percentage)': 65.0}\n",
      "PB scores:  {'precision': 0.6885245901639344, 'recall': 0.175, 'fmeasure (percentage)': 27.907}\n",
      "HB scores:  {'precision': 0.7612244897959184, 'recall': 0.5634441087613293, 'fmeasure (percentage)': 64.757}\n"
     ]
    },
    {
     "name": "stderr",
     "output_type": "stream",
     "text": [
      "/home/john/gits/dcase-bioacoustics-2022/post_processing.py:58: SettingWithCopyWarning: \n",
      "A value is trying to be set on a copy of a slice from a DataFrame.\n",
      "Try using .loc[row_indexer,col_indexer] = value instead\n",
      "\n",
      "See the caveats in the documentation: https://pandas.pydata.org/pandas-docs/stable/user_guide/indexing.html#returning-a-view-versus-a-copy\n",
      "  prediction['Group'] = gs\n"
     ]
    },
    {
     "name": "stdout",
     "output_type": "stream",
     "text": [
      "ME scores:  {'precision': 0.9523809523809523, 'recall': 0.38461538461538464, 'fmeasure (percentage)': 54.795}\n",
      "PB scores:  {'precision': 0.7083333333333334, 'recall': 0.13877551020408163, 'fmeasure (percentage)': 23.208}\n",
      "HB scores:  {'precision': 0.7066974595842956, 'recall': 0.4622356495468278, 'fmeasure (percentage)': 55.89}\n"
     ]
    },
    {
     "name": "stderr",
     "output_type": "stream",
     "text": [
      "/home/john/gits/dcase-bioacoustics-2022/post_processing.py:58: SettingWithCopyWarning: \n",
      "A value is trying to be set on a copy of a slice from a DataFrame.\n",
      "Try using .loc[row_indexer,col_indexer] = value instead\n",
      "\n",
      "See the caveats in the documentation: https://pandas.pydata.org/pandas-docs/stable/user_guide/indexing.html#returning-a-view-versus-a-copy\n",
      "  prediction['Group'] = gs\n"
     ]
    },
    {
     "name": "stdout",
     "output_type": "stream",
     "text": [
      "ME scores:  {'precision': 0.9473684210526315, 'recall': 0.34615384615384615, 'fmeasure (percentage)': 50.704}\n",
      "PB scores:  {'precision': 0.7368421052631579, 'recall': 0.056, 'fmeasure (percentage)': 10.409}\n",
      "HB scores:  {'precision': 0.6107594936708861, 'recall': 0.2893553223388306, 'fmeasure (percentage)': 39.268}\n",
      "T/sr = 0.19 [s] max f-measure = 0.5300949781355319\n"
     ]
    },
    {
     "name": "stderr",
     "output_type": "stream",
     "text": [
      "/home/john/gits/dcase-bioacoustics-2022/post_processing.py:58: SettingWithCopyWarning: \n",
      "A value is trying to be set on a copy of a slice from a DataFrame.\n",
      "Try using .loc[row_indexer,col_indexer] = value instead\n",
      "\n",
      "See the caveats in the documentation: https://pandas.pydata.org/pandas-docs/stable/user_guide/indexing.html#returning-a-view-versus-a-copy\n",
      "  prediction['Group'] = gs\n"
     ]
    },
    {
     "name": "stdout",
     "output_type": "stream",
     "text": [
      "ME scores:  {'precision': 0.2, 'recall': 0.6153846153846154, 'fmeasure (percentage)': 30.189}\n",
      "PB scores:  {'precision': 0.014492753623188406, 'recall': 0.008, 'fmeasure (percentage)': 1.031}\n",
      "HB scores:  {'precision': 0.9795501022494888, 'recall': 0.7235649546827795, 'fmeasure (percentage)': 83.232}\n"
     ]
    },
    {
     "name": "stderr",
     "output_type": "stream",
     "text": [
      "/home/john/gits/dcase-bioacoustics-2022/post_processing.py:58: SettingWithCopyWarning: \n",
      "A value is trying to be set on a copy of a slice from a DataFrame.\n",
      "Try using .loc[row_indexer,col_indexer] = value instead\n",
      "\n",
      "See the caveats in the documentation: https://pandas.pydata.org/pandas-docs/stable/user_guide/indexing.html#returning-a-view-versus-a-copy\n",
      "  prediction['Group'] = gs\n"
     ]
    },
    {
     "name": "stdout",
     "output_type": "stream",
     "text": [
      "ME scores:  {'precision': 0.31932773109243695, 'recall': 0.7307692307692307, 'fmeasure (percentage)': 44.444}\n",
      "PB scores:  {'precision': 0.01092896174863388, 'recall': 0.0163265306122449, 'fmeasure (percentage)': 1.309}\n",
      "HB scores:  {'precision': 0.9578754578754579, 'recall': 0.7900302114803626, 'fmeasure (percentage)': 86.589}\n"
     ]
    },
    {
     "name": "stderr",
     "output_type": "stream",
     "text": [
      "/home/john/gits/dcase-bioacoustics-2022/post_processing.py:58: SettingWithCopyWarning: \n",
      "A value is trying to be set on a copy of a slice from a DataFrame.\n",
      "Try using .loc[row_indexer,col_indexer] = value instead\n",
      "\n",
      "See the caveats in the documentation: https://pandas.pydata.org/pandas-docs/stable/user_guide/indexing.html#returning-a-view-versus-a-copy\n",
      "  prediction['Group'] = gs\n"
     ]
    },
    {
     "name": "stdout",
     "output_type": "stream",
     "text": [
      "ME scores:  {'precision': 0.40625, 'recall': 0.75, 'fmeasure (percentage)': 52.703}\n",
      "PB scores:  {'precision': 0.009717314487632508, 'recall': 0.044897959183673466, 'fmeasure (percentage)': 1.598}\n",
      "HB scores:  {'precision': 0.9491525423728814, 'recall': 0.7613293051359517, 'fmeasure (percentage)': 84.493}\n"
     ]
    },
    {
     "name": "stderr",
     "output_type": "stream",
     "text": [
      "/home/john/gits/dcase-bioacoustics-2022/post_processing.py:58: SettingWithCopyWarning: \n",
      "A value is trying to be set on a copy of a slice from a DataFrame.\n",
      "Try using .loc[row_indexer,col_indexer] = value instead\n",
      "\n",
      "See the caveats in the documentation: https://pandas.pydata.org/pandas-docs/stable/user_guide/indexing.html#returning-a-view-versus-a-copy\n",
      "  prediction['Group'] = gs\n"
     ]
    },
    {
     "name": "stdout",
     "output_type": "stream",
     "text": [
      "ME scores:  {'precision': 0.5, 'recall': 0.6923076923076923, 'fmeasure (percentage)': 58.065}\n",
      "PB scores:  {'precision': 0.12568306010928962, 'recall': 0.09387755102040816, 'fmeasure (percentage)': 10.748}\n",
      "HB scores:  {'precision': 0.9272388059701493, 'recall': 0.7507552870090635, 'fmeasure (percentage)': 82.972}\n"
     ]
    },
    {
     "name": "stderr",
     "output_type": "stream",
     "text": [
      "/home/john/gits/dcase-bioacoustics-2022/post_processing.py:58: SettingWithCopyWarning: \n",
      "A value is trying to be set on a copy of a slice from a DataFrame.\n",
      "Try using .loc[row_indexer,col_indexer] = value instead\n",
      "\n",
      "See the caveats in the documentation: https://pandas.pydata.org/pandas-docs/stable/user_guide/indexing.html#returning-a-view-versus-a-copy\n",
      "  prediction['Group'] = gs\n"
     ]
    },
    {
     "name": "stdout",
     "output_type": "stream",
     "text": [
      "ME scores:  {'precision': 0.5892857142857143, 'recall': 0.6346153846153846, 'fmeasure (percentage)': 61.111}\n",
      "PB scores:  {'precision': 0.33663366336633666, 'recall': 0.13877551020408163, 'fmeasure (percentage)': 19.653}\n",
      "HB scores:  {'precision': 0.8968692449355433, 'recall': 0.7356495468277946, 'fmeasure (percentage)': 80.83}\n"
     ]
    },
    {
     "name": "stderr",
     "output_type": "stream",
     "text": [
      "/home/john/gits/dcase-bioacoustics-2022/post_processing.py:58: SettingWithCopyWarning: \n",
      "A value is trying to be set on a copy of a slice from a DataFrame.\n",
      "Try using .loc[row_indexer,col_indexer] = value instead\n",
      "\n",
      "See the caveats in the documentation: https://pandas.pydata.org/pandas-docs/stable/user_guide/indexing.html#returning-a-view-versus-a-copy\n",
      "  prediction['Group'] = gs\n"
     ]
    },
    {
     "name": "stdout",
     "output_type": "stream",
     "text": [
      "ME scores:  {'precision': 0.6829268292682927, 'recall': 0.5384615384615384, 'fmeasure (percentage)': 60.215}\n",
      "PB scores:  {'precision': 0.3855421686746988, 'recall': 0.1306122448979592, 'fmeasure (percentage)': 19.512}\n",
      "HB scores:  {'precision': 0.8818011257035647, 'recall': 0.7099697885196374, 'fmeasure (percentage)': 78.661}\n"
     ]
    },
    {
     "name": "stderr",
     "output_type": "stream",
     "text": [
      "/home/john/gits/dcase-bioacoustics-2022/post_processing.py:58: SettingWithCopyWarning: \n",
      "A value is trying to be set on a copy of a slice from a DataFrame.\n",
      "Try using .loc[row_indexer,col_indexer] = value instead\n",
      "\n",
      "See the caveats in the documentation: https://pandas.pydata.org/pandas-docs/stable/user_guide/indexing.html#returning-a-view-versus-a-copy\n",
      "  prediction['Group'] = gs\n"
     ]
    },
    {
     "name": "stdout",
     "output_type": "stream",
     "text": [
      "ME scores:  {'precision': 0.78125, 'recall': 0.4807692307692308, 'fmeasure (percentage)': 59.524}\n",
      "PB scores:  {'precision': 0.48148148148148145, 'recall': 0.15918367346938775, 'fmeasure (percentage)': 23.926}\n",
      "HB scores:  {'precision': 0.8503787878787878, 'recall': 0.6782477341389728, 'fmeasure (percentage)': 75.462}\n"
     ]
    },
    {
     "name": "stderr",
     "output_type": "stream",
     "text": [
      "/home/john/gits/dcase-bioacoustics-2022/post_processing.py:58: SettingWithCopyWarning: \n",
      "A value is trying to be set on a copy of a slice from a DataFrame.\n",
      "Try using .loc[row_indexer,col_indexer] = value instead\n",
      "\n",
      "See the caveats in the documentation: https://pandas.pydata.org/pandas-docs/stable/user_guide/indexing.html#returning-a-view-versus-a-copy\n",
      "  prediction['Group'] = gs\n"
     ]
    },
    {
     "name": "stdout",
     "output_type": "stream",
     "text": [
      "ME scores:  {'precision': 0.8214285714285714, 'recall': 0.4423076923076923, 'fmeasure (percentage)': 57.5}\n",
      "PB scores:  {'precision': 0.6190476190476191, 'recall': 0.10612244897959183, 'fmeasure (percentage)': 18.118}\n",
      "HB scores:  {'precision': 0.8110236220472441, 'recall': 0.622356495468278, 'fmeasure (percentage)': 70.427}\n"
     ]
    },
    {
     "name": "stderr",
     "output_type": "stream",
     "text": [
      "/home/john/gits/dcase-bioacoustics-2022/post_processing.py:58: SettingWithCopyWarning: \n",
      "A value is trying to be set on a copy of a slice from a DataFrame.\n",
      "Try using .loc[row_indexer,col_indexer] = value instead\n",
      "\n",
      "See the caveats in the documentation: https://pandas.pydata.org/pandas-docs/stable/user_guide/indexing.html#returning-a-view-versus-a-copy\n",
      "  prediction['Group'] = gs\n"
     ]
    },
    {
     "name": "stdout",
     "output_type": "stream",
     "text": [
      "ME scores:  {'precision': 0.8636363636363636, 'recall': 0.36538461538461536, 'fmeasure (percentage)': 51.351}\n",
      "PB scores:  {'precision': 0.4375, 'recall': 0.027450980392156862, 'fmeasure (percentage)': 5.166}\n",
      "HB scores:  {'precision': 0.7091295116772823, 'recall': 0.5045317220543807, 'fmeasure (percentage)': 58.959}\n",
      "T/sr = 0.37 [s] max f-measure = 0.4175566296225879\n"
     ]
    },
    {
     "name": "stderr",
     "output_type": "stream",
     "text": [
      "/home/john/gits/dcase-bioacoustics-2022/post_processing.py:58: SettingWithCopyWarning: \n",
      "A value is trying to be set on a copy of a slice from a DataFrame.\n",
      "Try using .loc[row_indexer,col_indexer] = value instead\n",
      "\n",
      "See the caveats in the documentation: https://pandas.pydata.org/pandas-docs/stable/user_guide/indexing.html#returning-a-view-versus-a-copy\n",
      "  prediction['Group'] = gs\n"
     ]
    },
    {
     "name": "stdout",
     "output_type": "stream",
     "text": [
      "ME scores:  {'precision': 1e-05, 'recall': 1e-05, 'fmeasure (percentage)': 0.001}\n",
      "PB scores:  {'precision': 1e-05, 'recall': 1e-05, 'fmeasure (percentage)': 0.001}\n",
      "HB scores:  {'precision': 0.9817518248175182, 'recall': 0.8126888217522659, 'fmeasure (percentage)': 88.926}\n"
     ]
    },
    {
     "name": "stderr",
     "output_type": "stream",
     "text": [
      "/home/john/gits/dcase-bioacoustics-2022/post_processing.py:58: SettingWithCopyWarning: \n",
      "A value is trying to be set on a copy of a slice from a DataFrame.\n",
      "Try using .loc[row_indexer,col_indexer] = value instead\n",
      "\n",
      "See the caveats in the documentation: https://pandas.pydata.org/pandas-docs/stable/user_guide/indexing.html#returning-a-view-versus-a-copy\n",
      "  prediction['Group'] = gs\n"
     ]
    },
    {
     "name": "stdout",
     "output_type": "stream",
     "text": [
      "ME scores:  {'precision': 0.014084507042253521, 'recall': 0.017543859649122806, 'fmeasure (percentage)': 1.562}\n",
      "PB scores:  {'precision': 1e-05, 'recall': 1e-05, 'fmeasure (percentage)': 0.001}\n",
      "HB scores:  {'precision': 0.9831460674157303, 'recall': 0.7930513595166163, 'fmeasure (percentage)': 87.793}\n"
     ]
    },
    {
     "name": "stderr",
     "output_type": "stream",
     "text": [
      "/home/john/gits/dcase-bioacoustics-2022/post_processing.py:58: SettingWithCopyWarning: \n",
      "A value is trying to be set on a copy of a slice from a DataFrame.\n",
      "Try using .loc[row_indexer,col_indexer] = value instead\n",
      "\n",
      "See the caveats in the documentation: https://pandas.pydata.org/pandas-docs/stable/user_guide/indexing.html#returning-a-view-versus-a-copy\n",
      "  prediction['Group'] = gs\n"
     ]
    },
    {
     "name": "stdout",
     "output_type": "stream",
     "text": [
      "ME scores:  {'precision': 0.03278688524590164, 'recall': 0.03508771929824561, 'fmeasure (percentage)': 3.39}\n",
      "PB scores:  {'precision': 1e-05, 'recall': 1e-05, 'fmeasure (percentage)': 0.001}\n",
      "HB scores:  {'precision': 0.9718045112781954, 'recall': 0.7809667673716012, 'fmeasure (percentage)': 86.6}\n"
     ]
    },
    {
     "name": "stderr",
     "output_type": "stream",
     "text": [
      "/home/john/gits/dcase-bioacoustics-2022/post_processing.py:58: SettingWithCopyWarning: \n",
      "A value is trying to be set on a copy of a slice from a DataFrame.\n",
      "Try using .loc[row_indexer,col_indexer] = value instead\n",
      "\n",
      "See the caveats in the documentation: https://pandas.pydata.org/pandas-docs/stable/user_guide/indexing.html#returning-a-view-versus-a-copy\n",
      "  prediction['Group'] = gs\n"
     ]
    },
    {
     "name": "stdout",
     "output_type": "stream",
     "text": [
      "ME scores:  {'precision': 0.09433962264150944, 'recall': 0.08771929824561403, 'fmeasure (percentage)': 9.091}\n",
      "PB scores:  {'precision': 1e-05, 'recall': 1e-05, 'fmeasure (percentage)': 0.001}\n",
      "HB scores:  {'precision': 0.9622641509433962, 'recall': 0.770392749244713, 'fmeasure (percentage)': 85.57}\n"
     ]
    },
    {
     "name": "stderr",
     "output_type": "stream",
     "text": [
      "/home/john/gits/dcase-bioacoustics-2022/post_processing.py:58: SettingWithCopyWarning: \n",
      "A value is trying to be set on a copy of a slice from a DataFrame.\n",
      "Try using .loc[row_indexer,col_indexer] = value instead\n",
      "\n",
      "See the caveats in the documentation: https://pandas.pydata.org/pandas-docs/stable/user_guide/indexing.html#returning-a-view-versus-a-copy\n",
      "  prediction['Group'] = gs\n"
     ]
    },
    {
     "name": "stdout",
     "output_type": "stream",
     "text": [
      "ME scores:  {'precision': 0.1, 'recall': 0.08771929824561403, 'fmeasure (percentage)': 9.346}\n",
      "PB scores:  {'precision': 1e-05, 'recall': 1e-05, 'fmeasure (percentage)': 0.001}\n",
      "HB scores:  {'precision': 0.9386617100371747, 'recall': 0.7628398791540786, 'fmeasure (percentage)': 84.167}\n"
     ]
    },
    {
     "name": "stderr",
     "output_type": "stream",
     "text": [
      "/home/john/gits/dcase-bioacoustics-2022/post_processing.py:58: SettingWithCopyWarning: \n",
      "A value is trying to be set on a copy of a slice from a DataFrame.\n",
      "Try using .loc[row_indexer,col_indexer] = value instead\n",
      "\n",
      "See the caveats in the documentation: https://pandas.pydata.org/pandas-docs/stable/user_guide/indexing.html#returning-a-view-versus-a-copy\n",
      "  prediction['Group'] = gs\n"
     ]
    },
    {
     "name": "stdout",
     "output_type": "stream",
     "text": [
      "ME scores:  {'precision': 0.1794871794871795, 'recall': 0.12280701754385964, 'fmeasure (percentage)': 14.583}\n",
      "PB scores:  {'precision': 1e-05, 'recall': 1e-05, 'fmeasure (percentage)': 0.001}\n",
      "HB scores:  {'precision': 0.9185185185185185, 'recall': 0.7492447129909365, 'fmeasure (percentage)': 82.529}\n"
     ]
    },
    {
     "name": "stderr",
     "output_type": "stream",
     "text": [
      "/home/john/gits/dcase-bioacoustics-2022/post_processing.py:58: SettingWithCopyWarning: \n",
      "A value is trying to be set on a copy of a slice from a DataFrame.\n",
      "Try using .loc[row_indexer,col_indexer] = value instead\n",
      "\n",
      "See the caveats in the documentation: https://pandas.pydata.org/pandas-docs/stable/user_guide/indexing.html#returning-a-view-versus-a-copy\n",
      "  prediction['Group'] = gs\n"
     ]
    },
    {
     "name": "stdout",
     "output_type": "stream",
     "text": [
      "ME scores:  {'precision': 0.2, 'recall': 0.12280701754385964, 'fmeasure (percentage)': 15.217}\n",
      "PB scores:  {'precision': 1e-05, 'recall': 1e-05, 'fmeasure (percentage)': 0.001}\n",
      "HB scores:  {'precision': 0.8950276243093923, 'recall': 0.7341389728096677, 'fmeasure (percentage)': 80.664}\n"
     ]
    },
    {
     "name": "stderr",
     "output_type": "stream",
     "text": [
      "/home/john/gits/dcase-bioacoustics-2022/post_processing.py:58: SettingWithCopyWarning: \n",
      "A value is trying to be set on a copy of a slice from a DataFrame.\n",
      "Try using .loc[row_indexer,col_indexer] = value instead\n",
      "\n",
      "See the caveats in the documentation: https://pandas.pydata.org/pandas-docs/stable/user_guide/indexing.html#returning-a-view-versus-a-copy\n",
      "  prediction['Group'] = gs\n"
     ]
    },
    {
     "name": "stdout",
     "output_type": "stream",
     "text": [
      "ME scores:  {'precision': 0.28, 'recall': 0.12280701754385964, 'fmeasure (percentage)': 17.073}\n",
      "PB scores:  {'precision': 1e-05, 'recall': 1e-05, 'fmeasure (percentage)': 0.001}\n",
      "HB scores:  {'precision': 0.8467153284671532, 'recall': 0.7009063444108762, 'fmeasure (percentage)': 76.694}\n"
     ]
    },
    {
     "name": "stderr",
     "output_type": "stream",
     "text": [
      "/home/john/gits/dcase-bioacoustics-2022/post_processing.py:58: SettingWithCopyWarning: \n",
      "A value is trying to be set on a copy of a slice from a DataFrame.\n",
      "Try using .loc[row_indexer,col_indexer] = value instead\n",
      "\n",
      "See the caveats in the documentation: https://pandas.pydata.org/pandas-docs/stable/user_guide/indexing.html#returning-a-view-versus-a-copy\n",
      "  prediction['Group'] = gs\n"
     ]
    },
    {
     "name": "stdout",
     "output_type": "stream",
     "text": [
      "ME scores:  {'precision': 0.29411764705882354, 'recall': 0.08771929824561403, 'fmeasure (percentage)': 13.514}\n",
      "PB scores:  {'precision': 1e-05, 'recall': 1e-05, 'fmeasure (percentage)': 0.001}\n",
      "HB scores:  {'precision': 0.7988826815642458, 'recall': 0.648036253776435, 'fmeasure (percentage)': 71.56}\n",
      "T/sr = 0.74 [s] max f-measure = 2.9997851847179456e-05\n"
     ]
    },
    {
     "data": {
      "image/png": "[encoded data removed]",
      "text/plain": [
       "<Figure size 288x216 with 1 Axes>"
      ]
     },
     "execution_count": 13,
     "metadata": {},
     "output_type": "execute_result"
    },
    {
     "data": {
      "image/png": "[encoded data removed]",
      "text/plain": [
       "<Figure size 288x216 with 1 Axes>"
      ]
     },
     "metadata": {
      "needs_background": "light"
     },
     "output_type": "display_data"
    }
   ],
   "source": [
    "sample_rate = 22050\n",
    "root_dir = '/mnt/storage_1/datasets/bioacoustics_dcase2022/Development_Set_{}Hz/Validation_Set/'.format(sample_rate)\n",
    "csv_paths_me = glob.glob(os.path.join(root_dir, 'ME/*.csv'))\n",
    "csv_paths_pb = glob.glob(os.path.join(root_dir, 'PB/*.csv'))\n",
    "csv_paths_hb = glob.glob(os.path.join(root_dir, 'HB/*.csv'))\n",
    "csv_paths = csv_paths_me + csv_paths_hb + csv_paths_pb\n",
    "\n",
    "configs = [\n",
    "    {\n",
    "        'thrs'               : [0.1, 0.2, 0.3, 0.4, 0.5, 0.6, 0.7, 0.8, 0.9],\n",
    "        'runs'               : [0,1,2,3,4],\n",
    "        'tfs'                : ['tf_decibel', 'tf_pcen_biodiversity', 'tf_pcen_speech'],\n",
    "        'adaptive_embedding' : True,\n",
    "        'stats_group'        : 0,\n",
    "        'label'              : 'Adaptive',\n",
    "        'experiment_dir'     : '../experiments/final_ensemble/',\n",
    "        'hop_size_fraction'  : 2,\n",
    "\n",
    "    },\n",
    "    {\n",
    "        'thrs'               : [0.1, 0.2, 0.3, 0.4, 0.5, 0.6, 0.7, 0.8, 0.9],\n",
    "        'runs'               : [0,1,2,3,4],\n",
    "        'tfs'                : ['tf_decibel', 'tf_pcen_biodiversity', 'tf_pcen_speech'],\n",
    "        'adaptive_embedding' : False,\n",
    "        'window_size'        : 2048,\n",
    "        'stats_group'        : 0,\n",
    "        'label'              : 'T/sr = {:.2f} [s]'.format(2048/22050),\n",
    "        'experiment_dir'     : '../experiments/final_ensemble/',\n",
    "        'hop_size_fraction'  : 2,\n",
    "\n",
    "    },\n",
    "    {\n",
    "        'thrs'               : [0.1, 0.2, 0.3, 0.4, 0.5, 0.6, 0.7, 0.8, 0.9],\n",
    "        'runs'               : [0,1,2,3,4],\n",
    "        'tfs'                : ['tf_decibel', 'tf_pcen_biodiversity', 'tf_pcen_speech'],\n",
    "        'adaptive_embedding' : False,\n",
    "        'window_size'        : 4096,\n",
    "        'stats_group'        : 0,\n",
    "        'label'              : 'T/sr = {:.2f} [s]'.format(4096/22050),\n",
    "        'experiment_dir'     : '../experiments/final_ensemble/',\n",
    "        'hop_size_fraction'  : 2,\n",
    "\n",
    "    },\n",
    "    {\n",
    "        'thrs'               : [0.1, 0.2, 0.3, 0.4, 0.5, 0.6, 0.7, 0.8, 0.9],\n",
    "        'runs'               : [0,1,2,3,4],\n",
    "        'tfs'                : ['tf_decibel', 'tf_pcen_biodiversity', 'tf_pcen_speech'],\n",
    "        'adaptive_embedding' : False,\n",
    "        'window_size'        : 8192,\n",
    "        'stats_group'        : 0,\n",
    "        'label'              : 'T/sr = {:.2f} [s]'.format(8192/22050),\n",
    "        'experiment_dir'     : '../experiments/final_ensemble/',\n",
    "        'hop_size_fraction'  : 2,\n",
    "\n",
    "    },\n",
    "    {\n",
    "        'thrs'               : [0.1, 0.2, 0.3, 0.4, 0.5, 0.6, 0.7, 0.8, 0.9],\n",
    "        'runs'               : [0,1,2,3,4],\n",
    "        'tfs'                : ['tf_decibel', 'tf_pcen_biodiversity', 'tf_pcen_speech'],\n",
    "        'adaptive_embedding' : False,\n",
    "        'window_size'        : 16384,\n",
    "        'stats_group'        : 0,\n",
    "        'label'              : 'T/sr = {:.2f} [s]'.format(16384/22050),\n",
    "        'experiment_dir'     : '../experiments/final_ensemble/',\n",
    "        'hop_size_fraction'  : 2,\n",
    "\n",
    "    },\n",
    "]\n",
    "\n",
    "evaluate_and_plot(configs, csv_paths, \"figure_4.pdf\")"
   ]
  },
  {
   "cell_type": "markdown",
   "id": "offensive-paradise",
   "metadata": {},
   "source": [
    "# Other results"
   ]
  },
  {
   "cell_type": "code",
   "execution_count": 20,
   "id": "labeled-botswana",
   "metadata": {},
   "outputs": [
    {
     "name": "stderr",
     "output_type": "stream",
     "text": [
      "IOPub data rate exceeded.\n",
      "The notebook server will temporarily stop sending output\n",
      "to the client in order to avoid crashing it.\n",
      "To change this limit, set the config variable\n",
      "`--NotebookApp.iopub_data_rate_limit`.\n",
      "\n",
      "Current values:\n",
      "NotebookApp.iopub_data_rate_limit=1000000.0 (bytes/sec)\n",
      "NotebookApp.rate_limit_window=3.0 (secs)\n",
      "\n",
      "/home/john/gits/dcase-bioacoustics-2022/post_processing.py:58: SettingWithCopyWarning: \n",
      "A value is trying to be set on a copy of a slice from a DataFrame.\n",
      "Try using .loc[row_indexer,col_indexer] = value instead\n",
      "\n",
      "See the caveats in the documentation: https://pandas.pydata.org/pandas-docs/stable/user_guide/indexing.html#returning-a-view-versus-a-copy\n",
      "  prediction['Group'] = gs\n"
     ]
    },
    {
     "name": "stdout",
     "output_type": "stream",
     "text": [
      "ME scores:  {'precision': 0.26737967914438504, 'recall': 0.9615384615384616, 'fmeasure (percentage)': 41.841}\n",
      "PB scores:  {'precision': 0.005844155844155844, 'recall': 0.072, 'fmeasure (percentage)': 1.081}\n",
      "HB scores:  {'precision': 0.9744318181818182, 'recall': 0.5142428785607196, 'fmeasure (percentage)': 67.321}\n"
     ]
    },
    {
     "name": "stderr",
     "output_type": "stream",
     "text": [
      "/home/john/gits/dcase-bioacoustics-2022/post_processing.py:58: SettingWithCopyWarning: \n",
      "A value is trying to be set on a copy of a slice from a DataFrame.\n",
      "Try using .loc[row_indexer,col_indexer] = value instead\n",
      "\n",
      "See the caveats in the documentation: https://pandas.pydata.org/pandas-docs/stable/user_guide/indexing.html#returning-a-view-versus-a-copy\n",
      "  prediction['Group'] = gs\n"
     ]
    },
    {
     "name": "stdout",
     "output_type": "stream",
     "text": [
      "ME scores:  {'precision': 0.4380952380952381, 'recall': 0.8846153846153846, 'fmeasure (percentage)': 58.599}\n",
      "PB scores:  {'precision': 0.013775290572535515, 'recall': 0.2612244897959184, 'fmeasure (percentage)': 2.617}\n",
      "HB scores:  {'precision': 0.872072072072072, 'recall': 0.7311178247734139, 'fmeasure (percentage)': 79.54}\n"
     ]
    },
    {
     "name": "stderr",
     "output_type": "stream",
     "text": [
      "/home/john/gits/dcase-bioacoustics-2022/post_processing.py:58: SettingWithCopyWarning: \n",
      "A value is trying to be set on a copy of a slice from a DataFrame.\n",
      "Try using .loc[row_indexer,col_indexer] = value instead\n",
      "\n",
      "See the caveats in the documentation: https://pandas.pydata.org/pandas-docs/stable/user_guide/indexing.html#returning-a-view-versus-a-copy\n",
      "  prediction['Group'] = gs\n"
     ]
    },
    {
     "name": "stdout",
     "output_type": "stream",
     "text": [
      "ME scores:  {'precision': 0.4888888888888889, 'recall': 0.8461538461538461, 'fmeasure (percentage)': 61.972}\n",
      "PB scores:  {'precision': 0.013495072024260804, 'recall': 0.37872340425531914, 'fmeasure (percentage)': 2.606}\n",
      "HB scores:  {'precision': 0.8136200716845878, 'recall': 0.6858006042296072, 'fmeasure (percentage)': 74.426}\n"
     ]
    },
    {
     "name": "stderr",
     "output_type": "stream",
     "text": [
      "/home/john/gits/dcase-bioacoustics-2022/post_processing.py:58: SettingWithCopyWarning: \n",
      "A value is trying to be set on a copy of a slice from a DataFrame.\n",
      "Try using .loc[row_indexer,col_indexer] = value instead\n",
      "\n",
      "See the caveats in the documentation: https://pandas.pydata.org/pandas-docs/stable/user_guide/indexing.html#returning-a-view-versus-a-copy\n",
      "  prediction['Group'] = gs\n"
     ]
    },
    {
     "name": "stdout",
     "output_type": "stream",
     "text": [
      "ME scores:  {'precision': 0.5185185185185185, 'recall': 0.8076923076923077, 'fmeasure (percentage)': 63.158}\n",
      "PB scores:  {'precision': 0.008538612664349403, 'recall': 0.4808510638297872, 'fmeasure (percentage)': 1.678}\n",
      "HB scores:  {'precision': 0.7705544933078394, 'recall': 0.6087613293051359, 'fmeasure (percentage)': 68.017}\n"
     ]
    },
    {
     "name": "stderr",
     "output_type": "stream",
     "text": [
      "/home/john/gits/dcase-bioacoustics-2022/post_processing.py:58: SettingWithCopyWarning: \n",
      "A value is trying to be set on a copy of a slice from a DataFrame.\n",
      "Try using .loc[row_indexer,col_indexer] = value instead\n",
      "\n",
      "See the caveats in the documentation: https://pandas.pydata.org/pandas-docs/stable/user_guide/indexing.html#returning-a-view-versus-a-copy\n",
      "  prediction['Group'] = gs\n"
     ]
    },
    {
     "name": "stdout",
     "output_type": "stream",
     "text": [
      "ME scores:  {'precision': 0.547945205479452, 'recall': 0.7692307692307693, 'fmeasure (percentage)': 64.0}\n",
      "PB scores:  {'precision': 0.026608051827857474, 'recall': 0.48936170212765956, 'fmeasure (percentage)': 5.047}\n",
      "HB scores:  {'precision': 0.7263157894736842, 'recall': 0.5211480362537765, 'fmeasure (percentage)': 60.686}\n"
     ]
    },
    {
     "name": "stderr",
     "output_type": "stream",
     "text": [
      "/home/john/gits/dcase-bioacoustics-2022/post_processing.py:58: SettingWithCopyWarning: \n",
      "A value is trying to be set on a copy of a slice from a DataFrame.\n",
      "Try using .loc[row_indexer,col_indexer] = value instead\n",
      "\n",
      "See the caveats in the documentation: https://pandas.pydata.org/pandas-docs/stable/user_guide/indexing.html#returning-a-view-versus-a-copy\n",
      "  prediction['Group'] = gs\n"
     ]
    },
    {
     "name": "stdout",
     "output_type": "stream",
     "text": [
      "ME scores:  {'precision': 0.5735294117647058, 'recall': 0.75, 'fmeasure (percentage)': 65.0}\n",
      "PB scores:  {'precision': 0.18546845124282982, 'recall': 0.4127659574468085, 'fmeasure (percentage)': 25.594}\n",
      "HB scores:  {'precision': 0.669047619047619, 'recall': 0.4244712990936556, 'fmeasure (percentage)': 51.941}\n"
     ]
    },
    {
     "name": "stderr",
     "output_type": "stream",
     "text": [
      "/home/john/gits/dcase-bioacoustics-2022/post_processing.py:58: SettingWithCopyWarning: \n",
      "A value is trying to be set on a copy of a slice from a DataFrame.\n",
      "Try using .loc[row_indexer,col_indexer] = value instead\n",
      "\n",
      "See the caveats in the documentation: https://pandas.pydata.org/pandas-docs/stable/user_guide/indexing.html#returning-a-view-versus-a-copy\n",
      "  prediction['Group'] = gs\n"
     ]
    },
    {
     "name": "stdout",
     "output_type": "stream",
     "text": [
      "ME scores:  {'precision': 0.6190476190476191, 'recall': 0.75, 'fmeasure (percentage)': 67.826}\n",
      "PB scores:  {'precision': 0.6428571428571429, 'recall': 0.2938775510204082, 'fmeasure (percentage)': 40.336}\n",
      "HB scores:  {'precision': 0.6055555555555555, 'recall': 0.3268365817091454, 'fmeasure (percentage)': 42.454}\n"
     ]
    },
    {
     "name": "stderr",
     "output_type": "stream",
     "text": [
      "/home/john/gits/dcase-bioacoustics-2022/post_processing.py:58: SettingWithCopyWarning: \n",
      "A value is trying to be set on a copy of a slice from a DataFrame.\n",
      "Try using .loc[row_indexer,col_indexer] = value instead\n",
      "\n",
      "See the caveats in the documentation: https://pandas.pydata.org/pandas-docs/stable/user_guide/indexing.html#returning-a-view-versus-a-copy\n",
      "  prediction['Group'] = gs\n"
     ]
    },
    {
     "name": "stdout",
     "output_type": "stream",
     "text": [
      "ME scores:  {'precision': 0.6129032258064516, 'recall': 0.7307692307692307, 'fmeasure (percentage)': 66.667}\n",
      "PB scores:  {'precision': 0.7432432432432432, 'recall': 0.22, 'fmeasure (percentage)': 33.951}\n",
      "HB scores:  {'precision': 0.5327510917030568, 'recall': 0.18154761904761904, 'fmeasure (percentage)': 27.081}\n"
     ]
    },
    {
     "name": "stderr",
     "output_type": "stream",
     "text": [
      "/home/john/gits/dcase-bioacoustics-2022/post_processing.py:58: SettingWithCopyWarning: \n",
      "A value is trying to be set on a copy of a slice from a DataFrame.\n",
      "Try using .loc[row_indexer,col_indexer] = value instead\n",
      "\n",
      "See the caveats in the documentation: https://pandas.pydata.org/pandas-docs/stable/user_guide/indexing.html#returning-a-view-versus-a-copy\n",
      "  prediction['Group'] = gs\n"
     ]
    },
    {
     "name": "stdout",
     "output_type": "stream",
     "text": [
      "ME scores:  {'precision': 0.5714285714285714, 'recall': 0.6153846153846154, 'fmeasure (percentage)': 59.259}\n",
      "PB scores:  {'precision': 0.7560975609756098, 'recall': 0.124, 'fmeasure (percentage)': 21.306}\n",
      "HB scores:  {'precision': 0.40540540540540543, 'recall': 0.08670520231213873, 'fmeasure (percentage)': 14.286}\n",
      "Prediction 0 max f-measure = 0.4755088962166319\n"
     ]
    },
    {
     "name": "stderr",
     "output_type": "stream",
     "text": [
      "IOPub data rate exceeded.\n",
      "The notebook server will temporarily stop sending output\n",
      "to the client in order to avoid crashing it.\n",
      "To change this limit, set the config variable\n",
      "`--NotebookApp.iopub_data_rate_limit`.\n",
      "\n",
      "Current values:\n",
      "NotebookApp.iopub_data_rate_limit=1000000.0 (bytes/sec)\n",
      "NotebookApp.rate_limit_window=3.0 (secs)\n",
      "\n",
      "/home/john/gits/dcase-bioacoustics-2022/post_processing.py:58: SettingWithCopyWarning: \n",
      "A value is trying to be set on a copy of a slice from a DataFrame.\n",
      "Try using .loc[row_indexer,col_indexer] = value instead\n",
      "\n",
      "See the caveats in the documentation: https://pandas.pydata.org/pandas-docs/stable/user_guide/indexing.html#returning-a-view-versus-a-copy\n",
      "  prediction['Group'] = gs\n"
     ]
    },
    {
     "name": "stdout",
     "output_type": "stream",
     "text": [
      "ME scores:  {'precision': 0.04940711462450593, 'recall': 0.9615384615384616, 'fmeasure (percentage)': 9.398}\n",
      "PB scores:  {'precision': 0.0031272552321385616, 'recall': 0.050980392156862744, 'fmeasure (percentage)': 0.589}\n",
      "HB scores:  {'precision': 0.9368421052631579, 'recall': 0.6671664167916042, 'fmeasure (percentage)': 77.933}\n"
     ]
    },
    {
     "name": "stderr",
     "output_type": "stream",
     "text": [
      "/home/john/gits/dcase-bioacoustics-2022/post_processing.py:58: SettingWithCopyWarning: \n",
      "A value is trying to be set on a copy of a slice from a DataFrame.\n",
      "Try using .loc[row_indexer,col_indexer] = value instead\n",
      "\n",
      "See the caveats in the documentation: https://pandas.pydata.org/pandas-docs/stable/user_guide/indexing.html#returning-a-view-versus-a-copy\n",
      "  prediction['Group'] = gs\n"
     ]
    },
    {
     "name": "stdout",
     "output_type": "stream",
     "text": [
      "ME scores:  {'precision': 0.22127659574468084, 'recall': 1.0, 'fmeasure (percentage)': 36.237}\n",
      "PB scores:  {'precision': 0.006708760852407261, 'recall': 0.068, 'fmeasure (percentage)': 1.221}\n",
      "HB scores:  {'precision': 0.8665413533834586, 'recall': 0.6963746223564955, 'fmeasure (percentage)': 77.219}\n"
     ]
    },
    {
     "name": "stderr",
     "output_type": "stream",
     "text": [
      "/home/john/gits/dcase-bioacoustics-2022/post_processing.py:58: SettingWithCopyWarning: \n",
      "A value is trying to be set on a copy of a slice from a DataFrame.\n",
      "Try using .loc[row_indexer,col_indexer] = value instead\n",
      "\n",
      "See the caveats in the documentation: https://pandas.pydata.org/pandas-docs/stable/user_guide/indexing.html#returning-a-view-versus-a-copy\n",
      "  prediction['Group'] = gs\n"
     ]
    },
    {
     "name": "stdout",
     "output_type": "stream",
     "text": [
      "ME scores:  {'precision': 0.35374149659863946, 'recall': 1.0, 'fmeasure (percentage)': 52.261}\n",
      "PB scores:  {'precision': 0.005434079441066115, 'recall': 0.17872340425531916, 'fmeasure (percentage)': 1.055}\n",
      "HB scores:  {'precision': 0.8156312625250501, 'recall': 0.6148036253776435, 'fmeasure (percentage)': 70.112}\n"
     ]
    },
    {
     "name": "stderr",
     "output_type": "stream",
     "text": [
      "/home/john/gits/dcase-bioacoustics-2022/post_processing.py:58: SettingWithCopyWarning: \n",
      "A value is trying to be set on a copy of a slice from a DataFrame.\n",
      "Try using .loc[row_indexer,col_indexer] = value instead\n",
      "\n",
      "See the caveats in the documentation: https://pandas.pydata.org/pandas-docs/stable/user_guide/indexing.html#returning-a-view-versus-a-copy\n",
      "  prediction['Group'] = gs\n"
     ]
    },
    {
     "name": "stdout",
     "output_type": "stream",
     "text": [
      "ME scores:  {'precision': 0.40476190476190477, 'recall': 0.9807692307692307, 'fmeasure (percentage)': 57.303}\n",
      "PB scores:  {'precision': 0.006773196554218452, 'recall': 0.43829787234042555, 'fmeasure (percentage)': 1.334}\n",
      "HB scores:  {'precision': 0.7635574837310195, 'recall': 0.5317220543806647, 'fmeasure (percentage)': 62.689}\n"
     ]
    },
    {
     "name": "stderr",
     "output_type": "stream",
     "text": [
      "/home/john/gits/dcase-bioacoustics-2022/post_processing.py:58: SettingWithCopyWarning: \n",
      "A value is trying to be set on a copy of a slice from a DataFrame.\n",
      "Try using .loc[row_indexer,col_indexer] = value instead\n",
      "\n",
      "See the caveats in the documentation: https://pandas.pydata.org/pandas-docs/stable/user_guide/indexing.html#returning-a-view-versus-a-copy\n",
      "  prediction['Group'] = gs\n"
     ]
    },
    {
     "name": "stdout",
     "output_type": "stream",
     "text": [
      "ME scores:  {'precision': 0.43478260869565216, 'recall': 0.9615384615384616, 'fmeasure (percentage)': 59.88}\n",
      "PB scores:  {'precision': 0.015108834827144686, 'recall': 0.502127659574468, 'fmeasure (percentage)': 2.933}\n",
      "HB scores:  {'precision': 0.7181372549019608, 'recall': 0.4425981873111782, 'fmeasure (percentage)': 54.766}\n"
     ]
    },
    {
     "name": "stderr",
     "output_type": "stream",
     "text": [
      "/home/john/gits/dcase-bioacoustics-2022/post_processing.py:58: SettingWithCopyWarning: \n",
      "A value is trying to be set on a copy of a slice from a DataFrame.\n",
      "Try using .loc[row_indexer,col_indexer] = value instead\n",
      "\n",
      "See the caveats in the documentation: https://pandas.pydata.org/pandas-docs/stable/user_guide/indexing.html#returning-a-view-versus-a-copy\n",
      "  prediction['Group'] = gs\n"
     ]
    },
    {
     "name": "stdout",
     "output_type": "stream",
     "text": [
      "ME scores:  {'precision': 0.494949494949495, 'recall': 0.9423076923076923, 'fmeasure (percentage)': 64.901}\n",
      "PB scores:  {'precision': 0.06090979182729375, 'recall': 0.33617021276595743, 'fmeasure (percentage)': 10.313}\n",
      "HB scores:  {'precision': 0.6424731182795699, 'recall': 0.3610271903323263, 'fmeasure (percentage)': 46.228}\n"
     ]
    },
    {
     "name": "stderr",
     "output_type": "stream",
     "text": [
      "/home/john/gits/dcase-bioacoustics-2022/post_processing.py:58: SettingWithCopyWarning: \n",
      "A value is trying to be set on a copy of a slice from a DataFrame.\n",
      "Try using .loc[row_indexer,col_indexer] = value instead\n",
      "\n",
      "See the caveats in the documentation: https://pandas.pydata.org/pandas-docs/stable/user_guide/indexing.html#returning-a-view-versus-a-copy\n",
      "  prediction['Group'] = gs\n"
     ]
    },
    {
     "name": "stdout",
     "output_type": "stream",
     "text": [
      "ME scores:  {'precision': 0.5348837209302325, 'recall': 0.8846153846153846, 'fmeasure (percentage)': 66.667}\n",
      "PB scores:  {'precision': 0.569620253164557, 'recall': 0.19148936170212766, 'fmeasure (percentage)': 28.662}\n",
      "HB scores:  {'precision': 0.567741935483871, 'recall': 0.2638680659670165, 'fmeasure (percentage)': 36.029}\n"
     ]
    },
    {
     "name": "stderr",
     "output_type": "stream",
     "text": [
      "/home/john/gits/dcase-bioacoustics-2022/post_processing.py:58: SettingWithCopyWarning: \n",
      "A value is trying to be set on a copy of a slice from a DataFrame.\n",
      "Try using .loc[row_indexer,col_indexer] = value instead\n",
      "\n",
      "See the caveats in the documentation: https://pandas.pydata.org/pandas-docs/stable/user_guide/indexing.html#returning-a-view-versus-a-copy\n",
      "  prediction['Group'] = gs\n"
     ]
    },
    {
     "name": "stdout",
     "output_type": "stream",
     "text": [
      "ME scores:  {'precision': 0.5733333333333334, 'recall': 0.8269230769230769, 'fmeasure (percentage)': 67.717}\n",
      "PB scores:  {'precision': 0.5161290322580645, 'recall': 0.064, 'fmeasure (percentage)': 11.388}\n",
      "HB scores:  {'precision': 0.4858490566037736, 'recall': 0.15327380952380953, 'fmeasure (percentage)': 23.303}\n"
     ]
    },
    {
     "name": "stderr",
     "output_type": "stream",
     "text": [
      "/home/john/gits/dcase-bioacoustics-2022/post_processing.py:58: SettingWithCopyWarning: \n",
      "A value is trying to be set on a copy of a slice from a DataFrame.\n",
      "Try using .loc[row_indexer,col_indexer] = value instead\n",
      "\n",
      "See the caveats in the documentation: https://pandas.pydata.org/pandas-docs/stable/user_guide/indexing.html#returning-a-view-versus-a-copy\n",
      "  prediction['Group'] = gs\n"
     ]
    },
    {
     "name": "stdout",
     "output_type": "stream",
     "text": [
      "ME scores:  {'precision': 0.6031746031746031, 'recall': 0.7307692307692307, 'fmeasure (percentage)': 66.087}\n",
      "PB scores:  {'precision': 0.5, 'recall': 0.027450980392156862, 'fmeasure (percentage)': 5.204}\n",
      "HB scores:  {'precision': 0.4380952380952381, 'recall': 0.06695778748180495, 'fmeasure (percentage)': 11.616}\n",
      "Prediction 1 max f-measure = 0.38637601736740684\n"
     ]
    },
    {
     "name": "stderr",
     "output_type": "stream",
     "text": [
      "IOPub data rate exceeded.\n",
      "The notebook server will temporarily stop sending output\n",
      "to the client in order to avoid crashing it.\n",
      "To change this limit, set the config variable\n",
      "`--NotebookApp.iopub_data_rate_limit`.\n",
      "\n",
      "Current values:\n",
      "NotebookApp.iopub_data_rate_limit=1000000.0 (bytes/sec)\n",
      "NotebookApp.rate_limit_window=3.0 (secs)\n",
      "\n",
      "/home/john/gits/dcase-bioacoustics-2022/post_processing.py:58: SettingWithCopyWarning: \n",
      "A value is trying to be set on a copy of a slice from a DataFrame.\n",
      "Try using .loc[row_indexer,col_indexer] = value instead\n",
      "\n",
      "See the caveats in the documentation: https://pandas.pydata.org/pandas-docs/stable/user_guide/indexing.html#returning-a-view-versus-a-copy\n",
      "  prediction['Group'] = gs\n"
     ]
    },
    {
     "name": "stdout",
     "output_type": "stream",
     "text": [
      "ME scores:  {'precision': 0.02873204247345409, 'recall': 0.8846153846153846, 'fmeasure (percentage)': 5.566}\n",
      "PB scores:  {'precision': 0.0013422818791946308, 'recall': 0.011764705882352941, 'fmeasure (percentage)': 0.241}\n",
      "HB scores:  {'precision': 0.9512195121951219, 'recall': 0.5847076461769115, 'fmeasure (percentage)': 72.423}\n"
     ]
    },
    {
     "name": "stderr",
     "output_type": "stream",
     "text": [
      "/home/john/gits/dcase-bioacoustics-2022/post_processing.py:58: SettingWithCopyWarning: \n",
      "A value is trying to be set on a copy of a slice from a DataFrame.\n",
      "Try using .loc[row_indexer,col_indexer] = value instead\n",
      "\n",
      "See the caveats in the documentation: https://pandas.pydata.org/pandas-docs/stable/user_guide/indexing.html#returning-a-view-versus-a-copy\n",
      "  prediction['Group'] = gs\n"
     ]
    },
    {
     "name": "stdout",
     "output_type": "stream",
     "text": [
      "ME scores:  {'precision': 0.08617594254937164, 'recall': 0.9230769230769231, 'fmeasure (percentage)': 15.764}\n",
      "PB scores:  {'precision': 0.0049504950495049506, 'recall': 0.08163265306122448, 'fmeasure (percentage)': 0.933}\n",
      "HB scores:  {'precision': 0.8386524822695035, 'recall': 0.7145015105740181, 'fmeasure (percentage)': 77.162}\n"
     ]
    },
    {
     "name": "stderr",
     "output_type": "stream",
     "text": [
      "/home/john/gits/dcase-bioacoustics-2022/post_processing.py:58: SettingWithCopyWarning: \n",
      "A value is trying to be set on a copy of a slice from a DataFrame.\n",
      "Try using .loc[row_indexer,col_indexer] = value instead\n",
      "\n",
      "See the caveats in the documentation: https://pandas.pydata.org/pandas-docs/stable/user_guide/indexing.html#returning-a-view-versus-a-copy\n",
      "  prediction['Group'] = gs\n"
     ]
    },
    {
     "name": "stdout",
     "output_type": "stream",
     "text": [
      "ME scores:  {'precision': 0.27976190476190477, 'recall': 0.9038461538461539, 'fmeasure (percentage)': 42.727}\n",
      "PB scores:  {'precision': 0.006935758953951108, 'recall': 0.25957446808510637, 'fmeasure (percentage)': 1.351}\n",
      "HB scores:  {'precision': 0.7749077490774908, 'recall': 0.6344410876132931, 'fmeasure (percentage)': 69.767}\n"
     ]
    },
    {
     "name": "stderr",
     "output_type": "stream",
     "text": [
      "/home/john/gits/dcase-bioacoustics-2022/post_processing.py:58: SettingWithCopyWarning: \n",
      "A value is trying to be set on a copy of a slice from a DataFrame.\n",
      "Try using .loc[row_indexer,col_indexer] = value instead\n",
      "\n",
      "See the caveats in the documentation: https://pandas.pydata.org/pandas-docs/stable/user_guide/indexing.html#returning-a-view-versus-a-copy\n",
      "  prediction['Group'] = gs\n"
     ]
    },
    {
     "name": "stdout",
     "output_type": "stream",
     "text": [
      "ME scores:  {'precision': 0.4, 'recall': 0.8846153846153846, 'fmeasure (percentage)': 55.09}\n",
      "PB scores:  {'precision': 0.007155262243834665, 'recall': 0.43829787234042555, 'fmeasure (percentage)': 1.408}\n",
      "HB scores:  {'precision': 0.7109375, 'recall': 0.5498489425981873, 'fmeasure (percentage)': 62.01}\n"
     ]
    },
    {
     "name": "stderr",
     "output_type": "stream",
     "text": [
      "/home/john/gits/dcase-bioacoustics-2022/post_processing.py:58: SettingWithCopyWarning: \n",
      "A value is trying to be set on a copy of a slice from a DataFrame.\n",
      "Try using .loc[row_indexer,col_indexer] = value instead\n",
      "\n",
      "See the caveats in the documentation: https://pandas.pydata.org/pandas-docs/stable/user_guide/indexing.html#returning-a-view-versus-a-copy\n",
      "  prediction['Group'] = gs\n"
     ]
    },
    {
     "name": "stdout",
     "output_type": "stream",
     "text": [
      "ME scores:  {'precision': 0.5056179775280899, 'recall': 0.8653846153846154, 'fmeasure (percentage)': 63.83}\n",
      "PB scores:  {'precision': 0.014855460385438972, 'recall': 0.4723404255319149, 'fmeasure (percentage)': 2.88}\n",
      "HB scores:  {'precision': 0.6324435318275154, 'recall': 0.4652567975830816, 'fmeasure (percentage)': 53.612}\n"
     ]
    },
    {
     "name": "stderr",
     "output_type": "stream",
     "text": [
      "/home/john/gits/dcase-bioacoustics-2022/post_processing.py:58: SettingWithCopyWarning: \n",
      "A value is trying to be set on a copy of a slice from a DataFrame.\n",
      "Try using .loc[row_indexer,col_indexer] = value instead\n",
      "\n",
      "See the caveats in the documentation: https://pandas.pydata.org/pandas-docs/stable/user_guide/indexing.html#returning-a-view-versus-a-copy\n",
      "  prediction['Group'] = gs\n"
     ]
    },
    {
     "name": "stdout",
     "output_type": "stream",
     "text": [
      "ME scores:  {'precision': 0.6081081081081081, 'recall': 0.8653846153846154, 'fmeasure (percentage)': 71.429}\n",
      "PB scores:  {'precision': 0.06843455945252352, 'recall': 0.3404255319148936, 'fmeasure (percentage)': 11.396}\n",
      "HB scores:  {'precision': 0.5596707818930041, 'recall': 0.4108761329305136, 'fmeasure (percentage)': 47.387}\n"
     ]
    },
    {
     "name": "stderr",
     "output_type": "stream",
     "text": [
      "/home/john/gits/dcase-bioacoustics-2022/post_processing.py:58: SettingWithCopyWarning: \n",
      "A value is trying to be set on a copy of a slice from a DataFrame.\n",
      "Try using .loc[row_indexer,col_indexer] = value instead\n",
      "\n",
      "See the caveats in the documentation: https://pandas.pydata.org/pandas-docs/stable/user_guide/indexing.html#returning-a-view-versus-a-copy\n",
      "  prediction['Group'] = gs\n"
     ]
    },
    {
     "name": "stdout",
     "output_type": "stream",
     "text": [
      "ME scores:  {'precision': 0.6470588235294118, 'recall': 0.8461538461538461, 'fmeasure (percentage)': 73.333}\n",
      "PB scores:  {'precision': 0.5510204081632653, 'recall': 0.22040816326530613, 'fmeasure (percentage)': 31.487}\n",
      "HB scores:  {'precision': 0.5246305418719212, 'recall': 0.3193403298350825, 'fmeasure (percentage)': 39.702}\n"
     ]
    },
    {
     "name": "stderr",
     "output_type": "stream",
     "text": [
      "/home/john/gits/dcase-bioacoustics-2022/post_processing.py:58: SettingWithCopyWarning: \n",
      "A value is trying to be set on a copy of a slice from a DataFrame.\n",
      "Try using .loc[row_indexer,col_indexer] = value instead\n",
      "\n",
      "See the caveats in the documentation: https://pandas.pydata.org/pandas-docs/stable/user_guide/indexing.html#returning-a-view-versus-a-copy\n",
      "  prediction['Group'] = gs\n"
     ]
    },
    {
     "name": "stdout",
     "output_type": "stream",
     "text": [
      "ME scores:  {'precision': 0.6842105263157895, 'recall': 0.75, 'fmeasure (percentage)': 71.56}\n",
      "PB scores:  {'precision': 0.6052631578947368, 'recall': 0.092, 'fmeasure (percentage)': 15.972}\n",
      "HB scores:  {'precision': 0.4473684210526316, 'recall': 0.15292353823088456, 'fmeasure (percentage)': 22.793}\n"
     ]
    },
    {
     "name": "stderr",
     "output_type": "stream",
     "text": [
      "/home/john/gits/dcase-bioacoustics-2022/post_processing.py:58: SettingWithCopyWarning: \n",
      "A value is trying to be set on a copy of a slice from a DataFrame.\n",
      "Try using .loc[row_indexer,col_indexer] = value instead\n",
      "\n",
      "See the caveats in the documentation: https://pandas.pydata.org/pandas-docs/stable/user_guide/indexing.html#returning-a-view-versus-a-copy\n",
      "  prediction['Group'] = gs\n"
     ]
    },
    {
     "name": "stdout",
     "output_type": "stream",
     "text": [
      "ME scores:  {'precision': 0.8, 'recall': 0.6923076923076923, 'fmeasure (percentage)': 74.227}\n",
      "PB scores:  {'precision': 0.6666666666666666, 'recall': 0.00784313725490196, 'fmeasure (percentage)': 1.55}\n",
      "HB scores:  {'precision': 0.34210526315789475, 'recall': 0.019202363367799114, 'fmeasure (percentage)': 3.636}\n",
      "Prediction 2 max f-measure = 0.42502901620372324\n"
     ]
    },
    {
     "name": "stderr",
     "output_type": "stream",
     "text": [
      "IOPub data rate exceeded.\n",
      "The notebook server will temporarily stop sending output\n",
      "to the client in order to avoid crashing it.\n",
      "To change this limit, set the config variable\n",
      "`--NotebookApp.iopub_data_rate_limit`.\n",
      "\n",
      "Current values:\n",
      "NotebookApp.iopub_data_rate_limit=1000000.0 (bytes/sec)\n",
      "NotebookApp.rate_limit_window=3.0 (secs)\n",
      "\n",
      "/home/john/gits/dcase-bioacoustics-2022/post_processing.py:58: SettingWithCopyWarning: \n",
      "A value is trying to be set on a copy of a slice from a DataFrame.\n",
      "Try using .loc[row_indexer,col_indexer] = value instead\n",
      "\n",
      "See the caveats in the documentation: https://pandas.pydata.org/pandas-docs/stable/user_guide/indexing.html#returning-a-view-versus-a-copy\n",
      "  prediction['Group'] = gs\n"
     ]
    },
    {
     "name": "stdout",
     "output_type": "stream",
     "text": [
      "ME scores:  {'precision': 0.13054830287206268, 'recall': 0.9615384615384616, 'fmeasure (percentage)': 22.989}\n",
      "PB scores:  {'precision': 0.002136181575433912, 'recall': 0.03137254901960784, 'fmeasure (percentage)': 0.4}\n",
      "HB scores:  {'precision': 0.9350912778904665, 'recall': 0.6911544227886057, 'fmeasure (percentage)': 79.483}\n"
     ]
    },
    {
     "name": "stderr",
     "output_type": "stream",
     "text": [
      "/home/john/gits/dcase-bioacoustics-2022/post_processing.py:58: SettingWithCopyWarning: \n",
      "A value is trying to be set on a copy of a slice from a DataFrame.\n",
      "Try using .loc[row_indexer,col_indexer] = value instead\n",
      "\n",
      "See the caveats in the documentation: https://pandas.pydata.org/pandas-docs/stable/user_guide/indexing.html#returning-a-view-versus-a-copy\n",
      "  prediction['Group'] = gs\n"
     ]
    },
    {
     "name": "stdout",
     "output_type": "stream",
     "text": [
      "ME scores:  {'precision': 0.22857142857142856, 'recall': 0.9230769230769231, 'fmeasure (percentage)': 36.641}\n",
      "PB scores:  {'precision': 0.005647840531561462, 'recall': 0.068, 'fmeasure (percentage)': 1.043}\n",
      "HB scores:  {'precision': 0.8574007220216606, 'recall': 0.7175226586102719, 'fmeasure (percentage)': 78.125}\n"
     ]
    },
    {
     "name": "stderr",
     "output_type": "stream",
     "text": [
      "/home/john/gits/dcase-bioacoustics-2022/post_processing.py:58: SettingWithCopyWarning: \n",
      "A value is trying to be set on a copy of a slice from a DataFrame.\n",
      "Try using .loc[row_indexer,col_indexer] = value instead\n",
      "\n",
      "See the caveats in the documentation: https://pandas.pydata.org/pandas-docs/stable/user_guide/indexing.html#returning-a-view-versus-a-copy\n",
      "  prediction['Group'] = gs\n"
     ]
    },
    {
     "name": "stdout",
     "output_type": "stream",
     "text": [
      "ME scores:  {'precision': 0.3146853146853147, 'recall': 0.8653846153846154, 'fmeasure (percentage)': 46.154}\n",
      "PB scores:  {'precision': 0.004012247914686939, 'recall': 0.16170212765957448, 'fmeasure (percentage)': 0.783}\n",
      "HB scores:  {'precision': 0.842911877394636, 'recall': 0.6646525679758308, 'fmeasure (percentage)': 74.324}\n"
     ]
    },
    {
     "name": "stderr",
     "output_type": "stream",
     "text": [
      "/home/john/gits/dcase-bioacoustics-2022/post_processing.py:58: SettingWithCopyWarning: \n",
      "A value is trying to be set on a copy of a slice from a DataFrame.\n",
      "Try using .loc[row_indexer,col_indexer] = value instead\n",
      "\n",
      "See the caveats in the documentation: https://pandas.pydata.org/pandas-docs/stable/user_guide/indexing.html#returning-a-view-versus-a-copy\n",
      "  prediction['Group'] = gs\n"
     ]
    },
    {
     "name": "stdout",
     "output_type": "stream",
     "text": [
      "ME scores:  {'precision': 0.3728813559322034, 'recall': 0.8461538461538461, 'fmeasure (percentage)': 51.765}\n",
      "PB scores:  {'precision': 0.006609593352637543, 'recall': 0.44680851063829785, 'fmeasure (percentage)': 1.303}\n",
      "HB scores:  {'precision': 0.7987679671457906, 'recall': 0.5876132930513596, 'fmeasure (percentage)': 67.711}\n"
     ]
    },
    {
     "name": "stderr",
     "output_type": "stream",
     "text": [
      "/home/john/gits/dcase-bioacoustics-2022/post_processing.py:58: SettingWithCopyWarning: \n",
      "A value is trying to be set on a copy of a slice from a DataFrame.\n",
      "Try using .loc[row_indexer,col_indexer] = value instead\n",
      "\n",
      "See the caveats in the documentation: https://pandas.pydata.org/pandas-docs/stable/user_guide/indexing.html#returning-a-view-versus-a-copy\n",
      "  prediction['Group'] = gs\n"
     ]
    },
    {
     "name": "stdout",
     "output_type": "stream",
     "text": [
      "ME scores:  {'precision': 0.4095238095238095, 'recall': 0.8269230769230769, 'fmeasure (percentage)': 54.777}\n",
      "PB scores:  {'precision': 0.018419777023751818, 'recall': 0.4851063829787234, 'fmeasure (percentage)': 3.549}\n",
      "HB scores:  {'precision': 0.7349137931034483, 'recall': 0.5151057401812689, 'fmeasure (percentage)': 60.568}\n"
     ]
    },
    {
     "name": "stderr",
     "output_type": "stream",
     "text": [
      "/home/john/gits/dcase-bioacoustics-2022/post_processing.py:58: SettingWithCopyWarning: \n",
      "A value is trying to be set on a copy of a slice from a DataFrame.\n",
      "Try using .loc[row_indexer,col_indexer] = value instead\n",
      "\n",
      "See the caveats in the documentation: https://pandas.pydata.org/pandas-docs/stable/user_guide/indexing.html#returning-a-view-versus-a-copy\n",
      "  prediction['Group'] = gs\n"
     ]
    },
    {
     "name": "stdout",
     "output_type": "stream",
     "text": [
      "ME scores:  {'precision': 0.44680851063829785, 'recall': 0.8076923076923077, 'fmeasure (percentage)': 57.534}\n",
      "PB scores:  {'precision': 0.10152284263959391, 'recall': 0.3404255319148936, 'fmeasure (percentage)': 15.64}\n",
      "HB scores:  {'precision': 0.7040572792362768, 'recall': 0.44227886056971516, 'fmeasure (percentage)': 54.328}\n"
     ]
    },
    {
     "name": "stderr",
     "output_type": "stream",
     "text": [
      "/home/john/gits/dcase-bioacoustics-2022/post_processing.py:58: SettingWithCopyWarning: \n",
      "A value is trying to be set on a copy of a slice from a DataFrame.\n",
      "Try using .loc[row_indexer,col_indexer] = value instead\n",
      "\n",
      "See the caveats in the documentation: https://pandas.pydata.org/pandas-docs/stable/user_guide/indexing.html#returning-a-view-versus-a-copy\n",
      "  prediction['Group'] = gs\n"
     ]
    },
    {
     "name": "stdout",
     "output_type": "stream",
     "text": [
      "ME scores:  {'precision': 0.4523809523809524, 'recall': 0.7307692307692307, 'fmeasure (percentage)': 55.882}\n",
      "PB scores:  {'precision': 0.4020618556701031, 'recall': 0.16595744680851063, 'fmeasure (percentage)': 23.494}\n",
      "HB scores:  {'precision': 0.6442048517520216, 'recall': 0.3583208395802099, 'fmeasure (percentage)': 46.05}\n"
     ]
    },
    {
     "name": "stderr",
     "output_type": "stream",
     "text": [
      "/home/john/gits/dcase-bioacoustics-2022/post_processing.py:58: SettingWithCopyWarning: \n",
      "A value is trying to be set on a copy of a slice from a DataFrame.\n",
      "Try using .loc[row_indexer,col_indexer] = value instead\n",
      "\n",
      "See the caveats in the documentation: https://pandas.pydata.org/pandas-docs/stable/user_guide/indexing.html#returning-a-view-versus-a-copy\n",
      "  prediction['Group'] = gs\n"
     ]
    },
    {
     "name": "stdout",
     "output_type": "stream",
     "text": [
      "ME scores:  {'precision': 0.47435897435897434, 'recall': 0.7115384615384616, 'fmeasure (percentage)': 56.923}\n",
      "PB scores:  {'precision': 0.4444444444444444, 'recall': 0.03137254901960784, 'fmeasure (percentage)': 5.861}\n",
      "HB scores:  {'precision': 0.5719844357976653, 'recall': 0.22038980509745126, 'fmeasure (percentage)': 31.818}\n"
     ]
    },
    {
     "name": "stderr",
     "output_type": "stream",
     "text": [
      "/home/john/gits/dcase-bioacoustics-2022/post_processing.py:58: SettingWithCopyWarning: \n",
      "A value is trying to be set on a copy of a slice from a DataFrame.\n",
      "Try using .loc[row_indexer,col_indexer] = value instead\n",
      "\n",
      "See the caveats in the documentation: https://pandas.pydata.org/pandas-docs/stable/user_guide/indexing.html#returning-a-view-versus-a-copy\n",
      "  prediction['Group'] = gs\n"
     ]
    },
    {
     "name": "stdout",
     "output_type": "stream",
     "text": [
      "ME scores:  {'precision': 0.5151515151515151, 'recall': 0.6538461538461539, 'fmeasure (percentage)': 57.627}\n",
      "PB scores:  {'precision': 0.5714285714285714, 'recall': 0.01568627450980392, 'fmeasure (percentage)': 3.053}\n",
      "HB scores:  {'precision': 0.4327485380116959, 'recall': 0.10930576070901034, 'fmeasure (percentage)': 17.453}\n",
      "Prediction 3 max f-measure = 0.365077554509417\n"
     ]
    },
    {
     "name": "stderr",
     "output_type": "stream",
     "text": [
      "IOPub data rate exceeded.\n",
      "The notebook server will temporarily stop sending output\n",
      "to the client in order to avoid crashing it.\n",
      "To change this limit, set the config variable\n",
      "`--NotebookApp.iopub_data_rate_limit`.\n",
      "\n",
      "Current values:\n",
      "NotebookApp.iopub_data_rate_limit=1000000.0 (bytes/sec)\n",
      "NotebookApp.rate_limit_window=3.0 (secs)\n",
      "\n",
      "/home/john/gits/dcase-bioacoustics-2022/post_processing.py:58: SettingWithCopyWarning: \n",
      "A value is trying to be set on a copy of a slice from a DataFrame.\n",
      "Try using .loc[row_indexer,col_indexer] = value instead\n",
      "\n",
      "See the caveats in the documentation: https://pandas.pydata.org/pandas-docs/stable/user_guide/indexing.html#returning-a-view-versus-a-copy\n",
      "  prediction['Group'] = gs\n"
     ]
    },
    {
     "name": "stdout",
     "output_type": "stream",
     "text": [
      "ME scores:  {'precision': 0.0843585237258348, 'recall': 0.9230769230769231, 'fmeasure (percentage)': 15.459}\n",
      "PB scores:  {'precision': 0.004352557127312296, 'recall': 0.06274509803921569, 'fmeasure (percentage)': 0.814}\n",
      "HB scores:  {'precision': 0.9656652360515021, 'recall': 0.6746626686656672, 'fmeasure (percentage)': 79.435}\n"
     ]
    },
    {
     "name": "stderr",
     "output_type": "stream",
     "text": [
      "/home/john/gits/dcase-bioacoustics-2022/post_processing.py:58: SettingWithCopyWarning: \n",
      "A value is trying to be set on a copy of a slice from a DataFrame.\n",
      "Try using .loc[row_indexer,col_indexer] = value instead\n",
      "\n",
      "See the caveats in the documentation: https://pandas.pydata.org/pandas-docs/stable/user_guide/indexing.html#returning-a-view-versus-a-copy\n",
      "  prediction['Group'] = gs\n"
     ]
    },
    {
     "name": "stdout",
     "output_type": "stream",
     "text": [
      "ME scores:  {'precision': 0.22274881516587677, 'recall': 0.9038461538461539, 'fmeasure (percentage)': 35.741}\n",
      "PB scores:  {'precision': 0.0053526448362720405, 'recall': 0.06938775510204082, 'fmeasure (percentage)': 0.994}\n",
      "HB scores:  {'precision': 0.8690702087286527, 'recall': 0.6918429003021148, 'fmeasure (percentage)': 77.04}\n"
     ]
    },
    {
     "name": "stderr",
     "output_type": "stream",
     "text": [
      "/home/john/gits/dcase-bioacoustics-2022/post_processing.py:58: SettingWithCopyWarning: \n",
      "A value is trying to be set on a copy of a slice from a DataFrame.\n",
      "Try using .loc[row_indexer,col_indexer] = value instead\n",
      "\n",
      "See the caveats in the documentation: https://pandas.pydata.org/pandas-docs/stable/user_guide/indexing.html#returning-a-view-versus-a-copy\n",
      "  prediction['Group'] = gs\n"
     ]
    },
    {
     "name": "stdout",
     "output_type": "stream",
     "text": [
      "ME scores:  {'precision': 0.38016528925619836, 'recall': 0.8846153846153846, 'fmeasure (percentage)': 53.179}\n",
      "PB scores:  {'precision': 0.00516366989396035, 'recall': 0.23829787234042554, 'fmeasure (percentage)': 1.011}\n",
      "HB scores:  {'precision': 0.7959558823529411, 'recall': 0.6540785498489426, 'fmeasure (percentage)': 71.808}\n"
     ]
    },
    {
     "name": "stderr",
     "output_type": "stream",
     "text": [
      "/home/john/gits/dcase-bioacoustics-2022/post_processing.py:58: SettingWithCopyWarning: \n",
      "A value is trying to be set on a copy of a slice from a DataFrame.\n",
      "Try using .loc[row_indexer,col_indexer] = value instead\n",
      "\n",
      "See the caveats in the documentation: https://pandas.pydata.org/pandas-docs/stable/user_guide/indexing.html#returning-a-view-versus-a-copy\n",
      "  prediction['Group'] = gs\n"
     ]
    },
    {
     "name": "stdout",
     "output_type": "stream",
     "text": [
      "ME scores:  {'precision': 0.44, 'recall': 0.8461538461538461, 'fmeasure (percentage)': 57.895}\n",
      "PB scores:  {'precision': 0.00764244285226885, 'recall': 0.4765957446808511, 'fmeasure (percentage)': 1.504}\n",
      "HB scores:  {'precision': 0.7543859649122807, 'recall': 0.5845921450151057, 'fmeasure (percentage)': 65.872}\n"
     ]
    },
    {
     "name": "stderr",
     "output_type": "stream",
     "text": [
      "/home/john/gits/dcase-bioacoustics-2022/post_processing.py:58: SettingWithCopyWarning: \n",
      "A value is trying to be set on a copy of a slice from a DataFrame.\n",
      "Try using .loc[row_indexer,col_indexer] = value instead\n",
      "\n",
      "See the caveats in the documentation: https://pandas.pydata.org/pandas-docs/stable/user_guide/indexing.html#returning-a-view-versus-a-copy\n",
      "  prediction['Group'] = gs\n"
     ]
    },
    {
     "name": "stdout",
     "output_type": "stream",
     "text": [
      "ME scores:  {'precision': 0.48863636363636365, 'recall': 0.8269230769230769, 'fmeasure (percentage)': 61.429}\n",
      "PB scores:  {'precision': 0.02463382157123835, 'recall': 0.4723404255319149, 'fmeasure (percentage)': 4.683}\n",
      "HB scores:  {'precision': 0.6757322175732218, 'recall': 0.4879154078549849, 'fmeasure (percentage)': 56.667}\n"
     ]
    },
    {
     "name": "stderr",
     "output_type": "stream",
     "text": [
      "/home/john/gits/dcase-bioacoustics-2022/post_processing.py:58: SettingWithCopyWarning: \n",
      "A value is trying to be set on a copy of a slice from a DataFrame.\n",
      "Try using .loc[row_indexer,col_indexer] = value instead\n",
      "\n",
      "See the caveats in the documentation: https://pandas.pydata.org/pandas-docs/stable/user_guide/indexing.html#returning-a-view-versus-a-copy\n",
      "  prediction['Group'] = gs\n"
     ]
    },
    {
     "name": "stdout",
     "output_type": "stream",
     "text": [
      "ME scores:  {'precision': 0.525, 'recall': 0.8076923076923077, 'fmeasure (percentage)': 63.636}\n",
      "PB scores:  {'precision': 0.17716535433070865, 'recall': 0.3829787234042553, 'fmeasure (percentage)': 24.226}\n",
      "HB scores:  {'precision': 0.6256038647342995, 'recall': 0.39123867069486407, 'fmeasure (percentage)': 48.141}\n"
     ]
    },
    {
     "name": "stderr",
     "output_type": "stream",
     "text": [
      "/home/john/gits/dcase-bioacoustics-2022/post_processing.py:58: SettingWithCopyWarning: \n",
      "A value is trying to be set on a copy of a slice from a DataFrame.\n",
      "Try using .loc[row_indexer,col_indexer] = value instead\n",
      "\n",
      "See the caveats in the documentation: https://pandas.pydata.org/pandas-docs/stable/user_guide/indexing.html#returning-a-view-versus-a-copy\n",
      "  prediction['Group'] = gs\n"
     ]
    },
    {
     "name": "stdout",
     "output_type": "stream",
     "text": [
      "ME scores:  {'precision': 0.525, 'recall': 0.8076923076923077, 'fmeasure (percentage)': 63.636}\n",
      "PB scores:  {'precision': 0.5377358490566038, 'recall': 0.2375, 'fmeasure (percentage)': 32.948}\n",
      "HB scores:  {'precision': 0.5766871165644172, 'recall': 0.2818590704647676, 'fmeasure (percentage)': 37.865}\n"
     ]
    },
    {
     "name": "stderr",
     "output_type": "stream",
     "text": [
      "/home/john/gits/dcase-bioacoustics-2022/post_processing.py:58: SettingWithCopyWarning: \n",
      "A value is trying to be set on a copy of a slice from a DataFrame.\n",
      "Try using .loc[row_indexer,col_indexer] = value instead\n",
      "\n",
      "See the caveats in the documentation: https://pandas.pydata.org/pandas-docs/stable/user_guide/indexing.html#returning-a-view-versus-a-copy\n",
      "  prediction['Group'] = gs\n"
     ]
    },
    {
     "name": "stdout",
     "output_type": "stream",
     "text": [
      "ME scores:  {'precision': 0.5428571428571428, 'recall': 0.7307692307692307, 'fmeasure (percentage)': 62.295}\n",
      "PB scores:  {'precision': 0.6111111111111112, 'recall': 0.08979591836734693, 'fmeasure (percentage)': 15.658}\n",
      "HB scores:  {'precision': 0.4828897338403042, 'recall': 0.18898809523809523, 'fmeasure (percentage)': 27.166}\n"
     ]
    },
    {
     "name": "stderr",
     "output_type": "stream",
     "text": [
      "/home/john/gits/dcase-bioacoustics-2022/post_processing.py:58: SettingWithCopyWarning: \n",
      "A value is trying to be set on a copy of a slice from a DataFrame.\n",
      "Try using .loc[row_indexer,col_indexer] = value instead\n",
      "\n",
      "See the caveats in the documentation: https://pandas.pydata.org/pandas-docs/stable/user_guide/indexing.html#returning-a-view-versus-a-copy\n",
      "  prediction['Group'] = gs\n"
     ]
    },
    {
     "name": "stdout",
     "output_type": "stream",
     "text": [
      "ME scores:  {'precision': 0.5178571428571429, 'recall': 0.5576923076923077, 'fmeasure (percentage)': 53.704}\n",
      "PB scores:  {'precision': 0.5625, 'recall': 0.03529411764705882, 'fmeasure (percentage)': 6.642}\n",
      "HB scores:  {'precision': 0.36075949367088606, 'recall': 0.08357771260997067, 'fmeasure (percentage)': 13.571}\n",
      "Prediction 4 max f-measure = 0.41393733991235127\n"
     ]
    },
    {
     "data": {
      "image/png": "[encoded data removed]",
      "text/plain": [
       "<Figure size 432x288 with 1 Axes>"
      ]
     },
     "execution_count": 20,
     "metadata": {},
     "output_type": "execute_result"
    },
    {
     "data": {
      "image/png": "[encoded data removed]",
      "text/plain": [
       "<Figure size 432x288 with 1 Axes>"
      ]
     },
     "metadata": {
      "needs_background": "light"
     },
     "output_type": "display_data"
    }
   ],
   "source": [
    "sample_rate = 22050\n",
    "root_dir = '/mnt/storage_1/datasets/bioacoustics_dcase2022/Development_Set_{}Hz/Validation_Set/'.format(sample_rate)\n",
    "csv_paths_me = glob.glob(os.path.join(root_dir, 'ME/*.csv'))\n",
    "csv_paths_pb = glob.glob(os.path.join(root_dir, 'PB/*.csv'))\n",
    "csv_paths_hb = glob.glob(os.path.join(root_dir, 'HB/*.csv'))\n",
    "csv_paths = csv_paths_me + csv_paths_hb + csv_paths_pb\n",
    "\n",
    "configs = [\n",
    "    {\n",
    "        'thrs'               : [0.1, 0.2, 0.3, 0.4, 0.5, 0.6, 0.7, 0.8, 0.9],\n",
    "        'runs'               : [0],\n",
    "        'tfs'                : ['tf_pcen_speech'],\n",
    "        'adaptive_embedding' : False,\n",
    "        'window_size'        : 2048,\n",
    "        'stats_group'        : 0,\n",
    "        'label'              : 'Prediction 0',\n",
    "        'experiment_dir'     : '../experiments/final_ensemble/',\n",
    "        'hop_size_fraction'  : 2,\n",
    "\n",
    "    },\n",
    "    {\n",
    "        'thrs'               : [0.1, 0.2, 0.3, 0.4, 0.5, 0.6, 0.7, 0.8, 0.9],\n",
    "        'runs'               : [1],\n",
    "        'tfs'                : ['tf_pcen_speech'],\n",
    "        'adaptive_embedding' : False,\n",
    "        'window_size'        : 2048,\n",
    "        'stats_group'        : 0,\n",
    "        'label'              : 'Prediction 1',\n",
    "        'experiment_dir'     : '../experiments/final_ensemble/',\n",
    "        'hop_size_fraction'  : 2,\n",
    "\n",
    "    },\n",
    "    {\n",
    "        'thrs'               : [0.1, 0.2, 0.3, 0.4, 0.5, 0.6, 0.7, 0.8, 0.9],\n",
    "        'runs'               : [2],\n",
    "        'tfs'                : ['tf_pcen_speech'],\n",
    "        'adaptive_embedding' : False,\n",
    "        'window_size'        : 2048,\n",
    "        'stats_group'        : 0,\n",
    "        'label'              : 'Prediction 2',\n",
    "        'experiment_dir'     : '../experiments/final_ensemble/',\n",
    "        'hop_size_fraction'  : 2,\n",
    "\n",
    "    },\n",
    "    {\n",
    "        'thrs'               : [0.1, 0.2, 0.3, 0.4, 0.5, 0.6, 0.7, 0.8, 0.9],\n",
    "        'runs'               : [3],\n",
    "        'tfs'                : ['tf_pcen_speech'],\n",
    "        'adaptive_embedding' : False,\n",
    "        'window_size'        : 2048,\n",
    "        'stats_group'        : 0,\n",
    "        'label'              : 'Prediction 3',\n",
    "        'experiment_dir'     : '../experiments/final_ensemble/',\n",
    "        'hop_size_fraction'  : 2,\n",
    "\n",
    "    },\n",
    "    {\n",
    "        'thrs'               : [0.1, 0.2, 0.3, 0.4, 0.5, 0.6, 0.7, 0.8, 0.9],\n",
    "        'runs'               : [4],\n",
    "        'tfs'                : ['tf_pcen_speech'],\n",
    "        'adaptive_embedding' : False,\n",
    "        'window_size'        : 2048,\n",
    "        'stats_group'        : 0,\n",
    "        'label'              : 'Prediction 4',\n",
    "        'experiment_dir'     : '../experiments/final_ensemble/',\n",
    "        'hop_size_fraction'  : 2,\n",
    "\n",
    "    },\n",
    "]\n",
    "\n",
    "evaluate_and_plot(configs)"
   ]
  },
  {
   "cell_type": "code",
   "execution_count": null,
   "id": "divine-state",
   "metadata": {},
   "outputs": [],
   "source": []
  },
  {
   "cell_type": "code",
   "execution_count": 24,
   "id": "completed-column",
   "metadata": {},
   "outputs": [
    {
     "name": "stdout",
     "output_type": "stream",
     "text": [
      "0.41318576484190606\n",
      "0.03757169847983575\n"
     ]
    }
   ],
   "source": [
    "print(np.mean([0.4755088962166319,0.38637601736740684,0.42502901620372324,0.365077554509417,0.41393733991235127]))\n",
    "print(np.std([0.4755088962166319,0.38637601736740684,0.42502901620372324,0.365077554509417,0.41393733991235127]))"
   ]
  },
  {
   "cell_type": "code",
   "execution_count": 54,
   "id": "breeding-venture",
   "metadata": {},
   "outputs": [
    {
     "name": "stderr",
     "output_type": "stream",
     "text": [
      "/home/john/gits/dcase-bioacoustics-2022/post_processing.py:58: SettingWithCopyWarning: \n",
      "A value is trying to be set on a copy of a slice from a DataFrame.\n",
      "Try using .loc[row_indexer,col_indexer] = value instead\n",
      "\n",
      "See the caveats in the documentation: https://pandas.pydata.org/pandas-docs/stable/user_guide/indexing.html#returning-a-view-versus-a-copy\n",
      "  prediction['Group'] = gs\n"
     ]
    },
    {
     "name": "stdout",
     "output_type": "stream",
     "text": [
      "ME scores:  {'precision': 0.26737967914438504, 'recall': 0.9615384615384616, 'fmeasure (percentage)': 41.841}\n",
      "PB scores:  {'precision': 0.005844155844155844, 'recall': 0.072, 'fmeasure (percentage)': 1.081}\n",
      "HB scores:  {'precision': 0.9150090415913201, 'recall': 0.7643504531722054, 'fmeasure (percentage)': 83.292}\n"
     ]
    },
    {
     "name": "stderr",
     "output_type": "stream",
     "text": [
      "/home/john/gits/dcase-bioacoustics-2022/post_processing.py:58: SettingWithCopyWarning: \n",
      "A value is trying to be set on a copy of a slice from a DataFrame.\n",
      "Try using .loc[row_indexer,col_indexer] = value instead\n",
      "\n",
      "See the caveats in the documentation: https://pandas.pydata.org/pandas-docs/stable/user_guide/indexing.html#returning-a-view-versus-a-copy\n",
      "  prediction['Group'] = gs\n"
     ]
    },
    {
     "name": "stdout",
     "output_type": "stream",
     "text": [
      "ME scores:  {'precision': 0.4380952380952381, 'recall': 0.8846153846153846, 'fmeasure (percentage)': 58.599}\n",
      "PB scores:  {'precision': 0.013775290572535515, 'recall': 0.2612244897959184, 'fmeasure (percentage)': 2.617}\n",
      "HB scores:  {'precision': 0.9007220216606499, 'recall': 0.7537764350453172, 'fmeasure (percentage)': 82.072}\n"
     ]
    },
    {
     "name": "stderr",
     "output_type": "stream",
     "text": [
      "/home/john/gits/dcase-bioacoustics-2022/post_processing.py:58: SettingWithCopyWarning: \n",
      "A value is trying to be set on a copy of a slice from a DataFrame.\n",
      "Try using .loc[row_indexer,col_indexer] = value instead\n",
      "\n",
      "See the caveats in the documentation: https://pandas.pydata.org/pandas-docs/stable/user_guide/indexing.html#returning-a-view-versus-a-copy\n",
      "  prediction['Group'] = gs\n"
     ]
    },
    {
     "name": "stdout",
     "output_type": "stream",
     "text": [
      "ME scores:  {'precision': 0.4888888888888889, 'recall': 0.8461538461538461, 'fmeasure (percentage)': 61.972}\n",
      "PB scores:  {'precision': 0.013495072024260804, 'recall': 0.37872340425531914, 'fmeasure (percentage)': 2.606}\n",
      "HB scores:  {'precision': 0.9009174311926605, 'recall': 0.7416918429003021, 'fmeasure (percentage)': 81.359}\n"
     ]
    },
    {
     "name": "stderr",
     "output_type": "stream",
     "text": [
      "/home/john/gits/dcase-bioacoustics-2022/post_processing.py:58: SettingWithCopyWarning: \n",
      "A value is trying to be set on a copy of a slice from a DataFrame.\n",
      "Try using .loc[row_indexer,col_indexer] = value instead\n",
      "\n",
      "See the caveats in the documentation: https://pandas.pydata.org/pandas-docs/stable/user_guide/indexing.html#returning-a-view-versus-a-copy\n",
      "  prediction['Group'] = gs\n"
     ]
    },
    {
     "name": "stdout",
     "output_type": "stream",
     "text": [
      "ME scores:  {'precision': 0.5185185185185185, 'recall': 0.8076923076923077, 'fmeasure (percentage)': 63.158}\n",
      "PB scores:  {'precision': 0.008538612664349403, 'recall': 0.4808510638297872, 'fmeasure (percentage)': 1.678}\n",
      "HB scores:  {'precision': 0.8937728937728938, 'recall': 0.7371601208459214, 'fmeasure (percentage)': 80.795}\n"
     ]
    },
    {
     "name": "stderr",
     "output_type": "stream",
     "text": [
      "/home/john/gits/dcase-bioacoustics-2022/post_processing.py:58: SettingWithCopyWarning: \n",
      "A value is trying to be set on a copy of a slice from a DataFrame.\n",
      "Try using .loc[row_indexer,col_indexer] = value instead\n",
      "\n",
      "See the caveats in the documentation: https://pandas.pydata.org/pandas-docs/stable/user_guide/indexing.html#returning-a-view-versus-a-copy\n",
      "  prediction['Group'] = gs\n"
     ]
    },
    {
     "name": "stdout",
     "output_type": "stream",
     "text": [
      "ME scores:  {'precision': 0.547945205479452, 'recall': 0.7692307692307693, 'fmeasure (percentage)': 64.0}\n",
      "PB scores:  {'precision': 0.026608051827857474, 'recall': 0.48936170212765956, 'fmeasure (percentage)': 5.047}\n",
      "HB scores:  {'precision': 0.8673835125448028, 'recall': 0.7311178247734139, 'fmeasure (percentage)': 79.344}\n"
     ]
    },
    {
     "name": "stderr",
     "output_type": "stream",
     "text": [
      "/home/john/gits/dcase-bioacoustics-2022/post_processing.py:58: SettingWithCopyWarning: \n",
      "A value is trying to be set on a copy of a slice from a DataFrame.\n",
      "Try using .loc[row_indexer,col_indexer] = value instead\n",
      "\n",
      "See the caveats in the documentation: https://pandas.pydata.org/pandas-docs/stable/user_guide/indexing.html#returning-a-view-versus-a-copy\n",
      "  prediction['Group'] = gs\n"
     ]
    },
    {
     "name": "stdout",
     "output_type": "stream",
     "text": [
      "ME scores:  {'precision': 0.5735294117647058, 'recall': 0.75, 'fmeasure (percentage)': 65.0}\n",
      "PB scores:  {'precision': 0.18546845124282982, 'recall': 0.4127659574468085, 'fmeasure (percentage)': 25.594}\n",
      "HB scores:  {'precision': 0.8528368794326241, 'recall': 0.7265861027190332, 'fmeasure (percentage)': 78.467}\n"
     ]
    },
    {
     "name": "stderr",
     "output_type": "stream",
     "text": [
      "/home/john/gits/dcase-bioacoustics-2022/post_processing.py:58: SettingWithCopyWarning: \n",
      "A value is trying to be set on a copy of a slice from a DataFrame.\n",
      "Try using .loc[row_indexer,col_indexer] = value instead\n",
      "\n",
      "See the caveats in the documentation: https://pandas.pydata.org/pandas-docs/stable/user_guide/indexing.html#returning-a-view-versus-a-copy\n",
      "  prediction['Group'] = gs\n"
     ]
    },
    {
     "name": "stdout",
     "output_type": "stream",
     "text": [
      "ME scores:  {'precision': 0.6190476190476191, 'recall': 0.75, 'fmeasure (percentage)': 67.826}\n",
      "PB scores:  {'precision': 0.6428571428571429, 'recall': 0.2938775510204082, 'fmeasure (percentage)': 40.336}\n",
      "HB scores:  {'precision': 0.8353765323992994, 'recall': 0.7205438066465257, 'fmeasure (percentage)': 77.372}\n"
     ]
    },
    {
     "name": "stderr",
     "output_type": "stream",
     "text": [
      "/home/john/gits/dcase-bioacoustics-2022/post_processing.py:58: SettingWithCopyWarning: \n",
      "A value is trying to be set on a copy of a slice from a DataFrame.\n",
      "Try using .loc[row_indexer,col_indexer] = value instead\n",
      "\n",
      "See the caveats in the documentation: https://pandas.pydata.org/pandas-docs/stable/user_guide/indexing.html#returning-a-view-versus-a-copy\n",
      "  prediction['Group'] = gs\n"
     ]
    },
    {
     "name": "stdout",
     "output_type": "stream",
     "text": [
      "ME scores:  {'precision': 0.6129032258064516, 'recall': 0.7307692307692307, 'fmeasure (percentage)': 66.667}\n",
      "PB scores:  {'precision': 0.7432432432432432, 'recall': 0.22, 'fmeasure (percentage)': 33.951}\n",
      "HB scores:  {'precision': 0.8027210884353742, 'recall': 0.7129909365558912, 'fmeasure (percentage)': 75.52}\n"
     ]
    },
    {
     "name": "stderr",
     "output_type": "stream",
     "text": [
      "/home/john/gits/dcase-bioacoustics-2022/post_processing.py:58: SettingWithCopyWarning: \n",
      "A value is trying to be set on a copy of a slice from a DataFrame.\n",
      "Try using .loc[row_indexer,col_indexer] = value instead\n",
      "\n",
      "See the caveats in the documentation: https://pandas.pydata.org/pandas-docs/stable/user_guide/indexing.html#returning-a-view-versus-a-copy\n",
      "  prediction['Group'] = gs\n"
     ]
    },
    {
     "name": "stdout",
     "output_type": "stream",
     "text": [
      "ME scores:  {'precision': 0.5714285714285714, 'recall': 0.6153846153846154, 'fmeasure (percentage)': 59.259}\n",
      "PB scores:  {'precision': 0.7560975609756098, 'recall': 0.124, 'fmeasure (percentage)': 21.306}\n",
      "HB scores:  {'precision': 0.7889273356401384, 'recall': 0.6888217522658611, 'fmeasure (percentage)': 73.548}\n",
      "Prediction 0 max f-measure = 0.5718666243983976\n"
     ]
    },
    {
     "name": "stderr",
     "output_type": "stream",
     "text": [
      "/home/john/gits/dcase-bioacoustics-2022/post_processing.py:58: SettingWithCopyWarning: \n",
      "A value is trying to be set on a copy of a slice from a DataFrame.\n",
      "Try using .loc[row_indexer,col_indexer] = value instead\n",
      "\n",
      "See the caveats in the documentation: https://pandas.pydata.org/pandas-docs/stable/user_guide/indexing.html#returning-a-view-versus-a-copy\n",
      "  prediction['Group'] = gs\n"
     ]
    },
    {
     "name": "stdout",
     "output_type": "stream",
     "text": [
      "ME scores:  {'precision': 0.04940711462450593, 'recall': 0.9615384615384616, 'fmeasure (percentage)': 9.398}\n",
      "PB scores:  {'precision': 0.0031272552321385616, 'recall': 0.050980392156862744, 'fmeasure (percentage)': 0.589}\n",
      "HB scores:  {'precision': 0.9237918215613383, 'recall': 0.7507552870090635, 'fmeasure (percentage)': 82.833}\n"
     ]
    },
    {
     "name": "stderr",
     "output_type": "stream",
     "text": [
      "/home/john/gits/dcase-bioacoustics-2022/post_processing.py:58: SettingWithCopyWarning: \n",
      "A value is trying to be set on a copy of a slice from a DataFrame.\n",
      "Try using .loc[row_indexer,col_indexer] = value instead\n",
      "\n",
      "See the caveats in the documentation: https://pandas.pydata.org/pandas-docs/stable/user_guide/indexing.html#returning-a-view-versus-a-copy\n",
      "  prediction['Group'] = gs\n"
     ]
    },
    {
     "name": "stdout",
     "output_type": "stream",
     "text": [
      "ME scores:  {'precision': 0.22127659574468084, 'recall': 1.0, 'fmeasure (percentage)': 36.237}\n",
      "PB scores:  {'precision': 0.006708760852407261, 'recall': 0.068, 'fmeasure (percentage)': 1.221}\n",
      "HB scores:  {'precision': 0.9124767225325885, 'recall': 0.7401812688821753, 'fmeasure (percentage)': 81.735}\n"
     ]
    },
    {
     "name": "stderr",
     "output_type": "stream",
     "text": [
      "/home/john/gits/dcase-bioacoustics-2022/post_processing.py:58: SettingWithCopyWarning: \n",
      "A value is trying to be set on a copy of a slice from a DataFrame.\n",
      "Try using .loc[row_indexer,col_indexer] = value instead\n",
      "\n",
      "See the caveats in the documentation: https://pandas.pydata.org/pandas-docs/stable/user_guide/indexing.html#returning-a-view-versus-a-copy\n",
      "  prediction['Group'] = gs\n"
     ]
    },
    {
     "name": "stdout",
     "output_type": "stream",
     "text": [
      "ME scores:  {'precision': 0.35374149659863946, 'recall': 1.0, 'fmeasure (percentage)': 52.261}\n",
      "PB scores:  {'precision': 0.005434079441066115, 'recall': 0.17872340425531916, 'fmeasure (percentage)': 1.055}\n",
      "HB scores:  {'precision': 0.8846153846153846, 'recall': 0.729607250755287, 'fmeasure (percentage)': 79.967}\n"
     ]
    },
    {
     "name": "stderr",
     "output_type": "stream",
     "text": [
      "/home/john/gits/dcase-bioacoustics-2022/post_processing.py:58: SettingWithCopyWarning: \n",
      "A value is trying to be set on a copy of a slice from a DataFrame.\n",
      "Try using .loc[row_indexer,col_indexer] = value instead\n",
      "\n",
      "See the caveats in the documentation: https://pandas.pydata.org/pandas-docs/stable/user_guide/indexing.html#returning-a-view-versus-a-copy\n",
      "  prediction['Group'] = gs\n"
     ]
    },
    {
     "name": "stdout",
     "output_type": "stream",
     "text": [
      "ME scores:  {'precision': 0.40476190476190477, 'recall': 0.9807692307692307, 'fmeasure (percentage)': 57.303}\n",
      "PB scores:  {'precision': 0.006773196554218452, 'recall': 0.43829787234042555, 'fmeasure (percentage)': 1.334}\n",
      "HB scores:  {'precision': 0.8754578754578755, 'recall': 0.7220543806646526, 'fmeasure (percentage)': 79.139}\n"
     ]
    },
    {
     "name": "stderr",
     "output_type": "stream",
     "text": [
      "/home/john/gits/dcase-bioacoustics-2022/post_processing.py:58: SettingWithCopyWarning: \n",
      "A value is trying to be set on a copy of a slice from a DataFrame.\n",
      "Try using .loc[row_indexer,col_indexer] = value instead\n",
      "\n",
      "See the caveats in the documentation: https://pandas.pydata.org/pandas-docs/stable/user_guide/indexing.html#returning-a-view-versus-a-copy\n",
      "  prediction['Group'] = gs\n"
     ]
    },
    {
     "name": "stdout",
     "output_type": "stream",
     "text": [
      "ME scores:  {'precision': 0.43478260869565216, 'recall': 0.9615384615384616, 'fmeasure (percentage)': 59.88}\n",
      "PB scores:  {'precision': 0.015108834827144686, 'recall': 0.502127659574468, 'fmeasure (percentage)': 2.933}\n",
      "HB scores:  {'precision': 0.875, 'recall': 0.7190332326283988, 'fmeasure (percentage)': 78.939}\n"
     ]
    },
    {
     "name": "stderr",
     "output_type": "stream",
     "text": [
      "/home/john/gits/dcase-bioacoustics-2022/post_processing.py:58: SettingWithCopyWarning: \n",
      "A value is trying to be set on a copy of a slice from a DataFrame.\n",
      "Try using .loc[row_indexer,col_indexer] = value instead\n",
      "\n",
      "See the caveats in the documentation: https://pandas.pydata.org/pandas-docs/stable/user_guide/indexing.html#returning-a-view-versus-a-copy\n",
      "  prediction['Group'] = gs\n"
     ]
    },
    {
     "name": "stdout",
     "output_type": "stream",
     "text": [
      "ME scores:  {'precision': 0.494949494949495, 'recall': 0.9423076923076923, 'fmeasure (percentage)': 64.901}\n",
      "PB scores:  {'precision': 0.06090979182729375, 'recall': 0.33617021276595743, 'fmeasure (percentage)': 10.313}\n",
      "HB scores:  {'precision': 0.8655616942909761, 'recall': 0.7099697885196374, 'fmeasure (percentage)': 78.008}\n"
     ]
    },
    {
     "name": "stderr",
     "output_type": "stream",
     "text": [
      "/home/john/gits/dcase-bioacoustics-2022/post_processing.py:58: SettingWithCopyWarning: \n",
      "A value is trying to be set on a copy of a slice from a DataFrame.\n",
      "Try using .loc[row_indexer,col_indexer] = value instead\n",
      "\n",
      "See the caveats in the documentation: https://pandas.pydata.org/pandas-docs/stable/user_guide/indexing.html#returning-a-view-versus-a-copy\n",
      "  prediction['Group'] = gs\n"
     ]
    },
    {
     "name": "stdout",
     "output_type": "stream",
     "text": [
      "ME scores:  {'precision': 0.5348837209302325, 'recall': 0.8846153846153846, 'fmeasure (percentage)': 66.667}\n",
      "PB scores:  {'precision': 0.569620253164557, 'recall': 0.19148936170212766, 'fmeasure (percentage)': 28.662}\n",
      "HB scores:  {'precision': 0.8539741219963032, 'recall': 0.6978851963746223, 'fmeasure (percentage)': 76.808}\n"
     ]
    },
    {
     "name": "stderr",
     "output_type": "stream",
     "text": [
      "/home/john/gits/dcase-bioacoustics-2022/post_processing.py:58: SettingWithCopyWarning: \n",
      "A value is trying to be set on a copy of a slice from a DataFrame.\n",
      "Try using .loc[row_indexer,col_indexer] = value instead\n",
      "\n",
      "See the caveats in the documentation: https://pandas.pydata.org/pandas-docs/stable/user_guide/indexing.html#returning-a-view-versus-a-copy\n",
      "  prediction['Group'] = gs\n"
     ]
    },
    {
     "name": "stdout",
     "output_type": "stream",
     "text": [
      "ME scores:  {'precision': 0.5733333333333334, 'recall': 0.8269230769230769, 'fmeasure (percentage)': 67.717}\n",
      "PB scores:  {'precision': 0.5161290322580645, 'recall': 0.064, 'fmeasure (percentage)': 11.388}\n",
      "HB scores:  {'precision': 0.825136612021858, 'recall': 0.6842900302114804, 'fmeasure (percentage)': 74.814}\n"
     ]
    },
    {
     "name": "stderr",
     "output_type": "stream",
     "text": [
      "/home/john/gits/dcase-bioacoustics-2022/post_processing.py:58: SettingWithCopyWarning: \n",
      "A value is trying to be set on a copy of a slice from a DataFrame.\n",
      "Try using .loc[row_indexer,col_indexer] = value instead\n",
      "\n",
      "See the caveats in the documentation: https://pandas.pydata.org/pandas-docs/stable/user_guide/indexing.html#returning-a-view-versus-a-copy\n",
      "  prediction['Group'] = gs\n"
     ]
    },
    {
     "name": "stdout",
     "output_type": "stream",
     "text": [
      "ME scores:  {'precision': 0.6031746031746031, 'recall': 0.7307692307692307, 'fmeasure (percentage)': 66.087}\n",
      "PB scores:  {'precision': 0.5, 'recall': 0.027450980392156862, 'fmeasure (percentage)': 5.204}\n",
      "HB scores:  {'precision': 0.7985739750445633, 'recall': 0.676737160120846, 'fmeasure (percentage)': 73.262}\n",
      "Prediction 1 max f-measure = 0.47688408207269095\n"
     ]
    },
    {
     "name": "stderr",
     "output_type": "stream",
     "text": [
      "/home/john/gits/dcase-bioacoustics-2022/post_processing.py:58: SettingWithCopyWarning: \n",
      "A value is trying to be set on a copy of a slice from a DataFrame.\n",
      "Try using .loc[row_indexer,col_indexer] = value instead\n",
      "\n",
      "See the caveats in the documentation: https://pandas.pydata.org/pandas-docs/stable/user_guide/indexing.html#returning-a-view-versus-a-copy\n",
      "  prediction['Group'] = gs\n"
     ]
    },
    {
     "name": "stdout",
     "output_type": "stream",
     "text": [
      "ME scores:  {'precision': 0.02873204247345409, 'recall': 0.8846153846153846, 'fmeasure (percentage)': 5.566}\n",
      "PB scores:  {'precision': 0.0013422818791946308, 'recall': 0.011764705882352941, 'fmeasure (percentage)': 0.241}\n",
      "HB scores:  {'precision': 0.9382022471910112, 'recall': 0.756797583081571, 'fmeasure (percentage)': 83.779}\n"
     ]
    },
    {
     "name": "stderr",
     "output_type": "stream",
     "text": [
      "/home/john/gits/dcase-bioacoustics-2022/post_processing.py:58: SettingWithCopyWarning: \n",
      "A value is trying to be set on a copy of a slice from a DataFrame.\n",
      "Try using .loc[row_indexer,col_indexer] = value instead\n",
      "\n",
      "See the caveats in the documentation: https://pandas.pydata.org/pandas-docs/stable/user_guide/indexing.html#returning-a-view-versus-a-copy\n",
      "  prediction['Group'] = gs\n"
     ]
    },
    {
     "name": "stdout",
     "output_type": "stream",
     "text": [
      "ME scores:  {'precision': 0.08617594254937164, 'recall': 0.9230769230769231, 'fmeasure (percentage)': 15.764}\n",
      "PB scores:  {'precision': 0.0049504950495049506, 'recall': 0.08163265306122448, 'fmeasure (percentage)': 0.933}\n",
      "HB scores:  {'precision': 0.9183673469387755, 'recall': 0.7477341389728097, 'fmeasure (percentage)': 82.431}\n"
     ]
    },
    {
     "name": "stderr",
     "output_type": "stream",
     "text": [
      "/home/john/gits/dcase-bioacoustics-2022/post_processing.py:58: SettingWithCopyWarning: \n",
      "A value is trying to be set on a copy of a slice from a DataFrame.\n",
      "Try using .loc[row_indexer,col_indexer] = value instead\n",
      "\n",
      "See the caveats in the documentation: https://pandas.pydata.org/pandas-docs/stable/user_guide/indexing.html#returning-a-view-versus-a-copy\n",
      "  prediction['Group'] = gs\n"
     ]
    },
    {
     "name": "stdout",
     "output_type": "stream",
     "text": [
      "ME scores:  {'precision': 0.27976190476190477, 'recall': 0.9038461538461539, 'fmeasure (percentage)': 42.727}\n",
      "PB scores:  {'precision': 0.006935758953951108, 'recall': 0.25957446808510637, 'fmeasure (percentage)': 1.351}\n",
      "HB scores:  {'precision': 0.9094269870609981, 'recall': 0.743202416918429, 'fmeasure (percentage)': 81.796}\n"
     ]
    },
    {
     "name": "stderr",
     "output_type": "stream",
     "text": [
      "/home/john/gits/dcase-bioacoustics-2022/post_processing.py:58: SettingWithCopyWarning: \n",
      "A value is trying to be set on a copy of a slice from a DataFrame.\n",
      "Try using .loc[row_indexer,col_indexer] = value instead\n",
      "\n",
      "See the caveats in the documentation: https://pandas.pydata.org/pandas-docs/stable/user_guide/indexing.html#returning-a-view-versus-a-copy\n",
      "  prediction['Group'] = gs\n"
     ]
    },
    {
     "name": "stdout",
     "output_type": "stream",
     "text": [
      "ME scores:  {'precision': 0.4, 'recall': 0.8846153846153846, 'fmeasure (percentage)': 55.09}\n",
      "PB scores:  {'precision': 0.007155262243834665, 'recall': 0.43829787234042555, 'fmeasure (percentage)': 1.408}\n",
      "HB scores:  {'precision': 0.8909090909090909, 'recall': 0.7401812688821753, 'fmeasure (percentage)': 80.858}\n"
     ]
    },
    {
     "name": "stderr",
     "output_type": "stream",
     "text": [
      "/home/john/gits/dcase-bioacoustics-2022/post_processing.py:58: SettingWithCopyWarning: \n",
      "A value is trying to be set on a copy of a slice from a DataFrame.\n",
      "Try using .loc[row_indexer,col_indexer] = value instead\n",
      "\n",
      "See the caveats in the documentation: https://pandas.pydata.org/pandas-docs/stable/user_guide/indexing.html#returning-a-view-versus-a-copy\n",
      "  prediction['Group'] = gs\n"
     ]
    },
    {
     "name": "stdout",
     "output_type": "stream",
     "text": [
      "ME scores:  {'precision': 0.5056179775280899, 'recall': 0.8653846153846154, 'fmeasure (percentage)': 63.83}\n",
      "PB scores:  {'precision': 0.014855460385438972, 'recall': 0.4723404255319149, 'fmeasure (percentage)': 2.88}\n",
      "HB scores:  {'precision': 0.8747731397459165, 'recall': 0.7280966767371602, 'fmeasure (percentage)': 79.472}\n"
     ]
    },
    {
     "name": "stderr",
     "output_type": "stream",
     "text": [
      "/home/john/gits/dcase-bioacoustics-2022/post_processing.py:58: SettingWithCopyWarning: \n",
      "A value is trying to be set on a copy of a slice from a DataFrame.\n",
      "Try using .loc[row_indexer,col_indexer] = value instead\n",
      "\n",
      "See the caveats in the documentation: https://pandas.pydata.org/pandas-docs/stable/user_guide/indexing.html#returning-a-view-versus-a-copy\n",
      "  prediction['Group'] = gs\n"
     ]
    },
    {
     "name": "stdout",
     "output_type": "stream",
     "text": [
      "ME scores:  {'precision': 0.6081081081081081, 'recall': 0.8653846153846154, 'fmeasure (percentage)': 71.429}\n",
      "PB scores:  {'precision': 0.06843455945252352, 'recall': 0.3404255319148936, 'fmeasure (percentage)': 11.396}\n",
      "HB scores:  {'precision': 0.8584392014519057, 'recall': 0.7145015105740181, 'fmeasure (percentage)': 77.988}\n"
     ]
    },
    {
     "name": "stderr",
     "output_type": "stream",
     "text": [
      "/home/john/gits/dcase-bioacoustics-2022/post_processing.py:58: SettingWithCopyWarning: \n",
      "A value is trying to be set on a copy of a slice from a DataFrame.\n",
      "Try using .loc[row_indexer,col_indexer] = value instead\n",
      "\n",
      "See the caveats in the documentation: https://pandas.pydata.org/pandas-docs/stable/user_guide/indexing.html#returning-a-view-versus-a-copy\n",
      "  prediction['Group'] = gs\n"
     ]
    },
    {
     "name": "stdout",
     "output_type": "stream",
     "text": [
      "ME scores:  {'precision': 0.6470588235294118, 'recall': 0.8461538461538461, 'fmeasure (percentage)': 73.333}\n",
      "PB scores:  {'precision': 0.5510204081632653, 'recall': 0.22040816326530613, 'fmeasure (percentage)': 31.487}\n",
      "HB scores:  {'precision': 0.8336314847942755, 'recall': 0.7039274924471299, 'fmeasure (percentage)': 76.331}\n"
     ]
    },
    {
     "name": "stderr",
     "output_type": "stream",
     "text": [
      "/home/john/gits/dcase-bioacoustics-2022/post_processing.py:58: SettingWithCopyWarning: \n",
      "A value is trying to be set on a copy of a slice from a DataFrame.\n",
      "Try using .loc[row_indexer,col_indexer] = value instead\n",
      "\n",
      "See the caveats in the documentation: https://pandas.pydata.org/pandas-docs/stable/user_guide/indexing.html#returning-a-view-versus-a-copy\n",
      "  prediction['Group'] = gs\n"
     ]
    },
    {
     "name": "stdout",
     "output_type": "stream",
     "text": [
      "ME scores:  {'precision': 0.6842105263157895, 'recall': 0.75, 'fmeasure (percentage)': 71.56}\n",
      "PB scores:  {'precision': 0.6052631578947368, 'recall': 0.092, 'fmeasure (percentage)': 15.972}\n",
      "HB scores:  {'precision': 0.7961335676625659, 'recall': 0.6842900302114804, 'fmeasure (percentage)': 73.599}\n"
     ]
    },
    {
     "name": "stderr",
     "output_type": "stream",
     "text": [
      "/home/john/gits/dcase-bioacoustics-2022/post_processing.py:58: SettingWithCopyWarning: \n",
      "A value is trying to be set on a copy of a slice from a DataFrame.\n",
      "Try using .loc[row_indexer,col_indexer] = value instead\n",
      "\n",
      "See the caveats in the documentation: https://pandas.pydata.org/pandas-docs/stable/user_guide/indexing.html#returning-a-view-versus-a-copy\n",
      "  prediction['Group'] = gs\n"
     ]
    },
    {
     "name": "stdout",
     "output_type": "stream",
     "text": [
      "ME scores:  {'precision': 0.8, 'recall': 0.6923076923076923, 'fmeasure (percentage)': 74.227}\n",
      "PB scores:  {'precision': 0.6666666666666666, 'recall': 0.00784313725490196, 'fmeasure (percentage)': 1.55}\n",
      "HB scores:  {'precision': 0.7564322469982847, 'recall': 0.6661631419939577, 'fmeasure (percentage)': 70.843}\n",
      "Prediction 2 max f-measure = 0.5128513604816188\n"
     ]
    },
    {
     "name": "stderr",
     "output_type": "stream",
     "text": [
      "/home/john/gits/dcase-bioacoustics-2022/post_processing.py:58: SettingWithCopyWarning: \n",
      "A value is trying to be set on a copy of a slice from a DataFrame.\n",
      "Try using .loc[row_indexer,col_indexer] = value instead\n",
      "\n",
      "See the caveats in the documentation: https://pandas.pydata.org/pandas-docs/stable/user_guide/indexing.html#returning-a-view-versus-a-copy\n",
      "  prediction['Group'] = gs\n"
     ]
    },
    {
     "name": "stdout",
     "output_type": "stream",
     "text": [
      "ME scores:  {'precision': 0.13054830287206268, 'recall': 0.9615384615384616, 'fmeasure (percentage)': 22.989}\n",
      "PB scores:  {'precision': 0.002136181575433912, 'recall': 0.03137254901960784, 'fmeasure (percentage)': 0.4}\n",
      "HB scores:  {'precision': 0.949438202247191, 'recall': 0.7658610271903323, 'fmeasure (percentage)': 84.783}\n"
     ]
    },
    {
     "name": "stderr",
     "output_type": "stream",
     "text": [
      "/home/john/gits/dcase-bioacoustics-2022/post_processing.py:58: SettingWithCopyWarning: \n",
      "A value is trying to be set on a copy of a slice from a DataFrame.\n",
      "Try using .loc[row_indexer,col_indexer] = value instead\n",
      "\n",
      "See the caveats in the documentation: https://pandas.pydata.org/pandas-docs/stable/user_guide/indexing.html#returning-a-view-versus-a-copy\n",
      "  prediction['Group'] = gs\n"
     ]
    },
    {
     "name": "stdout",
     "output_type": "stream",
     "text": [
      "ME scores:  {'precision': 0.22857142857142856, 'recall': 0.9230769230769231, 'fmeasure (percentage)': 36.641}\n",
      "PB scores:  {'precision': 0.005647840531561462, 'recall': 0.068, 'fmeasure (percentage)': 1.043}\n",
      "HB scores:  {'precision': 0.9342105263157895, 'recall': 0.7507552870090635, 'fmeasure (percentage)': 83.25}\n"
     ]
    },
    {
     "name": "stderr",
     "output_type": "stream",
     "text": [
      "/home/john/gits/dcase-bioacoustics-2022/post_processing.py:58: SettingWithCopyWarning: \n",
      "A value is trying to be set on a copy of a slice from a DataFrame.\n",
      "Try using .loc[row_indexer,col_indexer] = value instead\n",
      "\n",
      "See the caveats in the documentation: https://pandas.pydata.org/pandas-docs/stable/user_guide/indexing.html#returning-a-view-versus-a-copy\n",
      "  prediction['Group'] = gs\n"
     ]
    },
    {
     "name": "stdout",
     "output_type": "stream",
     "text": [
      "ME scores:  {'precision': 0.3146853146853147, 'recall': 0.8653846153846154, 'fmeasure (percentage)': 46.154}\n",
      "PB scores:  {'precision': 0.004012247914686939, 'recall': 0.16170212765957448, 'fmeasure (percentage)': 0.783}\n",
      "HB scores:  {'precision': 0.9199255121042831, 'recall': 0.7462235649546828, 'fmeasure (percentage)': 82.402}\n"
     ]
    },
    {
     "name": "stderr",
     "output_type": "stream",
     "text": [
      "/home/john/gits/dcase-bioacoustics-2022/post_processing.py:58: SettingWithCopyWarning: \n",
      "A value is trying to be set on a copy of a slice from a DataFrame.\n",
      "Try using .loc[row_indexer,col_indexer] = value instead\n",
      "\n",
      "See the caveats in the documentation: https://pandas.pydata.org/pandas-docs/stable/user_guide/indexing.html#returning-a-view-versus-a-copy\n",
      "  prediction['Group'] = gs\n"
     ]
    },
    {
     "name": "stdout",
     "output_type": "stream",
     "text": [
      "ME scores:  {'precision': 0.3728813559322034, 'recall': 0.8461538461538461, 'fmeasure (percentage)': 51.765}\n",
      "PB scores:  {'precision': 0.006609593352637543, 'recall': 0.44680851063829785, 'fmeasure (percentage)': 1.303}\n",
      "HB scores:  {'precision': 0.8964879852125693, 'recall': 0.7326283987915407, 'fmeasure (percentage)': 80.632}\n"
     ]
    },
    {
     "name": "stderr",
     "output_type": "stream",
     "text": [
      "/home/john/gits/dcase-bioacoustics-2022/post_processing.py:58: SettingWithCopyWarning: \n",
      "A value is trying to be set on a copy of a slice from a DataFrame.\n",
      "Try using .loc[row_indexer,col_indexer] = value instead\n",
      "\n",
      "See the caveats in the documentation: https://pandas.pydata.org/pandas-docs/stable/user_guide/indexing.html#returning-a-view-versus-a-copy\n",
      "  prediction['Group'] = gs\n"
     ]
    },
    {
     "name": "stdout",
     "output_type": "stream",
     "text": [
      "ME scores:  {'precision': 0.4095238095238095, 'recall': 0.8269230769230769, 'fmeasure (percentage)': 54.777}\n",
      "PB scores:  {'precision': 0.018419777023751818, 'recall': 0.4851063829787234, 'fmeasure (percentage)': 3.549}\n",
      "HB scores:  {'precision': 0.8892988929889298, 'recall': 0.7280966767371602, 'fmeasure (percentage)': 80.066}\n"
     ]
    },
    {
     "name": "stderr",
     "output_type": "stream",
     "text": [
      "/home/john/gits/dcase-bioacoustics-2022/post_processing.py:58: SettingWithCopyWarning: \n",
      "A value is trying to be set on a copy of a slice from a DataFrame.\n",
      "Try using .loc[row_indexer,col_indexer] = value instead\n",
      "\n",
      "See the caveats in the documentation: https://pandas.pydata.org/pandas-docs/stable/user_guide/indexing.html#returning-a-view-versus-a-copy\n",
      "  prediction['Group'] = gs\n"
     ]
    },
    {
     "name": "stdout",
     "output_type": "stream",
     "text": [
      "ME scores:  {'precision': 0.44680851063829785, 'recall': 0.8076923076923077, 'fmeasure (percentage)': 57.534}\n",
      "PB scores:  {'precision': 0.10152284263959391, 'recall': 0.3404255319148936, 'fmeasure (percentage)': 15.64}\n",
      "HB scores:  {'precision': 0.8659420289855072, 'recall': 0.7220543806646526, 'fmeasure (percentage)': 78.748}\n"
     ]
    },
    {
     "name": "stderr",
     "output_type": "stream",
     "text": [
      "/home/john/gits/dcase-bioacoustics-2022/post_processing.py:58: SettingWithCopyWarning: \n",
      "A value is trying to be set on a copy of a slice from a DataFrame.\n",
      "Try using .loc[row_indexer,col_indexer] = value instead\n",
      "\n",
      "See the caveats in the documentation: https://pandas.pydata.org/pandas-docs/stable/user_guide/indexing.html#returning-a-view-versus-a-copy\n",
      "  prediction['Group'] = gs\n"
     ]
    },
    {
     "name": "stdout",
     "output_type": "stream",
     "text": [
      "ME scores:  {'precision': 0.4523809523809524, 'recall': 0.7307692307692307, 'fmeasure (percentage)': 55.882}\n",
      "PB scores:  {'precision': 0.4020618556701031, 'recall': 0.16595744680851063, 'fmeasure (percentage)': 23.494}\n",
      "HB scores:  {'precision': 0.8386524822695035, 'recall': 0.7145015105740181, 'fmeasure (percentage)': 77.162}\n"
     ]
    },
    {
     "name": "stderr",
     "output_type": "stream",
     "text": [
      "/home/john/gits/dcase-bioacoustics-2022/post_processing.py:58: SettingWithCopyWarning: \n",
      "A value is trying to be set on a copy of a slice from a DataFrame.\n",
      "Try using .loc[row_indexer,col_indexer] = value instead\n",
      "\n",
      "See the caveats in the documentation: https://pandas.pydata.org/pandas-docs/stable/user_guide/indexing.html#returning-a-view-versus-a-copy\n",
      "  prediction['Group'] = gs\n"
     ]
    },
    {
     "name": "stdout",
     "output_type": "stream",
     "text": [
      "ME scores:  {'precision': 0.47435897435897434, 'recall': 0.7115384615384616, 'fmeasure (percentage)': 56.923}\n",
      "PB scores:  {'precision': 0.4444444444444444, 'recall': 0.03137254901960784, 'fmeasure (percentage)': 5.861}\n",
      "HB scores:  {'precision': 0.8110918544194108, 'recall': 0.7069486404833837, 'fmeasure (percentage)': 75.545}\n"
     ]
    },
    {
     "name": "stderr",
     "output_type": "stream",
     "text": [
      "/home/john/gits/dcase-bioacoustics-2022/post_processing.py:58: SettingWithCopyWarning: \n",
      "A value is trying to be set on a copy of a slice from a DataFrame.\n",
      "Try using .loc[row_indexer,col_indexer] = value instead\n",
      "\n",
      "See the caveats in the documentation: https://pandas.pydata.org/pandas-docs/stable/user_guide/indexing.html#returning-a-view-versus-a-copy\n",
      "  prediction['Group'] = gs\n"
     ]
    },
    {
     "name": "stdout",
     "output_type": "stream",
     "text": [
      "ME scores:  {'precision': 0.5151515151515151, 'recall': 0.6538461538461539, 'fmeasure (percentage)': 57.627}\n",
      "PB scores:  {'precision': 0.5714285714285714, 'recall': 0.01568627450980392, 'fmeasure (percentage)': 3.053}\n",
      "HB scores:  {'precision': 0.7818499127399651, 'recall': 0.676737160120846, 'fmeasure (percentage)': 72.551}\n",
      "Prediction 3 max f-measure = 0.40861540924728934\n"
     ]
    },
    {
     "name": "stderr",
     "output_type": "stream",
     "text": [
      "/home/john/gits/dcase-bioacoustics-2022/post_processing.py:58: SettingWithCopyWarning: \n",
      "A value is trying to be set on a copy of a slice from a DataFrame.\n",
      "Try using .loc[row_indexer,col_indexer] = value instead\n",
      "\n",
      "See the caveats in the documentation: https://pandas.pydata.org/pandas-docs/stable/user_guide/indexing.html#returning-a-view-versus-a-copy\n",
      "  prediction['Group'] = gs\n"
     ]
    },
    {
     "name": "stdout",
     "output_type": "stream",
     "text": [
      "ME scores:  {'precision': 0.0843585237258348, 'recall': 0.9230769230769231, 'fmeasure (percentage)': 15.459}\n",
      "PB scores:  {'precision': 0.004352557127312296, 'recall': 0.06274509803921569, 'fmeasure (percentage)': 0.814}\n",
      "HB scores:  {'precision': 0.9512195121951219, 'recall': 0.7658610271903323, 'fmeasure (percentage)': 84.854}\n"
     ]
    },
    {
     "name": "stderr",
     "output_type": "stream",
     "text": [
      "/home/john/gits/dcase-bioacoustics-2022/post_processing.py:58: SettingWithCopyWarning: \n",
      "A value is trying to be set on a copy of a slice from a DataFrame.\n",
      "Try using .loc[row_indexer,col_indexer] = value instead\n",
      "\n",
      "See the caveats in the documentation: https://pandas.pydata.org/pandas-docs/stable/user_guide/indexing.html#returning-a-view-versus-a-copy\n",
      "  prediction['Group'] = gs\n"
     ]
    },
    {
     "name": "stdout",
     "output_type": "stream",
     "text": [
      "ME scores:  {'precision': 0.22274881516587677, 'recall': 0.9038461538461539, 'fmeasure (percentage)': 35.741}\n",
      "PB scores:  {'precision': 0.0053526448362720405, 'recall': 0.06938775510204082, 'fmeasure (percentage)': 0.994}\n",
      "HB scores:  {'precision': 0.9401869158878504, 'recall': 0.7598187311178247, 'fmeasure (percentage)': 84.043}\n"
     ]
    },
    {
     "name": "stderr",
     "output_type": "stream",
     "text": [
      "/home/john/gits/dcase-bioacoustics-2022/post_processing.py:58: SettingWithCopyWarning: \n",
      "A value is trying to be set on a copy of a slice from a DataFrame.\n",
      "Try using .loc[row_indexer,col_indexer] = value instead\n",
      "\n",
      "See the caveats in the documentation: https://pandas.pydata.org/pandas-docs/stable/user_guide/indexing.html#returning-a-view-versus-a-copy\n",
      "  prediction['Group'] = gs\n"
     ]
    },
    {
     "name": "stdout",
     "output_type": "stream",
     "text": [
      "ME scores:  {'precision': 0.38016528925619836, 'recall': 0.8846153846153846, 'fmeasure (percentage)': 53.179}\n",
      "PB scores:  {'precision': 0.00516366989396035, 'recall': 0.23829787234042554, 'fmeasure (percentage)': 1.011}\n",
      "HB scores:  {'precision': 0.9275092936802974, 'recall': 0.7537764350453172, 'fmeasure (percentage)': 83.167}\n"
     ]
    },
    {
     "name": "stderr",
     "output_type": "stream",
     "text": [
      "/home/john/gits/dcase-bioacoustics-2022/post_processing.py:58: SettingWithCopyWarning: \n",
      "A value is trying to be set on a copy of a slice from a DataFrame.\n",
      "Try using .loc[row_indexer,col_indexer] = value instead\n",
      "\n",
      "See the caveats in the documentation: https://pandas.pydata.org/pandas-docs/stable/user_guide/indexing.html#returning-a-view-versus-a-copy\n",
      "  prediction['Group'] = gs\n"
     ]
    },
    {
     "name": "stdout",
     "output_type": "stream",
     "text": [
      "ME scores:  {'precision': 0.44, 'recall': 0.8461538461538461, 'fmeasure (percentage)': 57.895}\n",
      "PB scores:  {'precision': 0.00764244285226885, 'recall': 0.4765957446808511, 'fmeasure (percentage)': 1.504}\n",
      "HB scores:  {'precision': 0.894927536231884, 'recall': 0.7462235649546828, 'fmeasure (percentage)': 81.384}\n"
     ]
    },
    {
     "name": "stderr",
     "output_type": "stream",
     "text": [
      "/home/john/gits/dcase-bioacoustics-2022/post_processing.py:58: SettingWithCopyWarning: \n",
      "A value is trying to be set on a copy of a slice from a DataFrame.\n",
      "Try using .loc[row_indexer,col_indexer] = value instead\n",
      "\n",
      "See the caveats in the documentation: https://pandas.pydata.org/pandas-docs/stable/user_guide/indexing.html#returning-a-view-versus-a-copy\n",
      "  prediction['Group'] = gs\n"
     ]
    },
    {
     "name": "stdout",
     "output_type": "stream",
     "text": [
      "ME scores:  {'precision': 0.48863636363636365, 'recall': 0.8269230769230769, 'fmeasure (percentage)': 61.429}\n",
      "PB scores:  {'precision': 0.02463382157123835, 'recall': 0.4723404255319149, 'fmeasure (percentage)': 4.683}\n",
      "HB scores:  {'precision': 0.8817204301075269, 'recall': 0.743202416918429, 'fmeasure (percentage)': 80.656}\n"
     ]
    },
    {
     "name": "stderr",
     "output_type": "stream",
     "text": [
      "/home/john/gits/dcase-bioacoustics-2022/post_processing.py:58: SettingWithCopyWarning: \n",
      "A value is trying to be set on a copy of a slice from a DataFrame.\n",
      "Try using .loc[row_indexer,col_indexer] = value instead\n",
      "\n",
      "See the caveats in the documentation: https://pandas.pydata.org/pandas-docs/stable/user_guide/indexing.html#returning-a-view-versus-a-copy\n",
      "  prediction['Group'] = gs\n"
     ]
    },
    {
     "name": "stdout",
     "output_type": "stream",
     "text": [
      "ME scores:  {'precision': 0.525, 'recall': 0.8076923076923077, 'fmeasure (percentage)': 63.636}\n",
      "PB scores:  {'precision': 0.17716535433070865, 'recall': 0.3829787234042553, 'fmeasure (percentage)': 24.226}\n",
      "HB scores:  {'precision': 0.8812949640287769, 'recall': 0.7401812688821753, 'fmeasure (percentage)': 80.46}\n"
     ]
    },
    {
     "name": "stderr",
     "output_type": "stream",
     "text": [
      "/home/john/gits/dcase-bioacoustics-2022/post_processing.py:58: SettingWithCopyWarning: \n",
      "A value is trying to be set on a copy of a slice from a DataFrame.\n",
      "Try using .loc[row_indexer,col_indexer] = value instead\n",
      "\n",
      "See the caveats in the documentation: https://pandas.pydata.org/pandas-docs/stable/user_guide/indexing.html#returning-a-view-versus-a-copy\n",
      "  prediction['Group'] = gs\n"
     ]
    },
    {
     "name": "stdout",
     "output_type": "stream",
     "text": [
      "ME scores:  {'precision': 0.525, 'recall': 0.8076923076923077, 'fmeasure (percentage)': 63.636}\n",
      "PB scores:  {'precision': 0.5377358490566038, 'recall': 0.2375, 'fmeasure (percentage)': 32.948}\n",
      "HB scores:  {'precision': 0.875, 'recall': 0.729607250755287, 'fmeasure (percentage)': 79.572}\n"
     ]
    },
    {
     "name": "stderr",
     "output_type": "stream",
     "text": [
      "/home/john/gits/dcase-bioacoustics-2022/post_processing.py:58: SettingWithCopyWarning: \n",
      "A value is trying to be set on a copy of a slice from a DataFrame.\n",
      "Try using .loc[row_indexer,col_indexer] = value instead\n",
      "\n",
      "See the caveats in the documentation: https://pandas.pydata.org/pandas-docs/stable/user_guide/indexing.html#returning-a-view-versus-a-copy\n",
      "  prediction['Group'] = gs\n"
     ]
    },
    {
     "name": "stdout",
     "output_type": "stream",
     "text": [
      "ME scores:  {'precision': 0.5428571428571428, 'recall': 0.7307692307692307, 'fmeasure (percentage)': 62.295}\n",
      "PB scores:  {'precision': 0.6111111111111112, 'recall': 0.08979591836734693, 'fmeasure (percentage)': 15.658}\n",
      "HB scores:  {'precision': 0.8509874326750448, 'recall': 0.716012084592145, 'fmeasure (percentage)': 77.769}\n"
     ]
    },
    {
     "name": "stderr",
     "output_type": "stream",
     "text": [
      "/home/john/gits/dcase-bioacoustics-2022/post_processing.py:58: SettingWithCopyWarning: \n",
      "A value is trying to be set on a copy of a slice from a DataFrame.\n",
      "Try using .loc[row_indexer,col_indexer] = value instead\n",
      "\n",
      "See the caveats in the documentation: https://pandas.pydata.org/pandas-docs/stable/user_guide/indexing.html#returning-a-view-versus-a-copy\n",
      "  prediction['Group'] = gs\n"
     ]
    },
    {
     "name": "stdout",
     "output_type": "stream",
     "text": [
      "ME scores:  {'precision': 0.5178571428571429, 'recall': 0.5576923076923077, 'fmeasure (percentage)': 53.704}\n",
      "PB scores:  {'precision': 0.5625, 'recall': 0.03529411764705882, 'fmeasure (percentage)': 6.642}\n",
      "HB scores:  {'precision': 0.8131672597864769, 'recall': 0.6903323262839879, 'fmeasure (percentage)': 74.673}\n",
      "Prediction 4 max f-measure = 0.5116620514059509\n"
     ]
    },
    {
     "data": {
      "image/png": "[encoded data removed]",
      "text/plain": [
       "<Figure size 432x288 with 1 Axes>"
      ]
     },
     "execution_count": 54,
     "metadata": {},
     "output_type": "execute_result"
    },
    {
     "data": {
      "image/png": "[encoded data removed]",
      "text/plain": [
       "<Figure size 432x288 with 1 Axes>"
      ]
     },
     "metadata": {
      "needs_background": "light"
     },
     "output_type": "display_data"
    }
   ],
   "source": [
    "sample_rate = 22050\n",
    "root_dir = '/mnt/storage_1/datasets/bioacoustics_dcase2022/Development_Set_{}Hz/Validation_Set/'.format(sample_rate)\n",
    "csv_paths_me = glob.glob(os.path.join(root_dir, 'ME/*.csv'))\n",
    "csv_paths_pb = glob.glob(os.path.join(root_dir, 'PB/*.csv'))\n",
    "csv_paths_hb = glob.glob(os.path.join(root_dir, 'HB/*.csv'))\n",
    "csv_paths = csv_paths_me + csv_paths_hb + csv_paths_pb\n",
    "\n",
    "configs = [\n",
    "    {\n",
    "        'thrs'               : [0.1, 0.2, 0.3, 0.4, 0.5, 0.6, 0.7, 0.8, 0.9],\n",
    "        'runs'               : [0],\n",
    "        'tfs'                : ['tf_pcen_speech'],\n",
    "        'adaptive_embedding' : True,\n",
    "        'window_size'        : 2048,\n",
    "        'stats_group'        : 0,\n",
    "        'label'              : 'Prediction 0',\n",
    "        'experiment_dir'     : '../experiments/final_ensemble/',\n",
    "        'hop_size_fraction'  : 2,\n",
    "\n",
    "    },\n",
    "    {\n",
    "        'thrs'               : [0.1, 0.2, 0.3, 0.4, 0.5, 0.6, 0.7, 0.8, 0.9],\n",
    "        'runs'               : [1],\n",
    "        'tfs'                : ['tf_pcen_speech'],\n",
    "        'adaptive_embedding' : True,\n",
    "        'window_size'        : 2048,\n",
    "        'stats_group'        : 0,\n",
    "        'label'              : 'Prediction 1',\n",
    "        'experiment_dir'     : '../experiments/final_ensemble/',\n",
    "        'hop_size_fraction'  : 2,\n",
    "\n",
    "    },\n",
    "    {\n",
    "        'thrs'               : [0.1, 0.2, 0.3, 0.4, 0.5, 0.6, 0.7, 0.8, 0.9],\n",
    "        'runs'               : [2],\n",
    "        'tfs'                : ['tf_pcen_speech'],\n",
    "        'adaptive_embedding' : True,\n",
    "        'window_size'        : 2048,\n",
    "        'stats_group'        : 0,\n",
    "        'label'              : 'Prediction 2',\n",
    "        'experiment_dir'     : '../experiments/final_ensemble/',\n",
    "        'hop_size_fraction'  : 2,\n",
    "\n",
    "    },\n",
    "    {\n",
    "        'thrs'               : [0.1, 0.2, 0.3, 0.4, 0.5, 0.6, 0.7, 0.8, 0.9],\n",
    "        'runs'               : [3],\n",
    "        'tfs'                : ['tf_pcen_speech'],\n",
    "        'adaptive_embedding' : True,\n",
    "        'window_size'        : 2048,\n",
    "        'stats_group'        : 0,\n",
    "        'label'              : 'Prediction 3',\n",
    "        'experiment_dir'     : '../experiments/final_ensemble/',\n",
    "        'hop_size_fraction'  : 2,\n",
    "\n",
    "    },\n",
    "    {\n",
    "        'thrs'               : [0.1, 0.2, 0.3, 0.4, 0.5, 0.6, 0.7, 0.8, 0.9],\n",
    "        'runs'               : [4],\n",
    "        'tfs'                : ['tf_pcen_speech'],\n",
    "        'adaptive_embedding' : True,\n",
    "        'window_size'        : 2048,\n",
    "        'stats_group'        : 0,\n",
    "        'label'              : 'Prediction 4',\n",
    "        'experiment_dir'     : '../experiments/final_ensemble/',\n",
    "        'hop_size_fraction'  : 2,\n",
    "\n",
    "    },\n",
    "]\n",
    "\n",
    "evaluate_and_plot(configs, csv_paths)"
   ]
  },
  {
   "cell_type": "code",
   "execution_count": 57,
   "id": "radio-bahamas",
   "metadata": {},
   "outputs": [
    {
     "name": "stdout",
     "output_type": "stream",
     "text": [
      "0.4963759055211895\n",
      "0.053452392643079494\n"
     ]
    }
   ],
   "source": [
    "print(np.mean([0.5718666243983976, 0.47688408207269095, 0.5128513604816188, 0.40861540924728934, 0.5116620514059509]))\n",
    "print(np.std([0.5718666243983976, 0.47688408207269095, 0.5128513604816188, 0.40861540924728934, 0.5116620514059509]))"
   ]
  },
  {
   "cell_type": "code",
   "execution_count": 46,
   "id": "large-christopher",
   "metadata": {
    "scrolled": true
   },
   "outputs": [
    {
     "name": "stderr",
     "output_type": "stream",
     "text": [
      "IOPub data rate exceeded.\n",
      "The notebook server will temporarily stop sending output\n",
      "to the client in order to avoid crashing it.\n",
      "To change this limit, set the config variable\n",
      "`--NotebookApp.iopub_data_rate_limit`.\n",
      "\n",
      "Current values:\n",
      "NotebookApp.iopub_data_rate_limit=1000000.0 (bytes/sec)\n",
      "NotebookApp.rate_limit_window=3.0 (secs)\n",
      "\n",
      "/home/john/gits/dcase-bioacoustics-2022/post_processing.py:58: SettingWithCopyWarning: \n",
      "A value is trying to be set on a copy of a slice from a DataFrame.\n",
      "Try using .loc[row_indexer,col_indexer] = value instead\n",
      "\n",
      "See the caveats in the documentation: https://pandas.pydata.org/pandas-docs/stable/user_guide/indexing.html#returning-a-view-versus-a-copy\n",
      "  prediction['Group'] = gs\n"
     ]
    },
    {
     "name": "stdout",
     "output_type": "stream",
     "text": [
      "ME scores:  {'precision': 0.408, 'recall': 0.9807692307692307, 'fmeasure (percentage)': 57.627}\n",
      "PB scores:  {'precision': 0.09574468085106383, 'recall': 0.036, 'fmeasure (percentage)': 5.233}\n",
      "HB scores:  {'precision': 0.9817518248175182, 'recall': 0.8126888217522659, 'fmeasure (percentage)': 88.926}\n"
     ]
    },
    {
     "name": "stderr",
     "output_type": "stream",
     "text": [
      "/home/john/gits/dcase-bioacoustics-2022/post_processing.py:58: SettingWithCopyWarning: \n",
      "A value is trying to be set on a copy of a slice from a DataFrame.\n",
      "Try using .loc[row_indexer,col_indexer] = value instead\n",
      "\n",
      "See the caveats in the documentation: https://pandas.pydata.org/pandas-docs/stable/user_guide/indexing.html#returning-a-view-versus-a-copy\n",
      "  prediction['Group'] = gs\n"
     ]
    },
    {
     "name": "stdout",
     "output_type": "stream",
     "text": [
      "ME scores:  {'precision': 0.5294117647058824, 'recall': 0.8653846153846154, 'fmeasure (percentage)': 65.693}\n",
      "PB scores:  {'precision': 0.006094702297233943, 'recall': 0.10833333333333334, 'fmeasure (percentage)': 1.154}\n",
      "HB scores:  {'precision': 0.9831460674157303, 'recall': 0.7930513595166163, 'fmeasure (percentage)': 87.793}\n"
     ]
    },
    {
     "name": "stderr",
     "output_type": "stream",
     "text": [
      "/home/john/gits/dcase-bioacoustics-2022/post_processing.py:58: SettingWithCopyWarning: \n",
      "A value is trying to be set on a copy of a slice from a DataFrame.\n",
      "Try using .loc[row_indexer,col_indexer] = value instead\n",
      "\n",
      "See the caveats in the documentation: https://pandas.pydata.org/pandas-docs/stable/user_guide/indexing.html#returning-a-view-versus-a-copy\n",
      "  prediction['Group'] = gs\n"
     ]
    },
    {
     "name": "stdout",
     "output_type": "stream",
     "text": [
      "ME scores:  {'precision': 0.639344262295082, 'recall': 0.75, 'fmeasure (percentage)': 69.027}\n",
      "PB scores:  {'precision': 0.010975393875022128, 'recall': 0.26382978723404255, 'fmeasure (percentage)': 2.107}\n",
      "HB scores:  {'precision': 0.9718045112781954, 'recall': 0.7809667673716012, 'fmeasure (percentage)': 86.6}\n"
     ]
    },
    {
     "name": "stderr",
     "output_type": "stream",
     "text": [
      "/home/john/gits/dcase-bioacoustics-2022/post_processing.py:58: SettingWithCopyWarning: \n",
      "A value is trying to be set on a copy of a slice from a DataFrame.\n",
      "Try using .loc[row_indexer,col_indexer] = value instead\n",
      "\n",
      "See the caveats in the documentation: https://pandas.pydata.org/pandas-docs/stable/user_guide/indexing.html#returning-a-view-versus-a-copy\n",
      "  prediction['Group'] = gs\n"
     ]
    },
    {
     "name": "stdout",
     "output_type": "stream",
     "text": [
      "ME scores:  {'precision': 0.68, 'recall': 0.6538461538461539, 'fmeasure (percentage)': 66.667}\n",
      "PB scores:  {'precision': 0.01060806971017238, 'recall': 0.23829787234042554, 'fmeasure (percentage)': 2.031}\n",
      "HB scores:  {'precision': 0.9622641509433962, 'recall': 0.770392749244713, 'fmeasure (percentage)': 85.57}\n"
     ]
    },
    {
     "name": "stderr",
     "output_type": "stream",
     "text": [
      "/home/john/gits/dcase-bioacoustics-2022/post_processing.py:58: SettingWithCopyWarning: \n",
      "A value is trying to be set on a copy of a slice from a DataFrame.\n",
      "Try using .loc[row_indexer,col_indexer] = value instead\n",
      "\n",
      "See the caveats in the documentation: https://pandas.pydata.org/pandas-docs/stable/user_guide/indexing.html#returning-a-view-versus-a-copy\n",
      "  prediction['Group'] = gs\n"
     ]
    },
    {
     "name": "stdout",
     "output_type": "stream",
     "text": [
      "ME scores:  {'precision': 0.7804878048780488, 'recall': 0.6153846153846154, 'fmeasure (percentage)': 68.817}\n",
      "PB scores:  {'precision': 0.0671892497200448, 'recall': 0.2553191489361702, 'fmeasure (percentage)': 10.638}\n",
      "HB scores:  {'precision': 0.9386617100371747, 'recall': 0.7628398791540786, 'fmeasure (percentage)': 84.167}\n"
     ]
    },
    {
     "name": "stderr",
     "output_type": "stream",
     "text": [
      "/home/john/gits/dcase-bioacoustics-2022/post_processing.py:58: SettingWithCopyWarning: \n",
      "A value is trying to be set on a copy of a slice from a DataFrame.\n",
      "Try using .loc[row_indexer,col_indexer] = value instead\n",
      "\n",
      "See the caveats in the documentation: https://pandas.pydata.org/pandas-docs/stable/user_guide/indexing.html#returning-a-view-versus-a-copy\n",
      "  prediction['Group'] = gs\n"
     ]
    },
    {
     "name": "stdout",
     "output_type": "stream",
     "text": [
      "ME scores:  {'precision': 0.8285714285714286, 'recall': 0.5576923076923077, 'fmeasure (percentage)': 66.667}\n",
      "PB scores:  {'precision': 0.47761194029850745, 'recall': 0.2723404255319149, 'fmeasure (percentage)': 34.688}\n",
      "HB scores:  {'precision': 0.9185185185185185, 'recall': 0.7492447129909365, 'fmeasure (percentage)': 82.529}\n"
     ]
    },
    {
     "name": "stderr",
     "output_type": "stream",
     "text": [
      "/home/john/gits/dcase-bioacoustics-2022/post_processing.py:58: SettingWithCopyWarning: \n",
      "A value is trying to be set on a copy of a slice from a DataFrame.\n",
      "Try using .loc[row_indexer,col_indexer] = value instead\n",
      "\n",
      "See the caveats in the documentation: https://pandas.pydata.org/pandas-docs/stable/user_guide/indexing.html#returning-a-view-versus-a-copy\n",
      "  prediction['Group'] = gs\n"
     ]
    },
    {
     "name": "stdout",
     "output_type": "stream",
     "text": [
      "ME scores:  {'precision': 0.9285714285714286, 'recall': 0.5, 'fmeasure (percentage)': 65.0}\n",
      "PB scores:  {'precision': 0.6833333333333333, 'recall': 0.17083333333333334, 'fmeasure (percentage)': 27.333}\n",
      "HB scores:  {'precision': 0.8950276243093923, 'recall': 0.7341389728096677, 'fmeasure (percentage)': 80.664}\n"
     ]
    },
    {
     "name": "stderr",
     "output_type": "stream",
     "text": [
      "/home/john/gits/dcase-bioacoustics-2022/post_processing.py:58: SettingWithCopyWarning: \n",
      "A value is trying to be set on a copy of a slice from a DataFrame.\n",
      "Try using .loc[row_indexer,col_indexer] = value instead\n",
      "\n",
      "See the caveats in the documentation: https://pandas.pydata.org/pandas-docs/stable/user_guide/indexing.html#returning-a-view-versus-a-copy\n",
      "  prediction['Group'] = gs\n"
     ]
    },
    {
     "name": "stdout",
     "output_type": "stream",
     "text": [
      "ME scores:  {'precision': 0.9523809523809523, 'recall': 0.38461538461538464, 'fmeasure (percentage)': 54.795}\n",
      "PB scores:  {'precision': 0.75, 'recall': 0.132, 'fmeasure (percentage)': 22.449}\n",
      "HB scores:  {'precision': 0.8467153284671532, 'recall': 0.7009063444108762, 'fmeasure (percentage)': 76.694}\n"
     ]
    },
    {
     "name": "stderr",
     "output_type": "stream",
     "text": [
      "/home/john/gits/dcase-bioacoustics-2022/post_processing.py:58: SettingWithCopyWarning: \n",
      "A value is trying to be set on a copy of a slice from a DataFrame.\n",
      "Try using .loc[row_indexer,col_indexer] = value instead\n",
      "\n",
      "See the caveats in the documentation: https://pandas.pydata.org/pandas-docs/stable/user_guide/indexing.html#returning-a-view-versus-a-copy\n",
      "  prediction['Group'] = gs\n"
     ]
    },
    {
     "name": "stdout",
     "output_type": "stream",
     "text": [
      "ME scores:  {'precision': 0.9473684210526315, 'recall': 0.34615384615384615, 'fmeasure (percentage)': 50.704}\n",
      "PB scores:  {'precision': 0.7368421052631579, 'recall': 0.056, 'fmeasure (percentage)': 10.409}\n",
      "HB scores:  {'precision': 0.7988826815642458, 'recall': 0.648036253776435, 'fmeasure (percentage)': 71.56}\n",
      "Ensemble (large) max f-measure = 0.5362403711878914\n"
     ]
    },
    {
     "name": "stderr",
     "output_type": "stream",
     "text": [
      "IOPub data rate exceeded.\n",
      "The notebook server will temporarily stop sending output\n",
      "to the client in order to avoid crashing it.\n",
      "To change this limit, set the config variable\n",
      "`--NotebookApp.iopub_data_rate_limit`.\n",
      "\n",
      "Current values:\n",
      "NotebookApp.iopub_data_rate_limit=1000000.0 (bytes/sec)\n",
      "NotebookApp.rate_limit_window=3.0 (secs)\n",
      "\n",
      "/home/john/gits/dcase-bioacoustics-2022/post_processing.py:58: SettingWithCopyWarning: \n",
      "A value is trying to be set on a copy of a slice from a DataFrame.\n",
      "Try using .loc[row_indexer,col_indexer] = value instead\n",
      "\n",
      "See the caveats in the documentation: https://pandas.pydata.org/pandas-docs/stable/user_guide/indexing.html#returning-a-view-versus-a-copy\n",
      "  prediction['Group'] = gs\n"
     ]
    },
    {
     "name": "stdout",
     "output_type": "stream",
     "text": [
      "ME scores:  {'precision': 0.3067484662576687, 'recall': 0.9615384615384616, 'fmeasure (percentage)': 46.512}\n",
      "PB scores:  {'precision': 0.027210884353741496, 'recall': 0.03137254901960784, 'fmeasure (percentage)': 2.914}\n",
      "HB scores:  {'precision': 0.9812734082397003, 'recall': 0.7915407854984894, 'fmeasure (percentage)': 87.625}\n"
     ]
    },
    {
     "name": "stderr",
     "output_type": "stream",
     "text": [
      "/home/john/gits/dcase-bioacoustics-2022/post_processing.py:58: SettingWithCopyWarning: \n",
      "A value is trying to be set on a copy of a slice from a DataFrame.\n",
      "Try using .loc[row_indexer,col_indexer] = value instead\n",
      "\n",
      "See the caveats in the documentation: https://pandas.pydata.org/pandas-docs/stable/user_guide/indexing.html#returning-a-view-versus-a-copy\n",
      "  prediction['Group'] = gs\n"
     ]
    },
    {
     "name": "stdout",
     "output_type": "stream",
     "text": [
      "ME scores:  {'precision': 0.4782608695652174, 'recall': 0.8461538461538461, 'fmeasure (percentage)': 61.111}\n",
      "PB scores:  {'precision': 0.013569937369519834, 'recall': 0.052, 'fmeasure (percentage)': 2.152}\n",
      "HB scores:  {'precision': 0.9869402985074627, 'recall': 0.7990936555891238, 'fmeasure (percentage)': 88.314}\n"
     ]
    },
    {
     "name": "stderr",
     "output_type": "stream",
     "text": [
      "/home/john/gits/dcase-bioacoustics-2022/post_processing.py:58: SettingWithCopyWarning: \n",
      "A value is trying to be set on a copy of a slice from a DataFrame.\n",
      "Try using .loc[row_indexer,col_indexer] = value instead\n",
      "\n",
      "See the caveats in the documentation: https://pandas.pydata.org/pandas-docs/stable/user_guide/indexing.html#returning-a-view-versus-a-copy\n",
      "  prediction['Group'] = gs\n"
     ]
    },
    {
     "name": "stdout",
     "output_type": "stream",
     "text": [
      "ME scores:  {'precision': 0.5671641791044776, 'recall': 0.7307692307692307, 'fmeasure (percentage)': 63.866}\n",
      "PB scores:  {'precision': 0.01253616200578592, 'recall': 0.1625, 'fmeasure (percentage)': 2.328}\n",
      "HB scores:  {'precision': 0.975609756097561, 'recall': 0.7854984894259819, 'fmeasure (percentage)': 87.029}\n"
     ]
    },
    {
     "name": "stderr",
     "output_type": "stream",
     "text": [
      "/home/john/gits/dcase-bioacoustics-2022/post_processing.py:58: SettingWithCopyWarning: \n",
      "A value is trying to be set on a copy of a slice from a DataFrame.\n",
      "Try using .loc[row_indexer,col_indexer] = value instead\n",
      "\n",
      "See the caveats in the documentation: https://pandas.pydata.org/pandas-docs/stable/user_guide/indexing.html#returning-a-view-versus-a-copy\n",
      "  prediction['Group'] = gs\n"
     ]
    },
    {
     "name": "stdout",
     "output_type": "stream",
     "text": [
      "ME scores:  {'precision': 0.6226415094339622, 'recall': 0.6346153846153846, 'fmeasure (percentage)': 62.857}\n",
      "PB scores:  {'precision': 0.008534211708339573, 'recall': 0.2425531914893617, 'fmeasure (percentage)': 1.649}\n",
      "HB scores:  {'precision': 0.9586466165413534, 'recall': 0.770392749244713, 'fmeasure (percentage)': 85.427}\n"
     ]
    },
    {
     "name": "stderr",
     "output_type": "stream",
     "text": [
      "/home/john/gits/dcase-bioacoustics-2022/post_processing.py:58: SettingWithCopyWarning: \n",
      "A value is trying to be set on a copy of a slice from a DataFrame.\n",
      "Try using .loc[row_indexer,col_indexer] = value instead\n",
      "\n",
      "See the caveats in the documentation: https://pandas.pydata.org/pandas-docs/stable/user_guide/indexing.html#returning-a-view-versus-a-copy\n",
      "  prediction['Group'] = gs\n"
     ]
    },
    {
     "name": "stdout",
     "output_type": "stream",
     "text": [
      "ME scores:  {'precision': 0.7435897435897436, 'recall': 0.5576923076923077, 'fmeasure (percentage)': 63.736}\n",
      "PB scores:  {'precision': 0.05465949820788531, 'recall': 0.25957446808510637, 'fmeasure (percentage)': 9.03}\n",
      "HB scores:  {'precision': 0.9328358208955224, 'recall': 0.7552870090634441, 'fmeasure (percentage)': 83.472}\n"
     ]
    },
    {
     "name": "stderr",
     "output_type": "stream",
     "text": [
      "/home/john/gits/dcase-bioacoustics-2022/post_processing.py:58: SettingWithCopyWarning: \n",
      "A value is trying to be set on a copy of a slice from a DataFrame.\n",
      "Try using .loc[row_indexer,col_indexer] = value instead\n",
      "\n",
      "See the caveats in the documentation: https://pandas.pydata.org/pandas-docs/stable/user_guide/indexing.html#returning-a-view-versus-a-copy\n",
      "  prediction['Group'] = gs\n"
     ]
    },
    {
     "name": "stdout",
     "output_type": "stream",
     "text": [
      "ME scores:  {'precision': 0.7878787878787878, 'recall': 0.5, 'fmeasure (percentage)': 61.176}\n",
      "PB scores:  {'precision': 0.7032967032967034, 'recall': 0.2723404255319149, 'fmeasure (percentage)': 39.264}\n",
      "HB scores:  {'precision': 0.9216417910447762, 'recall': 0.7462235649546828, 'fmeasure (percentage)': 82.471}\n"
     ]
    },
    {
     "name": "stderr",
     "output_type": "stream",
     "text": [
      "/home/john/gits/dcase-bioacoustics-2022/post_processing.py:58: SettingWithCopyWarning: \n",
      "A value is trying to be set on a copy of a slice from a DataFrame.\n",
      "Try using .loc[row_indexer,col_indexer] = value instead\n",
      "\n",
      "See the caveats in the documentation: https://pandas.pydata.org/pandas-docs/stable/user_guide/indexing.html#returning-a-view-versus-a-copy\n",
      "  prediction['Group'] = gs\n"
     ]
    },
    {
     "name": "stdout",
     "output_type": "stream",
     "text": [
      "ME scores:  {'precision': 0.875, 'recall': 0.40384615384615385, 'fmeasure (percentage)': 55.263}\n",
      "PB scores:  {'precision': 0.7727272727272727, 'recall': 0.136, 'fmeasure (percentage)': 23.129}\n",
      "HB scores:  {'precision': 0.8813868613138686, 'recall': 0.729607250755287, 'fmeasure (percentage)': 79.835}\n"
     ]
    },
    {
     "name": "stderr",
     "output_type": "stream",
     "text": [
      "/home/john/gits/dcase-bioacoustics-2022/post_processing.py:58: SettingWithCopyWarning: \n",
      "A value is trying to be set on a copy of a slice from a DataFrame.\n",
      "Try using .loc[row_indexer,col_indexer] = value instead\n",
      "\n",
      "See the caveats in the documentation: https://pandas.pydata.org/pandas-docs/stable/user_guide/indexing.html#returning-a-view-versus-a-copy\n",
      "  prediction['Group'] = gs\n"
     ]
    },
    {
     "name": "stdout",
     "output_type": "stream",
     "text": [
      "ME scores:  {'precision': 0.9473684210526315, 'recall': 0.34615384615384615, 'fmeasure (percentage)': 50.704}\n",
      "PB scores:  {'precision': 0.6190476190476191, 'recall': 0.052, 'fmeasure (percentage)': 9.594}\n",
      "HB scores:  {'precision': 0.8375912408759124, 'recall': 0.6933534743202417, 'fmeasure (percentage)': 75.868}\n"
     ]
    },
    {
     "name": "stderr",
     "output_type": "stream",
     "text": [
      "/home/john/gits/dcase-bioacoustics-2022/post_processing.py:58: SettingWithCopyWarning: \n",
      "A value is trying to be set on a copy of a slice from a DataFrame.\n",
      "Try using .loc[row_indexer,col_indexer] = value instead\n",
      "\n",
      "See the caveats in the documentation: https://pandas.pydata.org/pandas-docs/stable/user_guide/indexing.html#returning-a-view-versus-a-copy\n",
      "  prediction['Group'] = gs\n"
     ]
    },
    {
     "name": "stdout",
     "output_type": "stream",
     "text": [
      "ME scores:  {'precision': 1.0, 'recall': 0.28846153846153844, 'fmeasure (percentage)': 44.776}\n",
      "PB scores:  {'precision': 1.0, 'recall': 0.011764705882352941, 'fmeasure (percentage)': 2.326}\n",
      "HB scores:  {'precision': 0.7752808988764045, 'recall': 0.6253776435045317, 'fmeasure (percentage)': 69.231}\n",
      "Ensemble (small) max f-measure = 0.5561692995109594\n"
     ]
    },
    {
     "data": {
      "image/png": "[encoded data removed]",
      "text/plain": [
       "<Figure size 432x288 with 1 Axes>"
      ]
     },
     "execution_count": 46,
     "metadata": {},
     "output_type": "execute_result"
    },
    {
     "data": {
      "image/png": "[encoded data removed]",
      "text/plain": [
       "<Figure size 432x288 with 1 Axes>"
      ]
     },
     "metadata": {
      "needs_background": "light"
     },
     "output_type": "display_data"
    }
   ],
   "source": [
    "sample_rate = 22050\n",
    "root_dir = '/mnt/storage_1/datasets/bioacoustics_dcase2022/Development_Set_{}Hz/Validation_Set/'.format(sample_rate)\n",
    "csv_paths_me = glob.glob(os.path.join(root_dir, 'ME/*.csv'))\n",
    "csv_paths_pb = glob.glob(os.path.join(root_dir, 'PB/*.csv'))\n",
    "csv_paths_hb = glob.glob(os.path.join(root_dir, 'HB/*.csv'))\n",
    "csv_paths = csv_paths_me + csv_paths_hb + csv_paths_pb\n",
    "\n",
    "configs = [\n",
    "    {\n",
    "        'thrs'               : [0.1, 0.2, 0.3, 0.4, 0.5, 0.6, 0.7, 0.8, 0.9],\n",
    "        'runs'               : [0,1,2,3,4],\n",
    "        'tfs'                : ['tf_decibel', 'tf_pcen_biodiversity', 'tf_pcen_speech'],\n",
    "        'adaptive_embedding' : True,\n",
    "        'stats_group'        : 0,\n",
    "        'label'              : 'Ensemble (large)',\n",
    "        'experiment_dir'     : '../experiments/final_ensemble/',\n",
    "    },\n",
    "    {\n",
    "        'thrs'               : [0.1, 0.2, 0.3, 0.4, 0.5, 0.6, 0.7, 0.8, 0.9],\n",
    "        'runs'               : [0,1,2,3,4],\n",
    "        'tfs'                : ['tf_decibel', 'tf_pcen_biodiversity', 'tf_pcen_speech'],\n",
    "        'adaptive_embedding' : True,\n",
    "        'stats_group'        : 0,\n",
    "        'label'              : 'Ensemble (small)',\n",
    "        'experiment_dir'     : '../experiments/final_ensemble_small/',\n",
    "    },\n",
    "]\n",
    "\n",
    "evaluate_and_plot(configs)"
   ]
  },
  {
   "cell_type": "code",
   "execution_count": 7,
   "id": "naked-naples",
   "metadata": {},
   "outputs": [
    {
     "name": "stderr",
     "output_type": "stream",
     "text": [
      "IOPub data rate exceeded.\n",
      "The notebook server will temporarily stop sending output\n",
      "to the client in order to avoid crashing it.\n",
      "To change this limit, set the config variable\n",
      "`--NotebookApp.iopub_data_rate_limit`.\n",
      "\n",
      "Current values:\n",
      "NotebookApp.iopub_data_rate_limit=1000000.0 (bytes/sec)\n",
      "NotebookApp.rate_limit_window=3.0 (secs)\n",
      "\n",
      "/home/john/gits/dcase-bioacoustics-2022/post_processing.py:58: SettingWithCopyWarning: \n",
      "A value is trying to be set on a copy of a slice from a DataFrame.\n",
      "Try using .loc[row_indexer,col_indexer] = value instead\n",
      "\n",
      "See the caveats in the documentation: https://pandas.pydata.org/pandas-docs/stable/user_guide/indexing.html#returning-a-view-versus-a-copy\n",
      "  prediction['Group'] = gs\n"
     ]
    },
    {
     "name": "stdout",
     "output_type": "stream",
     "text": [
      "ME scores:  {'precision': 0.408, 'recall': 0.9807692307692307, 'fmeasure (percentage)': 57.627}\n",
      "PB scores:  {'precision': 0.09574468085106383, 'recall': 0.036, 'fmeasure (percentage)': 5.233}\n",
      "HB scores:  {'precision': 0.9817518248175182, 'recall': 0.8126888217522659, 'fmeasure (percentage)': 88.926}\n"
     ]
    },
    {
     "name": "stderr",
     "output_type": "stream",
     "text": [
      "/home/john/gits/dcase-bioacoustics-2022/post_processing.py:58: SettingWithCopyWarning: \n",
      "A value is trying to be set on a copy of a slice from a DataFrame.\n",
      "Try using .loc[row_indexer,col_indexer] = value instead\n",
      "\n",
      "See the caveats in the documentation: https://pandas.pydata.org/pandas-docs/stable/user_guide/indexing.html#returning-a-view-versus-a-copy\n",
      "  prediction['Group'] = gs\n"
     ]
    },
    {
     "name": "stdout",
     "output_type": "stream",
     "text": [
      "ME scores:  {'precision': 0.5294117647058824, 'recall': 0.8653846153846154, 'fmeasure (percentage)': 65.693}\n",
      "PB scores:  {'precision': 0.006094702297233943, 'recall': 0.10833333333333334, 'fmeasure (percentage)': 1.154}\n",
      "HB scores:  {'precision': 0.9831460674157303, 'recall': 0.7930513595166163, 'fmeasure (percentage)': 87.793}\n"
     ]
    },
    {
     "name": "stderr",
     "output_type": "stream",
     "text": [
      "/home/john/gits/dcase-bioacoustics-2022/post_processing.py:58: SettingWithCopyWarning: \n",
      "A value is trying to be set on a copy of a slice from a DataFrame.\n",
      "Try using .loc[row_indexer,col_indexer] = value instead\n",
      "\n",
      "See the caveats in the documentation: https://pandas.pydata.org/pandas-docs/stable/user_guide/indexing.html#returning-a-view-versus-a-copy\n",
      "  prediction['Group'] = gs\n"
     ]
    },
    {
     "name": "stdout",
     "output_type": "stream",
     "text": [
      "ME scores:  {'precision': 0.639344262295082, 'recall': 0.75, 'fmeasure (percentage)': 69.027}\n",
      "PB scores:  {'precision': 0.010975393875022128, 'recall': 0.26382978723404255, 'fmeasure (percentage)': 2.107}\n",
      "HB scores:  {'precision': 0.9718045112781954, 'recall': 0.7809667673716012, 'fmeasure (percentage)': 86.6}\n"
     ]
    },
    {
     "name": "stderr",
     "output_type": "stream",
     "text": [
      "/home/john/gits/dcase-bioacoustics-2022/post_processing.py:58: SettingWithCopyWarning: \n",
      "A value is trying to be set on a copy of a slice from a DataFrame.\n",
      "Try using .loc[row_indexer,col_indexer] = value instead\n",
      "\n",
      "See the caveats in the documentation: https://pandas.pydata.org/pandas-docs/stable/user_guide/indexing.html#returning-a-view-versus-a-copy\n",
      "  prediction['Group'] = gs\n"
     ]
    },
    {
     "name": "stdout",
     "output_type": "stream",
     "text": [
      "ME scores:  {'precision': 0.68, 'recall': 0.6538461538461539, 'fmeasure (percentage)': 66.667}\n",
      "PB scores:  {'precision': 0.01060806971017238, 'recall': 0.23829787234042554, 'fmeasure (percentage)': 2.031}\n",
      "HB scores:  {'precision': 0.9622641509433962, 'recall': 0.770392749244713, 'fmeasure (percentage)': 85.57}\n"
     ]
    },
    {
     "name": "stderr",
     "output_type": "stream",
     "text": [
      "/home/john/gits/dcase-bioacoustics-2022/post_processing.py:58: SettingWithCopyWarning: \n",
      "A value is trying to be set on a copy of a slice from a DataFrame.\n",
      "Try using .loc[row_indexer,col_indexer] = value instead\n",
      "\n",
      "See the caveats in the documentation: https://pandas.pydata.org/pandas-docs/stable/user_guide/indexing.html#returning-a-view-versus-a-copy\n",
      "  prediction['Group'] = gs\n"
     ]
    },
    {
     "name": "stdout",
     "output_type": "stream",
     "text": [
      "ME scores:  {'precision': 0.7804878048780488, 'recall': 0.6153846153846154, 'fmeasure (percentage)': 68.817}\n",
      "PB scores:  {'precision': 0.0671892497200448, 'recall': 0.2553191489361702, 'fmeasure (percentage)': 10.638}\n",
      "HB scores:  {'precision': 0.9386617100371747, 'recall': 0.7628398791540786, 'fmeasure (percentage)': 84.167}\n"
     ]
    },
    {
     "name": "stderr",
     "output_type": "stream",
     "text": [
      "/home/john/gits/dcase-bioacoustics-2022/post_processing.py:58: SettingWithCopyWarning: \n",
      "A value is trying to be set on a copy of a slice from a DataFrame.\n",
      "Try using .loc[row_indexer,col_indexer] = value instead\n",
      "\n",
      "See the caveats in the documentation: https://pandas.pydata.org/pandas-docs/stable/user_guide/indexing.html#returning-a-view-versus-a-copy\n",
      "  prediction['Group'] = gs\n"
     ]
    },
    {
     "name": "stdout",
     "output_type": "stream",
     "text": [
      "ME scores:  {'precision': 0.8285714285714286, 'recall': 0.5576923076923077, 'fmeasure (percentage)': 66.667}\n",
      "PB scores:  {'precision': 0.47761194029850745, 'recall': 0.2723404255319149, 'fmeasure (percentage)': 34.688}\n",
      "HB scores:  {'precision': 0.9185185185185185, 'recall': 0.7492447129909365, 'fmeasure (percentage)': 82.529}\n"
     ]
    },
    {
     "name": "stderr",
     "output_type": "stream",
     "text": [
      "/home/john/gits/dcase-bioacoustics-2022/post_processing.py:58: SettingWithCopyWarning: \n",
      "A value is trying to be set on a copy of a slice from a DataFrame.\n",
      "Try using .loc[row_indexer,col_indexer] = value instead\n",
      "\n",
      "See the caveats in the documentation: https://pandas.pydata.org/pandas-docs/stable/user_guide/indexing.html#returning-a-view-versus-a-copy\n",
      "  prediction['Group'] = gs\n"
     ]
    },
    {
     "name": "stdout",
     "output_type": "stream",
     "text": [
      "ME scores:  {'precision': 0.9285714285714286, 'recall': 0.5, 'fmeasure (percentage)': 65.0}\n",
      "PB scores:  {'precision': 0.6833333333333333, 'recall': 0.17083333333333334, 'fmeasure (percentage)': 27.333}\n",
      "HB scores:  {'precision': 0.8950276243093923, 'recall': 0.7341389728096677, 'fmeasure (percentage)': 80.664}\n"
     ]
    },
    {
     "name": "stderr",
     "output_type": "stream",
     "text": [
      "/home/john/gits/dcase-bioacoustics-2022/post_processing.py:58: SettingWithCopyWarning: \n",
      "A value is trying to be set on a copy of a slice from a DataFrame.\n",
      "Try using .loc[row_indexer,col_indexer] = value instead\n",
      "\n",
      "See the caveats in the documentation: https://pandas.pydata.org/pandas-docs/stable/user_guide/indexing.html#returning-a-view-versus-a-copy\n",
      "  prediction['Group'] = gs\n"
     ]
    },
    {
     "name": "stdout",
     "output_type": "stream",
     "text": [
      "ME scores:  {'precision': 0.9523809523809523, 'recall': 0.38461538461538464, 'fmeasure (percentage)': 54.795}\n",
      "PB scores:  {'precision': 0.75, 'recall': 0.132, 'fmeasure (percentage)': 22.449}\n",
      "HB scores:  {'precision': 0.8467153284671532, 'recall': 0.7009063444108762, 'fmeasure (percentage)': 76.694}\n"
     ]
    },
    {
     "name": "stderr",
     "output_type": "stream",
     "text": [
      "/home/john/gits/dcase-bioacoustics-2022/post_processing.py:58: SettingWithCopyWarning: \n",
      "A value is trying to be set on a copy of a slice from a DataFrame.\n",
      "Try using .loc[row_indexer,col_indexer] = value instead\n",
      "\n",
      "See the caveats in the documentation: https://pandas.pydata.org/pandas-docs/stable/user_guide/indexing.html#returning-a-view-versus-a-copy\n",
      "  prediction['Group'] = gs\n"
     ]
    },
    {
     "name": "stdout",
     "output_type": "stream",
     "text": [
      "ME scores:  {'precision': 0.9473684210526315, 'recall': 0.34615384615384615, 'fmeasure (percentage)': 50.704}\n",
      "PB scores:  {'precision': 0.7368421052631579, 'recall': 0.056, 'fmeasure (percentage)': 10.409}\n",
      "HB scores:  {'precision': 0.7988826815642458, 'recall': 0.648036253776435, 'fmeasure (percentage)': 71.56}\n",
      "Ensemble max f-measure = 0.5362403711878914\n"
     ]
    },
    {
     "name": "stderr",
     "output_type": "stream",
     "text": [
      "IOPub data rate exceeded.\n",
      "The notebook server will temporarily stop sending output\n",
      "to the client in order to avoid crashing it.\n",
      "To change this limit, set the config variable\n",
      "`--NotebookApp.iopub_data_rate_limit`.\n",
      "\n",
      "Current values:\n",
      "NotebookApp.iopub_data_rate_limit=1000000.0 (bytes/sec)\n",
      "NotebookApp.rate_limit_window=3.0 (secs)\n",
      "\n",
      "/home/john/gits/dcase-bioacoustics-2022/post_processing.py:58: SettingWithCopyWarning: \n",
      "A value is trying to be set on a copy of a slice from a DataFrame.\n",
      "Try using .loc[row_indexer,col_indexer] = value instead\n",
      "\n",
      "See the caveats in the documentation: https://pandas.pydata.org/pandas-docs/stable/user_guide/indexing.html#returning-a-view-versus-a-copy\n",
      "  prediction['Group'] = gs\n"
     ]
    },
    {
     "name": "stdout",
     "output_type": "stream",
     "text": [
      "ME scores:  {'precision': 0.3923076923076923, 'recall': 0.9807692307692307, 'fmeasure (percentage)': 56.044}\n",
      "PB scores:  {'precision': 0.061855670103092786, 'recall': 0.023529411764705882, 'fmeasure (percentage)': 3.409}\n",
      "HB scores:  {'precision': 0.9853211009174312, 'recall': 0.8111782477341389, 'fmeasure (percentage)': 88.981}\n"
     ]
    },
    {
     "name": "stderr",
     "output_type": "stream",
     "text": [
      "/home/john/gits/dcase-bioacoustics-2022/post_processing.py:58: SettingWithCopyWarning: \n",
      "A value is trying to be set on a copy of a slice from a DataFrame.\n",
      "Try using .loc[row_indexer,col_indexer] = value instead\n",
      "\n",
      "See the caveats in the documentation: https://pandas.pydata.org/pandas-docs/stable/user_guide/indexing.html#returning-a-view-versus-a-copy\n",
      "  prediction['Group'] = gs\n"
     ]
    },
    {
     "name": "stdout",
     "output_type": "stream",
     "text": [
      "ME scores:  {'precision': 0.5227272727272727, 'recall': 0.8846153846153846, 'fmeasure (percentage)': 65.714}\n",
      "PB scores:  {'precision': 0.005397070161912105, 'recall': 0.058333333333333334, 'fmeasure (percentage)': 0.988}\n",
      "HB scores:  {'precision': 0.9869646182495344, 'recall': 0.8006042296072508, 'fmeasure (percentage)': 88.407}\n"
     ]
    },
    {
     "name": "stderr",
     "output_type": "stream",
     "text": [
      "/home/john/gits/dcase-bioacoustics-2022/post_processing.py:58: SettingWithCopyWarning: \n",
      "A value is trying to be set on a copy of a slice from a DataFrame.\n",
      "Try using .loc[row_indexer,col_indexer] = value instead\n",
      "\n",
      "See the caveats in the documentation: https://pandas.pydata.org/pandas-docs/stable/user_guide/indexing.html#returning-a-view-versus-a-copy\n",
      "  prediction['Group'] = gs\n"
     ]
    },
    {
     "name": "stdout",
     "output_type": "stream",
     "text": [
      "ME scores:  {'precision': 0.625, 'recall': 0.7692307692307693, 'fmeasure (percentage)': 68.966}\n",
      "PB scores:  {'precision': 0.010824853864472829, 'recall': 0.2127659574468085, 'fmeasure (percentage)': 2.06}\n",
      "HB scores:  {'precision': 0.9830508474576272, 'recall': 0.7885196374622356, 'fmeasure (percentage)': 87.51}\n"
     ]
    },
    {
     "name": "stderr",
     "output_type": "stream",
     "text": [
      "/home/john/gits/dcase-bioacoustics-2022/post_processing.py:58: SettingWithCopyWarning: \n",
      "A value is trying to be set on a copy of a slice from a DataFrame.\n",
      "Try using .loc[row_indexer,col_indexer] = value instead\n",
      "\n",
      "See the caveats in the documentation: https://pandas.pydata.org/pandas-docs/stable/user_guide/indexing.html#returning-a-view-versus-a-copy\n",
      "  prediction['Group'] = gs\n"
     ]
    },
    {
     "name": "stdout",
     "output_type": "stream",
     "text": [
      "ME scores:  {'precision': 0.68, 'recall': 0.6538461538461539, 'fmeasure (percentage)': 66.667}\n",
      "PB scores:  {'precision': 0.009061114324272219, 'recall': 0.2, 'fmeasure (percentage)': 1.734}\n",
      "HB scores:  {'precision': 0.9736842105263158, 'recall': 0.7824773413897281, 'fmeasure (percentage)': 86.767}\n"
     ]
    },
    {
     "name": "stderr",
     "output_type": "stream",
     "text": [
      "/home/john/gits/dcase-bioacoustics-2022/post_processing.py:58: SettingWithCopyWarning: \n",
      "A value is trying to be set on a copy of a slice from a DataFrame.\n",
      "Try using .loc[row_indexer,col_indexer] = value instead\n",
      "\n",
      "See the caveats in the documentation: https://pandas.pydata.org/pandas-docs/stable/user_guide/indexing.html#returning-a-view-versus-a-copy\n",
      "  prediction['Group'] = gs\n"
     ]
    },
    {
     "name": "stdout",
     "output_type": "stream",
     "text": [
      "ME scores:  {'precision': 0.7441860465116279, 'recall': 0.6153846153846154, 'fmeasure (percentage)': 67.368}\n",
      "PB scores:  {'precision': 0.043859649122807015, 'recall': 0.2127659574468085, 'fmeasure (percentage)': 7.273}\n",
      "HB scores:  {'precision': 0.9659735349716446, 'recall': 0.7719033232628398, 'fmeasure (percentage)': 85.81}\n"
     ]
    },
    {
     "name": "stderr",
     "output_type": "stream",
     "text": [
      "/home/john/gits/dcase-bioacoustics-2022/post_processing.py:58: SettingWithCopyWarning: \n",
      "A value is trying to be set on a copy of a slice from a DataFrame.\n",
      "Try using .loc[row_indexer,col_indexer] = value instead\n",
      "\n",
      "See the caveats in the documentation: https://pandas.pydata.org/pandas-docs/stable/user_guide/indexing.html#returning-a-view-versus-a-copy\n",
      "  prediction['Group'] = gs\n"
     ]
    },
    {
     "name": "stdout",
     "output_type": "stream",
     "text": [
      "ME scores:  {'precision': 0.8108108108108109, 'recall': 0.5769230769230769, 'fmeasure (percentage)': 67.416}\n",
      "PB scores:  {'precision': 0.38620689655172413, 'recall': 0.23829787234042554, 'fmeasure (percentage)': 29.474}\n",
      "HB scores:  {'precision': 0.9420560747663551, 'recall': 0.7613293051359517, 'fmeasure (percentage)': 84.211}\n"
     ]
    },
    {
     "name": "stderr",
     "output_type": "stream",
     "text": [
      "/home/john/gits/dcase-bioacoustics-2022/post_processing.py:58: SettingWithCopyWarning: \n",
      "A value is trying to be set on a copy of a slice from a DataFrame.\n",
      "Try using .loc[row_indexer,col_indexer] = value instead\n",
      "\n",
      "See the caveats in the documentation: https://pandas.pydata.org/pandas-docs/stable/user_guide/indexing.html#returning-a-view-versus-a-copy\n",
      "  prediction['Group'] = gs\n"
     ]
    },
    {
     "name": "stdout",
     "output_type": "stream",
     "text": [
      "ME scores:  {'precision': 0.9032258064516129, 'recall': 0.5384615384615384, 'fmeasure (percentage)': 67.47}\n",
      "PB scores:  {'precision': 0.6545454545454545, 'recall': 0.15, 'fmeasure (percentage)': 24.407}\n",
      "HB scores:  {'precision': 0.9253731343283582, 'recall': 0.7492447129909365, 'fmeasure (percentage)': 82.805}\n"
     ]
    },
    {
     "name": "stderr",
     "output_type": "stream",
     "text": [
      "/home/john/gits/dcase-bioacoustics-2022/post_processing.py:58: SettingWithCopyWarning: \n",
      "A value is trying to be set on a copy of a slice from a DataFrame.\n",
      "Try using .loc[row_indexer,col_indexer] = value instead\n",
      "\n",
      "See the caveats in the documentation: https://pandas.pydata.org/pandas-docs/stable/user_guide/indexing.html#returning-a-view-versus-a-copy\n",
      "  prediction['Group'] = gs\n"
     ]
    },
    {
     "name": "stdout",
     "output_type": "stream",
     "text": [
      "ME scores:  {'precision': 0.9166666666666666, 'recall': 0.4230769230769231, 'fmeasure (percentage)': 57.895}\n",
      "PB scores:  {'precision': 0.7142857142857143, 'recall': 0.12, 'fmeasure (percentage)': 20.548}\n",
      "HB scores:  {'precision': 0.8844036697247707, 'recall': 0.7280966767371602, 'fmeasure (percentage)': 79.867}\n"
     ]
    },
    {
     "name": "stderr",
     "output_type": "stream",
     "text": [
      "/home/john/gits/dcase-bioacoustics-2022/post_processing.py:58: SettingWithCopyWarning: \n",
      "A value is trying to be set on a copy of a slice from a DataFrame.\n",
      "Try using .loc[row_indexer,col_indexer] = value instead\n",
      "\n",
      "See the caveats in the documentation: https://pandas.pydata.org/pandas-docs/stable/user_guide/indexing.html#returning-a-view-versus-a-copy\n",
      "  prediction['Group'] = gs\n"
     ]
    },
    {
     "name": "stdout",
     "output_type": "stream",
     "text": [
      "ME scores:  {'precision': 0.95, 'recall': 0.36538461538461536, 'fmeasure (percentage)': 52.778}\n",
      "PB scores:  {'precision': 0.7368421052631579, 'recall': 0.056, 'fmeasure (percentage)': 10.409}\n",
      "HB scores:  {'precision': 0.8183453237410072, 'recall': 0.6873111782477341, 'fmeasure (percentage)': 74.713}\n",
      "Ensemble (hop size small) max f-measure = 0.4947482085010307\n"
     ]
    },
    {
     "data": {
      "image/png": "[encoded data removed]",
      "text/plain": [
       "<Figure size 432x288 with 1 Axes>"
      ]
     },
     "execution_count": 7,
     "metadata": {},
     "output_type": "execute_result"
    },
    {
     "data": {
      "image/png": "[encoded data removed]",
      "text/plain": [
       "<Figure size 432x288 with 1 Axes>"
      ]
     },
     "metadata": {
      "needs_background": "light"
     },
     "output_type": "display_data"
    }
   ],
   "source": [
    "sample_rate = 22050\n",
    "root_dir = '/mnt/storage_1/datasets/bioacoustics_dcase2022/Development_Set_{}Hz/Validation_Set/'.format(sample_rate)\n",
    "csv_paths_me = glob.glob(os.path.join(root_dir, 'ME/*.csv'))\n",
    "csv_paths_pb = glob.glob(os.path.join(root_dir, 'PB/*.csv'))\n",
    "csv_paths_hb = glob.glob(os.path.join(root_dir, 'HB/*.csv'))\n",
    "csv_paths = csv_paths_me + csv_paths_hb + csv_paths_pb\n",
    "\n",
    "configs = [\n",
    "    {\n",
    "        'thrs'               : [0.1, 0.2, 0.3, 0.4, 0.5, 0.6, 0.7, 0.8, 0.9],\n",
    "        'runs'               : [0,1,2,3,4],\n",
    "        'tfs'                : ['tf_decibel', 'tf_pcen_biodiversity', 'tf_pcen_speech'],\n",
    "        'adaptive_embedding' : True,\n",
    "        'stats_group'        : 0,\n",
    "        'label'              : 'Ensemble',\n",
    "        'experiment_dir'     : '../experiments/final_ensemble/',\n",
    "        'hop_size_fraction'  : 2,\n",
    "    },\n",
    "    {\n",
    "        'thrs'               : [0.1, 0.2, 0.3, 0.4, 0.5, 0.6, 0.7, 0.8, 0.9],\n",
    "        'runs'               : [0,1,2,3,4],\n",
    "        'tfs'                : ['tf_decibel', 'tf_pcen_biodiversity', 'tf_pcen_speech'],\n",
    "        'adaptive_embedding' : True,\n",
    "        'stats_group'        : 0,\n",
    "        'label'              : 'Ensemble (hop size small)',\n",
    "        'experiment_dir'     : '../experiments/final_ensemble/',\n",
    "        'hop_size_fraction'  : 4,\n",
    "    },\n",
    "]\n",
    "\n",
    "evaluate_and_plot(configs)"
   ]
  },
  {
   "cell_type": "code",
   "execution_count": null,
   "id": "heated-choice",
   "metadata": {},
   "outputs": [],
   "source": []
  },
  {
   "cell_type": "code",
   "execution_count": null,
   "id": "expensive-taiwan",
   "metadata": {},
   "outputs": [],
   "source": []
  },
  {
   "cell_type": "code",
   "execution_count": null,
   "id": "separate-chemistry",
   "metadata": {},
   "outputs": [],
   "source": []
  },
  {
   "cell_type": "code",
   "execution_count": null,
   "id": "spare-rebecca",
   "metadata": {},
   "outputs": [],
   "source": []
  },
  {
   "cell_type": "code",
   "execution_count": null,
   "id": "restricted-track",
   "metadata": {},
   "outputs": [],
   "source": []
  },
  {
   "cell_type": "code",
   "execution_count": null,
   "id": "governmental-holocaust",
   "metadata": {},
   "outputs": [],
   "source": []
  },
  {
   "cell_type": "code",
   "execution_count": null,
   "id": "forty-squad",
   "metadata": {},
   "outputs": [],
   "source": []
  },
  {
   "cell_type": "code",
   "execution_count": null,
   "id": "sitting-california",
   "metadata": {},
   "outputs": [],
   "source": []
  },
  {
   "cell_type": "code",
   "execution_count": null,
   "id": "orange-warrant",
   "metadata": {},
   "outputs": [],
   "source": []
  },
  {
   "cell_type": "code",
   "execution_count": null,
   "id": "facial-pittsburgh",
   "metadata": {},
   "outputs": [],
   "source": []
  }
 ],
 "metadata": {
  "kernelspec": {
   "display_name": "Python 3",
   "language": "python",
   "name": "python3"
  },
  "language_info": {
   "codemirror_mode": {
    "name": "ipython",
    "version": 3
   },
   "file_extension": ".py",
   "mimetype": "text/x-python",
   "name": "python",
   "nbconvert_exporter": "python",
   "pygments_lexer": "ipython3",
   "version": "3.7.9"
  }
 },
 "nbformat": 4,
 "nbformat_minor": 5
}
